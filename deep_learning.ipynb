{
  "nbformat": 4,
  "nbformat_minor": 0,
  "metadata": {
    "colab": {
      "provenance": [],
      "gpuType": "T4",
      "include_colab_link": true
    },
    "kernelspec": {
      "name": "python3",
      "display_name": "Python 3"
    },
    "language_info": {
      "name": "python"
    },
    "accelerator": "GPU"
  },
  "cells": [
    {
      "cell_type": "markdown",
      "metadata": {
        "id": "view-in-github",
        "colab_type": "text"
      },
      "source": [
        "<a href=\"https://colab.research.google.com/github/leman-cap13/kaggle_datasets_/blob/main/deep_learning.ipynb\" target=\"_parent\"><img src=\"https://colab.research.google.com/assets/colab-badge.svg\" alt=\"Open In Colab\"/></a>"
      ]
    },
    {
      "cell_type": "code",
      "execution_count": null,
      "metadata": {
        "id": "XPwZxywcaoSS",
        "colab": {
          "base_uri": "https://localhost:8080/"
        },
        "outputId": "553c783f-0c4e-4084-f2c9-0579f1dd7c7c"
      },
      "outputs": [
        {
          "output_type": "stream",
          "name": "stdout",
          "text": [
            "Downloading data from https://storage.googleapis.com/tensorflow/tf-keras-datasets/train-labels-idx1-ubyte.gz\n",
            "\u001b[1m29515/29515\u001b[0m \u001b[32m━━━━━━━━━━━━━━━━━━━━\u001b[0m\u001b[37m\u001b[0m \u001b[1m0s\u001b[0m 0us/step\n",
            "Downloading data from https://storage.googleapis.com/tensorflow/tf-keras-datasets/train-images-idx3-ubyte.gz\n",
            "\u001b[1m26421880/26421880\u001b[0m \u001b[32m━━━━━━━━━━━━━━━━━━━━\u001b[0m\u001b[37m\u001b[0m \u001b[1m1s\u001b[0m 0us/step\n",
            "Downloading data from https://storage.googleapis.com/tensorflow/tf-keras-datasets/t10k-labels-idx1-ubyte.gz\n",
            "\u001b[1m5148/5148\u001b[0m \u001b[32m━━━━━━━━━━━━━━━━━━━━\u001b[0m\u001b[37m\u001b[0m \u001b[1m0s\u001b[0m 0us/step\n",
            "Downloading data from https://storage.googleapis.com/tensorflow/tf-keras-datasets/t10k-images-idx3-ubyte.gz\n",
            "\u001b[1m4422102/4422102\u001b[0m \u001b[32m━━━━━━━━━━━━━━━━━━━━\u001b[0m\u001b[37m\u001b[0m \u001b[1m1s\u001b[0m 0us/step\n"
          ]
        }
      ],
      "source": [
        "import tensorflow as tf\n",
        "\n",
        "fashion_mnist=tf.keras.datasets.fashion_mnist.load_data()\n",
        "(X_train_full,y_train_full),(X_test,y_test)=fashion_mnist\n",
        "X_train,y_train=X_train_full[:-5000],y_train_full[:-5000]\n",
        "X_valid,y_valid=X_train_full[-5000:],y_train_full[-5000:]"
      ]
    },
    {
      "cell_type": "code",
      "source": [
        "X_train.shape"
      ],
      "metadata": {
        "colab": {
          "base_uri": "https://localhost:8080/"
        },
        "id": "YEZH8ykPpBzv",
        "outputId": "e0bb5c5b-a2f4-45a0-e35d-f0c28039ab47"
      },
      "execution_count": null,
      "outputs": [
        {
          "output_type": "execute_result",
          "data": {
            "text/plain": [
              "(55000, 28, 28)"
            ]
          },
          "metadata": {},
          "execution_count": 2
        }
      ]
    },
    {
      "cell_type": "code",
      "source": [
        "X_train.dtype"
      ],
      "metadata": {
        "colab": {
          "base_uri": "https://localhost:8080/"
        },
        "id": "9TrRkLUNpBwf",
        "outputId": "067378d1-9687-4bca-d6d8-952435f0ce6e"
      },
      "execution_count": null,
      "outputs": [
        {
          "output_type": "execute_result",
          "data": {
            "text/plain": [
              "dtype('uint8')"
            ]
          },
          "metadata": {},
          "execution_count": 3
        }
      ]
    },
    {
      "cell_type": "markdown",
      "source": [
        " 1 piksel 0 ile 255 arasi"
      ],
      "metadata": {
        "id": "yopCnxZBpYeR"
      }
    },
    {
      "cell_type": "code",
      "source": [
        "X_train,X_valid,X_test=X_train/255.,X_valid/255.,X_test/255."
      ],
      "metadata": {
        "id": "7UOCMkO8pSML"
      },
      "execution_count": null,
      "outputs": []
    },
    {
      "cell_type": "code",
      "source": [
        "import matplotlib.pyplot as plt\n",
        "\n",
        "plt.imshow(X_train[44],cmap='binary')\n",
        "plt.axis('off')\n",
        "plt.show()"
      ],
      "metadata": {
        "colab": {
          "base_uri": "https://localhost:8080/",
          "height": 406
        },
        "id": "CCvUpsgRpyhE",
        "outputId": "7c4364b0-7327-4433-dc5d-1d561a2e5f02"
      },
      "execution_count": null,
      "outputs": [
        {
          "output_type": "display_data",
          "data": {
            "text/plain": [
              "<Figure size 640x480 with 1 Axes>"
            ],
            "image/png": "[encoded data removed]"
          },
          "metadata": {}
        }
      ]
    },
    {
      "cell_type": "code",
      "source": [
        "y_train"
      ],
      "metadata": {
        "colab": {
          "base_uri": "https://localhost:8080/"
        },
        "id": "VW32_cbwqBUc",
        "outputId": "f6dd71a0-6a81-4d35-fd81-6854e2b3ad79"
      },
      "execution_count": null,
      "outputs": [
        {
          "output_type": "execute_result",
          "data": {
            "text/plain": [
              "array([9, 0, 0, ..., 9, 0, 2], dtype=uint8)"
            ]
          },
          "metadata": {},
          "execution_count": 6
        }
      ]
    },
    {
      "cell_type": "code",
      "source": [
        "class_names=['t-shirt/top','trouser','pullover','dress','coat','sandal','shirt','sneaker','bag','ankle boot']"
      ],
      "metadata": {
        "id": "pksDZrbHqZBm"
      },
      "execution_count": null,
      "outputs": []
    },
    {
      "cell_type": "code",
      "source": [
        "n_rows=4\n",
        "n_cols=10\n",
        "plt.figure(figsize=(n_cols*1.2,n_rows*1.2))\n",
        "for row in range(n_rows):\n",
        "  for col in range(n_cols):\n",
        "    index=n_cols*row+col\n",
        "    plt.subplot(n_rows,n_cols,index+1)\n",
        "    plt.imshow(X_train[index],cmap='binary',interpolation='nearest')\n",
        "    plt.axis('off')\n",
        "    plt.title(class_names[y_train[index]])\n",
        "plt.subplots_adjust(wspace=0.2,hspace=0.5)\n",
        "plt.show()\n"
      ],
      "metadata": {
        "colab": {
          "base_uri": "https://localhost:8080/",
          "height": 428
        },
        "id": "TrhpYNEXq05o",
        "outputId": "5ee9ef92-e5dd-4e41-bb13-a56d9f4d6559"
      },
      "execution_count": null,
      "outputs": [
        {
          "output_type": "display_data",
          "data": {
            "text/plain": [
              "<Figure size 1200x480 with 40 Axes>"
            ],
            "image/png": "[encoded data removed]"
          },
          "metadata": {}
        }
      ]
    },
    {
      "cell_type": "code",
      "source": [
        "tf.random.set_seed(42)\n",
        "tf.keras.backend.clear_session()\n",
        "\n",
        "model=tf.keras.Sequential()\n",
        "model.add(tf.keras.layers.Input(shape=[28,28]))\n",
        "model.add(tf.keras.layers.Flatten())\n",
        "model.add(tf.keras.layers.Dense(300,activation='relu'))\n",
        "model.add(tf.keras.layers.Dense(100,activation='relu'))\n",
        "model.add(tf.keras.layers.Dense(10,activation='softmax'))"
      ],
      "metadata": {
        "id": "OEnq9RwFsBZA"
      },
      "execution_count": null,
      "outputs": []
    },
    {
      "cell_type": "code",
      "source": [
        "model.summary()"
      ],
      "metadata": {
        "colab": {
          "base_uri": "https://localhost:8080/",
          "height": 257
        },
        "id": "MafTKzQgsegK",
        "outputId": "ca21a049-e496-4446-e782-ea5e74926358"
      },
      "execution_count": null,
      "outputs": [
        {
          "output_type": "display_data",
          "data": {
            "text/plain": [
              "\u001b[1mModel: \"sequential\"\u001b[0m\n"
            ],
            "text/html": [
              "<pre style=\"white-space:pre;overflow-x:auto;line-height:normal;font-family:Menlo,'DejaVu Sans Mono',consolas,'Courier New',monospace\"><span style=\"font-weight: bold\">Model: \"sequential\"</span>\n",
              "</pre>\n"
            ]
          },
          "metadata": {}
        },
        {
          "output_type": "display_data",
          "data": {
            "text/plain": [
              "┏━━━━━━━━━━━━━━━━━━━━━━━━━━━━━━━━━━━━━━┳━━━━━━━━━━━━━━━━━━━━━━━━━━━━━┳━━━━━━━━━━━━━━━━━┓\n",
              "┃\u001b[1m \u001b[0m\u001b[1mLayer (type)                        \u001b[0m\u001b[1m \u001b[0m┃\u001b[1m \u001b[0m\u001b[1mOutput Shape               \u001b[0m\u001b[1m \u001b[0m┃\u001b[1m \u001b[0m\u001b[1m        Param #\u001b[0m\u001b[1m \u001b[0m┃\n",
              "┡━━━━━━━━━━━━━━━━━━━━━━━━━━━━━━━━━━━━━━╇━━━━━━━━━━━━━━━━━━━━━━━━━━━━━╇━━━━━━━━━━━━━━━━━┩\n",
              "│ flatten (\u001b[38;5;33mFlatten\u001b[0m)                    │ (\u001b[38;5;45mNone\u001b[0m, \u001b[38;5;34m784\u001b[0m)                 │               \u001b[38;5;34m0\u001b[0m │\n",
              "├──────────────────────────────────────┼─────────────────────────────┼─────────────────┤\n",
              "│ dense (\u001b[38;5;33mDense\u001b[0m)                        │ (\u001b[38;5;45mNone\u001b[0m, \u001b[38;5;34m300\u001b[0m)                 │         \u001b[38;5;34m235,500\u001b[0m │\n",
              "├──────────────────────────────────────┼─────────────────────────────┼─────────────────┤\n",
              "│ dense_1 (\u001b[38;5;33mDense\u001b[0m)                      │ (\u001b[38;5;45mNone\u001b[0m, \u001b[38;5;34m100\u001b[0m)                 │          \u001b[38;5;34m30,100\u001b[0m │\n",
              "├──────────────────────────────────────┼─────────────────────────────┼─────────────────┤\n",
              "│ dense_2 (\u001b[38;5;33mDense\u001b[0m)                      │ (\u001b[38;5;45mNone\u001b[0m, \u001b[38;5;34m10\u001b[0m)                  │           \u001b[38;5;34m1,010\u001b[0m │\n",
              "└──────────────────────────────────────┴─────────────────────────────┴─────────────────┘\n"
            ],
            "text/html": [
              "<pre style=\"white-space:pre;overflow-x:auto;line-height:normal;font-family:Menlo,'DejaVu Sans Mono',consolas,'Courier New',monospace\">┏━━━━━━━━━━━━━━━━━━━━━━━━━━━━━━━━━━━━━━┳━━━━━━━━━━━━━━━━━━━━━━━━━━━━━┳━━━━━━━━━━━━━━━━━┓\n",
              "┃<span style=\"font-weight: bold\"> Layer (type)                         </span>┃<span style=\"font-weight: bold\"> Output Shape                </span>┃<span style=\"font-weight: bold\">         Param # </span>┃\n",
              "┡━━━━━━━━━━━━━━━━━━━━━━━━━━━━━━━━━━━━━━╇━━━━━━━━━━━━━━━━━━━━━━━━━━━━━╇━━━━━━━━━━━━━━━━━┩\n",
              "│ flatten (<span style=\"color: #0087ff; text-decoration-color: #0087ff\">Flatten</span>)                    │ (<span style=\"color: #00d7ff; text-decoration-color: #00d7ff\">None</span>, <span style=\"color: #00af00; text-decoration-color: #00af00\">784</span>)                 │               <span style=\"color: #00af00; text-decoration-color: #00af00\">0</span> │\n",
              "├──────────────────────────────────────┼─────────────────────────────┼─────────────────┤\n",
              "│ dense (<span style=\"color: #0087ff; text-decoration-color: #0087ff\">Dense</span>)                        │ (<span style=\"color: #00d7ff; text-decoration-color: #00d7ff\">None</span>, <span style=\"color: #00af00; text-decoration-color: #00af00\">300</span>)                 │         <span style=\"color: #00af00; text-decoration-color: #00af00\">235,500</span> │\n",
              "├──────────────────────────────────────┼─────────────────────────────┼─────────────────┤\n",
              "│ dense_1 (<span style=\"color: #0087ff; text-decoration-color: #0087ff\">Dense</span>)                      │ (<span style=\"color: #00d7ff; text-decoration-color: #00d7ff\">None</span>, <span style=\"color: #00af00; text-decoration-color: #00af00\">100</span>)                 │          <span style=\"color: #00af00; text-decoration-color: #00af00\">30,100</span> │\n",
              "├──────────────────────────────────────┼─────────────────────────────┼─────────────────┤\n",
              "│ dense_2 (<span style=\"color: #0087ff; text-decoration-color: #0087ff\">Dense</span>)                      │ (<span style=\"color: #00d7ff; text-decoration-color: #00d7ff\">None</span>, <span style=\"color: #00af00; text-decoration-color: #00af00\">10</span>)                  │           <span style=\"color: #00af00; text-decoration-color: #00af00\">1,010</span> │\n",
              "└──────────────────────────────────────┴─────────────────────────────┴─────────────────┘\n",
              "</pre>\n"
            ]
          },
          "metadata": {}
        },
        {
          "output_type": "display_data",
          "data": {
            "text/plain": [
              "\u001b[1m Total params: \u001b[0m\u001b[38;5;34m266,610\u001b[0m (1.02 MB)\n"
            ],
            "text/html": [
              "<pre style=\"white-space:pre;overflow-x:auto;line-height:normal;font-family:Menlo,'DejaVu Sans Mono',consolas,'Courier New',monospace\"><span style=\"font-weight: bold\"> Total params: </span><span style=\"color: #00af00; text-decoration-color: #00af00\">266,610</span> (1.02 MB)\n",
              "</pre>\n"
            ]
          },
          "metadata": {}
        },
        {
          "output_type": "display_data",
          "data": {
            "text/plain": [
              "\u001b[1m Trainable params: \u001b[0m\u001b[38;5;34m266,610\u001b[0m (1.02 MB)\n"
            ],
            "text/html": [
              "<pre style=\"white-space:pre;overflow-x:auto;line-height:normal;font-family:Menlo,'DejaVu Sans Mono',consolas,'Courier New',monospace\"><span style=\"font-weight: bold\"> Trainable params: </span><span style=\"color: #00af00; text-decoration-color: #00af00\">266,610</span> (1.02 MB)\n",
              "</pre>\n"
            ]
          },
          "metadata": {}
        },
        {
          "output_type": "display_data",
          "data": {
            "text/plain": [
              "\u001b[1m Non-trainable params: \u001b[0m\u001b[38;5;34m0\u001b[0m (0.00 B)\n"
            ],
            "text/html": [
              "<pre style=\"white-space:pre;overflow-x:auto;line-height:normal;font-family:Menlo,'DejaVu Sans Mono',consolas,'Courier New',monospace\"><span style=\"font-weight: bold\"> Non-trainable params: </span><span style=\"color: #00af00; text-decoration-color: #00af00\">0</span> (0.00 B)\n",
              "</pre>\n"
            ]
          },
          "metadata": {}
        }
      ]
    },
    {
      "cell_type": "code",
      "source": [
        "tf.random.set_seed(42)\n",
        "tf.keras.backend.clear_session()\n",
        "\n",
        "model=tf.keras.Sequential([\n",
        "    tf.keras.layers.Input(shape=[28,28]),\n",
        "    tf.keras.layers.Flatten(),\n",
        "    tf.keras.layers.Dense(300,activation='relu'),\n",
        "    tf.keras.layers.Dense(100,activation='relu'),\n",
        "    tf.keras.layers.Dense(10,activation='softmax')\n",
        "\n",
        "])"
      ],
      "metadata": {
        "id": "lMgoKyGxseat"
      },
      "execution_count": null,
      "outputs": []
    },
    {
      "cell_type": "code",
      "source": [
        "tf.keras.utils.plot_model(model,show_shapes=True,dpi=100)"
      ],
      "metadata": {
        "colab": {
          "base_uri": "https://localhost:8080/",
          "height": 645
        },
        "id": "sA1H1sH7xbeJ",
        "outputId": "8fcf6280-54cc-44ea-e8f9-5112f603a0a2"
      },
      "execution_count": null,
      "outputs": [
        {
          "output_type": "execute_result",
          "data": {
            "image/png": "[encoded data removed]",
            "text/plain": [
              "<IPython.core.display.Image object>"
            ]
          },
          "metadata": {},
          "execution_count": 12
        }
      ]
    },
    {
      "cell_type": "code",
      "source": [
        "model.layers"
      ],
      "metadata": {
        "colab": {
          "base_uri": "https://localhost:8080/"
        },
        "id": "VWhC5VfGxmSu",
        "outputId": "15ee68e1-4715-499c-e604-9f9a6a8096ea"
      },
      "execution_count": null,
      "outputs": [
        {
          "output_type": "execute_result",
          "data": {
            "text/plain": [
              "[<Flatten name=flatten, built=True>,\n",
              " <Dense name=dense, built=True>,\n",
              " <Dense name=dense_1, built=True>,\n",
              " <Dense name=dense_2, built=True>]"
            ]
          },
          "metadata": {},
          "execution_count": 13
        }
      ]
    },
    {
      "cell_type": "code",
      "source": [
        "hidden1=model.layers[1]\n",
        "hidden1.name"
      ],
      "metadata": {
        "colab": {
          "base_uri": "https://localhost:8080/",
          "height": 35
        },
        "id": "Nk_omb33x-mq",
        "outputId": "c0ff9007-ac05-4bfa-a51d-4241e05113a3"
      },
      "execution_count": null,
      "outputs": [
        {
          "output_type": "execute_result",
          "data": {
            "text/plain": [
              "'dense'"
            ],
            "application/vnd.google.colaboratory.intrinsic+json": {
              "type": "string"
            }
          },
          "metadata": {},
          "execution_count": 14
        }
      ]
    },
    {
      "cell_type": "code",
      "source": [
        "model.get_layer('dense') is hidden1"
      ],
      "metadata": {
        "colab": {
          "base_uri": "https://localhost:8080/"
        },
        "id": "MUOz3X2gyEJR",
        "outputId": "686686ed-caa7-4def-9abe-667e16f8ca46"
      },
      "execution_count": null,
      "outputs": [
        {
          "output_type": "execute_result",
          "data": {
            "text/plain": [
              "True"
            ]
          },
          "metadata": {},
          "execution_count": 15
        }
      ]
    },
    {
      "cell_type": "code",
      "source": [
        "weights,biases=hidden1.get_weights()\n",
        "weights"
      ],
      "metadata": {
        "colab": {
          "base_uri": "https://localhost:8080/"
        },
        "id": "wj8d2dZ1yLWv",
        "outputId": "cd777dd0-0b72-449f-cb54-0bba98bec350"
      },
      "execution_count": null,
      "outputs": [
        {
          "output_type": "execute_result",
          "data": {
            "text/plain": [
              "array([[ 0.0338384 , -0.07103785, -0.03942328, ..., -0.04691196,\n",
              "        -0.0049895 , -0.06117486],\n",
              "       [ 0.04095393, -0.07118507, -0.00472379, ..., -0.06281925,\n",
              "        -0.00889802, -0.02880624],\n",
              "       [-0.0338923 ,  0.01635863, -0.04476015, ..., -0.05091865,\n",
              "         0.06856434,  0.052112  ],\n",
              "       ...,\n",
              "       [-0.0229354 , -0.04467107, -0.03009183, ..., -0.06520316,\n",
              "        -0.02843511,  0.04528756],\n",
              "       [ 0.0113835 , -0.05685312,  0.04699706, ...,  0.04170964,\n",
              "        -0.04967137,  0.03380853],\n",
              "       [-0.06436902,  0.00405367,  0.05713074, ...,  0.02187633,\n",
              "         0.01333147, -0.05374637]], dtype=float32)"
            ]
          },
          "metadata": {},
          "execution_count": 16
        }
      ]
    },
    {
      "cell_type": "code",
      "source": [
        "weights.shape"
      ],
      "metadata": {
        "colab": {
          "base_uri": "https://localhost:8080/"
        },
        "id": "1MDFRyXPyh0V",
        "outputId": "7648ad00-8a30-48f5-acfe-57b0a00e1fba"
      },
      "execution_count": null,
      "outputs": [
        {
          "output_type": "execute_result",
          "data": {
            "text/plain": [
              "(784, 300)"
            ]
          },
          "metadata": {},
          "execution_count": 17
        }
      ]
    },
    {
      "cell_type": "code",
      "source": [
        "biases.shape"
      ],
      "metadata": {
        "colab": {
          "base_uri": "https://localhost:8080/"
        },
        "id": "hIOysOCBykvh",
        "outputId": "be258def-1ca5-49d1-cfda-d39fe2584955"
      },
      "execution_count": null,
      "outputs": [
        {
          "output_type": "execute_result",
          "data": {
            "text/plain": [
              "(300,)"
            ]
          },
          "metadata": {},
          "execution_count": 18
        }
      ]
    },
    {
      "cell_type": "code",
      "source": [
        "biases"
      ],
      "metadata": {
        "colab": {
          "base_uri": "https://localhost:8080/"
        },
        "id": "VQGPERSOzvgY",
        "outputId": "3920d3f5-c691-4e3f-cbf9-8ec71de81105"
      },
      "execution_count": null,
      "outputs": [
        {
          "output_type": "execute_result",
          "data": {
            "text/plain": [
              "array([0., 0., 0., 0., 0., 0., 0., 0., 0., 0., 0., 0., 0., 0., 0., 0., 0.,\n",
              "       0., 0., 0., 0., 0., 0., 0., 0., 0., 0., 0., 0., 0., 0., 0., 0., 0.,\n",
              "       0., 0., 0., 0., 0., 0., 0., 0., 0., 0., 0., 0., 0., 0., 0., 0., 0.,\n",
              "       0., 0., 0., 0., 0., 0., 0., 0., 0., 0., 0., 0., 0., 0., 0., 0., 0.,\n",
              "       0., 0., 0., 0., 0., 0., 0., 0., 0., 0., 0., 0., 0., 0., 0., 0., 0.,\n",
              "       0., 0., 0., 0., 0., 0., 0., 0., 0., 0., 0., 0., 0., 0., 0., 0., 0.,\n",
              "       0., 0., 0., 0., 0., 0., 0., 0., 0., 0., 0., 0., 0., 0., 0., 0., 0.,\n",
              "       0., 0., 0., 0., 0., 0., 0., 0., 0., 0., 0., 0., 0., 0., 0., 0., 0.,\n",
              "       0., 0., 0., 0., 0., 0., 0., 0., 0., 0., 0., 0., 0., 0., 0., 0., 0.,\n",
              "       0., 0., 0., 0., 0., 0., 0., 0., 0., 0., 0., 0., 0., 0., 0., 0., 0.,\n",
              "       0., 0., 0., 0., 0., 0., 0., 0., 0., 0., 0., 0., 0., 0., 0., 0., 0.,\n",
              "       0., 0., 0., 0., 0., 0., 0., 0., 0., 0., 0., 0., 0., 0., 0., 0., 0.,\n",
              "       0., 0., 0., 0., 0., 0., 0., 0., 0., 0., 0., 0., 0., 0., 0., 0., 0.,\n",
              "       0., 0., 0., 0., 0., 0., 0., 0., 0., 0., 0., 0., 0., 0., 0., 0., 0.,\n",
              "       0., 0., 0., 0., 0., 0., 0., 0., 0., 0., 0., 0., 0., 0., 0., 0., 0.,\n",
              "       0., 0., 0., 0., 0., 0., 0., 0., 0., 0., 0., 0., 0., 0., 0., 0., 0.,\n",
              "       0., 0., 0., 0., 0., 0., 0., 0., 0., 0., 0., 0., 0., 0., 0., 0., 0.,\n",
              "       0., 0., 0., 0., 0., 0., 0., 0., 0., 0., 0.], dtype=float32)"
            ]
          },
          "metadata": {},
          "execution_count": 19
        }
      ]
    },
    {
      "cell_type": "markdown",
      "source": [
        "#Compiling the model"
      ],
      "metadata": {
        "id": "gqh8vxs0zwuA"
      }
    },
    {
      "cell_type": "code",
      "source": [
        "model.compile(\n",
        "    loss='sparse_categorical_crossentropy',\n",
        "    optimizer='sgd',\n",
        "    metrics=['accuracy']\n",
        ")"
      ],
      "metadata": {
        "id": "Sw7X-y8R0Rcc"
      },
      "execution_count": null,
      "outputs": []
    },
    {
      "cell_type": "markdown",
      "source": [
        "'sparse_categorical_crossentropy'\n",
        " categorical_crossentropy"
      ],
      "metadata": {
        "id": "oTHKSGHh2E-l"
      }
    },
    {
      "cell_type": "code",
      "source": [
        "model.compile(\n",
        "    loss=tf.keras.losses.sparse_categorical_crossentropy,\n",
        "    optimizer=tf.keras.optimizers.SGD(),\n",
        "    metrics=[tf.keras.metrics.sparse_categorical_accuracy]\n",
        ")"
      ],
      "metadata": {
        "id": "kJnt9Diu0fcy"
      },
      "execution_count": null,
      "outputs": []
    },
    {
      "cell_type": "code",
      "source": [
        "tf.keras.utils.to_categorical([0,5,1,0],num_classes=10)"
      ],
      "metadata": {
        "colab": {
          "base_uri": "https://localhost:8080/"
        },
        "id": "Qfb9FYJD05Jn",
        "outputId": "61c6f5c0-e7fb-439c-9549-d4462afd7264"
      },
      "execution_count": null,
      "outputs": [
        {
          "output_type": "execute_result",
          "data": {
            "text/plain": [
              "array([[1., 0., 0., 0., 0., 0., 0., 0., 0., 0.],\n",
              "       [0., 0., 0., 0., 0., 1., 0., 0., 0., 0.],\n",
              "       [0., 1., 0., 0., 0., 0., 0., 0., 0., 0.],\n",
              "       [1., 0., 0., 0., 0., 0., 0., 0., 0., 0.]])"
            ]
          },
          "metadata": {},
          "execution_count": 22
        }
      ]
    },
    {
      "cell_type": "code",
      "source": [
        "import numpy as np\n",
        "np.argmax(\n",
        "    [[1., 0., 0., 0., 0., 0., 0., 0., 0., 0.],\n",
        "       [0., 0., 0., 0., 0., 1., 0., 0., 0., 0.],\n",
        "       [0., 1., 0., 0., 0., 0., 0., 0., 0., 0.],\n",
        "       [1., 0., 0., 0., 0., 0., 0., 0., 0., 0.]],\n",
        "    axis=1\n",
        "\n",
        ")"
      ],
      "metadata": {
        "colab": {
          "base_uri": "https://localhost:8080/"
        },
        "id": "yFnKgdcB2bEA",
        "outputId": "43bdc8b8-90f6-4bbb-fb5a-951cd128b9ed"
      },
      "execution_count": null,
      "outputs": [
        {
          "output_type": "execute_result",
          "data": {
            "text/plain": [
              "array([0, 5, 1, 0])"
            ]
          },
          "metadata": {},
          "execution_count": 23
        }
      ]
    },
    {
      "cell_type": "markdown",
      "source": [
        "# Training and Evaluating model"
      ],
      "metadata": {
        "id": "SBK-qntt20u4"
      }
    },
    {
      "cell_type": "code",
      "source": [
        "history=model.fit(X_train,y_train,epochs=30,validation_data=(X_valid,y_valid))"
      ],
      "metadata": {
        "colab": {
          "base_uri": "https://localhost:8080/"
        },
        "id": "lOFdtfj43Ey6",
        "outputId": "ac4b1426-e7d1-4b1a-a0c7-4cc4f0f57e2c"
      },
      "execution_count": null,
      "outputs": [
        {
          "output_type": "stream",
          "name": "stdout",
          "text": [
            "Epoch 1/30\n",
            "\u001b[1m1719/1719\u001b[0m \u001b[32m━━━━━━━━━━━━━━━━━━━━\u001b[0m\u001b[37m\u001b[0m \u001b[1m9s\u001b[0m 4ms/step - loss: 0.9755 - sparse_categorical_accuracy: 0.6906 - val_loss: 0.5050 - val_sparse_categorical_accuracy: 0.8292\n",
            "Epoch 2/30\n",
            "\u001b[1m1719/1719\u001b[0m \u001b[32m━━━━━━━━━━━━━━━━━━━━\u001b[0m\u001b[37m\u001b[0m \u001b[1m7s\u001b[0m 4ms/step - loss: 0.5028 - sparse_categorical_accuracy: 0.8278 - val_loss: 0.4567 - val_sparse_categorical_accuracy: 0.8398\n",
            "Epoch 3/30\n",
            "\u001b[1m1719/1719\u001b[0m \u001b[32m━━━━━━━━━━━━━━━━━━━━\u001b[0m\u001b[37m\u001b[0m \u001b[1m6s\u001b[0m 4ms/step - loss: 0.4492 - sparse_categorical_accuracy: 0.8450 - val_loss: 0.4332 - val_sparse_categorical_accuracy: 0.8466\n",
            "Epoch 4/30\n",
            "\u001b[1m1719/1719\u001b[0m \u001b[32m━━━━━━━━━━━━━━━━━━━━\u001b[0m\u001b[37m\u001b[0m \u001b[1m6s\u001b[0m 3ms/step - loss: 0.4189 - sparse_categorical_accuracy: 0.8543 - val_loss: 0.4188 - val_sparse_categorical_accuracy: 0.8506\n",
            "Epoch 5/30\n",
            "\u001b[1m1719/1719\u001b[0m \u001b[32m━━━━━━━━━━━━━━━━━━━━\u001b[0m\u001b[37m\u001b[0m \u001b[1m10s\u001b[0m 3ms/step - loss: 0.3970 - sparse_categorical_accuracy: 0.8613 - val_loss: 0.4069 - val_sparse_categorical_accuracy: 0.8544\n",
            "Epoch 6/30\n",
            "\u001b[1m1719/1719\u001b[0m \u001b[32m━━━━━━━━━━━━━━━━━━━━\u001b[0m\u001b[37m\u001b[0m \u001b[1m4s\u001b[0m 2ms/step - loss: 0.3799 - sparse_categorical_accuracy: 0.8672 - val_loss: 0.3971 - val_sparse_categorical_accuracy: 0.8556\n",
            "Epoch 7/30\n",
            "\u001b[1m1719/1719\u001b[0m \u001b[32m━━━━━━━━━━━━━━━━━━━━\u001b[0m\u001b[37m\u001b[0m \u001b[1m5s\u001b[0m 3ms/step - loss: 0.3658 - sparse_categorical_accuracy: 0.8709 - val_loss: 0.3877 - val_sparse_categorical_accuracy: 0.8598\n",
            "Epoch 8/30\n",
            "\u001b[1m1719/1719\u001b[0m \u001b[32m━━━━━━━━━━━━━━━━━━━━\u001b[0m\u001b[37m\u001b[0m \u001b[1m5s\u001b[0m 3ms/step - loss: 0.3532 - sparse_categorical_accuracy: 0.8745 - val_loss: 0.3807 - val_sparse_categorical_accuracy: 0.8616\n",
            "Epoch 9/30\n",
            "\u001b[1m1719/1719\u001b[0m \u001b[32m━━━━━━━━━━━━━━━━━━━━\u001b[0m\u001b[37m\u001b[0m \u001b[1m5s\u001b[0m 3ms/step - loss: 0.3423 - sparse_categorical_accuracy: 0.8781 - val_loss: 0.3749 - val_sparse_categorical_accuracy: 0.8644\n",
            "Epoch 10/30\n",
            "\u001b[1m1719/1719\u001b[0m \u001b[32m━━━━━━━━━━━━━━━━━━━━\u001b[0m\u001b[37m\u001b[0m \u001b[1m5s\u001b[0m 3ms/step - loss: 0.3323 - sparse_categorical_accuracy: 0.8810 - val_loss: 0.3692 - val_sparse_categorical_accuracy: 0.8670\n",
            "Epoch 11/30\n",
            "\u001b[1m1719/1719\u001b[0m \u001b[32m━━━━━━━━━━━━━━━━━━━━\u001b[0m\u001b[37m\u001b[0m \u001b[1m4s\u001b[0m 2ms/step - loss: 0.3233 - sparse_categorical_accuracy: 0.8845 - val_loss: 0.3655 - val_sparse_categorical_accuracy: 0.8694\n",
            "Epoch 12/30\n",
            "\u001b[1m1719/1719\u001b[0m \u001b[32m━━━━━━━━━━━━━━━━━━━━\u001b[0m\u001b[37m\u001b[0m \u001b[1m5s\u001b[0m 3ms/step - loss: 0.3154 - sparse_categorical_accuracy: 0.8873 - val_loss: 0.3639 - val_sparse_categorical_accuracy: 0.8704\n",
            "Epoch 13/30\n",
            "\u001b[1m1719/1719\u001b[0m \u001b[32m━━━━━━━━━━━━━━━━━━━━\u001b[0m\u001b[37m\u001b[0m \u001b[1m5s\u001b[0m 3ms/step - loss: 0.3077 - sparse_categorical_accuracy: 0.8901 - val_loss: 0.3603 - val_sparse_categorical_accuracy: 0.8712\n",
            "Epoch 14/30\n",
            "\u001b[1m1719/1719\u001b[0m \u001b[32m━━━━━━━━━━━━━━━━━━━━\u001b[0m\u001b[37m\u001b[0m \u001b[1m4s\u001b[0m 2ms/step - loss: 0.3007 - sparse_categorical_accuracy: 0.8918 - val_loss: 0.3589 - val_sparse_categorical_accuracy: 0.8710\n",
            "Epoch 15/30\n",
            "\u001b[1m1719/1719\u001b[0m \u001b[32m━━━━━━━━━━━━━━━━━━━━\u001b[0m\u001b[37m\u001b[0m \u001b[1m5s\u001b[0m 3ms/step - loss: 0.2941 - sparse_categorical_accuracy: 0.8936 - val_loss: 0.3574 - val_sparse_categorical_accuracy: 0.8708\n",
            "Epoch 16/30\n",
            "\u001b[1m1719/1719\u001b[0m \u001b[32m━━━━━━━━━━━━━━━━━━━━\u001b[0m\u001b[37m\u001b[0m \u001b[1m4s\u001b[0m 2ms/step - loss: 0.2879 - sparse_categorical_accuracy: 0.8965 - val_loss: 0.3555 - val_sparse_categorical_accuracy: 0.8730\n",
            "Epoch 17/30\n",
            "\u001b[1m1719/1719\u001b[0m \u001b[32m━━━━━━━━━━━━━━━━━━━━\u001b[0m\u001b[37m\u001b[0m \u001b[1m5s\u001b[0m 3ms/step - loss: 0.2819 - sparse_categorical_accuracy: 0.8987 - val_loss: 0.3543 - val_sparse_categorical_accuracy: 0.8720\n",
            "Epoch 18/30\n",
            "\u001b[1m1719/1719\u001b[0m \u001b[32m━━━━━━━━━━━━━━━━━━━━\u001b[0m\u001b[37m\u001b[0m \u001b[1m5s\u001b[0m 3ms/step - loss: 0.2762 - sparse_categorical_accuracy: 0.9006 - val_loss: 0.3529 - val_sparse_categorical_accuracy: 0.8740\n",
            "Epoch 19/30\n",
            "\u001b[1m1719/1719\u001b[0m \u001b[32m━━━━━━━━━━━━━━━━━━━━\u001b[0m\u001b[37m\u001b[0m \u001b[1m4s\u001b[0m 3ms/step - loss: 0.2709 - sparse_categorical_accuracy: 0.9024 - val_loss: 0.3523 - val_sparse_categorical_accuracy: 0.8750\n",
            "Epoch 20/30\n",
            "\u001b[1m1719/1719\u001b[0m \u001b[32m━━━━━━━━━━━━━━━━━━━━\u001b[0m\u001b[37m\u001b[0m \u001b[1m5s\u001b[0m 3ms/step - loss: 0.2656 - sparse_categorical_accuracy: 0.9042 - val_loss: 0.3504 - val_sparse_categorical_accuracy: 0.8752\n",
            "Epoch 21/30\n",
            "\u001b[1m1719/1719\u001b[0m \u001b[32m━━━━━━━━━━━━━━━━━━━━\u001b[0m\u001b[37m\u001b[0m \u001b[1m4s\u001b[0m 3ms/step - loss: 0.2607 - sparse_categorical_accuracy: 0.9057 - val_loss: 0.3509 - val_sparse_categorical_accuracy: 0.8758\n",
            "Epoch 22/30\n",
            "\u001b[1m1719/1719\u001b[0m \u001b[32m━━━━━━━━━━━━━━━━━━━━\u001b[0m\u001b[37m\u001b[0m \u001b[1m5s\u001b[0m 2ms/step - loss: 0.2559 - sparse_categorical_accuracy: 0.9077 - val_loss: 0.3510 - val_sparse_categorical_accuracy: 0.8758\n",
            "Epoch 23/30\n",
            "\u001b[1m1719/1719\u001b[0m \u001b[32m━━━━━━━━━━━━━━━━━━━━\u001b[0m\u001b[37m\u001b[0m \u001b[1m5s\u001b[0m 3ms/step - loss: 0.2512 - sparse_categorical_accuracy: 0.9086 - val_loss: 0.3496 - val_sparse_categorical_accuracy: 0.8766\n",
            "Epoch 24/30\n",
            "\u001b[1m1719/1719\u001b[0m \u001b[32m━━━━━━━━━━━━━━━━━━━━\u001b[0m\u001b[37m\u001b[0m \u001b[1m4s\u001b[0m 2ms/step - loss: 0.2468 - sparse_categorical_accuracy: 0.9105 - val_loss: 0.3500 - val_sparse_categorical_accuracy: 0.8782\n",
            "Epoch 25/30\n",
            "\u001b[1m1719/1719\u001b[0m \u001b[32m━━━━━━━━━━━━━━━━━━━━\u001b[0m\u001b[37m\u001b[0m \u001b[1m6s\u001b[0m 3ms/step - loss: 0.2424 - sparse_categorical_accuracy: 0.9121 - val_loss: 0.3498 - val_sparse_categorical_accuracy: 0.8782\n",
            "Epoch 26/30\n",
            "\u001b[1m1719/1719\u001b[0m \u001b[32m━━━━━━━━━━━━━━━━━━━━\u001b[0m\u001b[37m\u001b[0m \u001b[1m4s\u001b[0m 2ms/step - loss: 0.2383 - sparse_categorical_accuracy: 0.9141 - val_loss: 0.3492 - val_sparse_categorical_accuracy: 0.8758\n",
            "Epoch 27/30\n",
            "\u001b[1m1719/1719\u001b[0m \u001b[32m━━━━━━━━━━━━━━━━━━━━\u001b[0m\u001b[37m\u001b[0m \u001b[1m5s\u001b[0m 3ms/step - loss: 0.2341 - sparse_categorical_accuracy: 0.9155 - val_loss: 0.3480 - val_sparse_categorical_accuracy: 0.8764\n",
            "Epoch 28/30\n",
            "\u001b[1m1719/1719\u001b[0m \u001b[32m━━━━━━━━━━━━━━━━━━━━\u001b[0m\u001b[37m\u001b[0m \u001b[1m5s\u001b[0m 2ms/step - loss: 0.2299 - sparse_categorical_accuracy: 0.9180 - val_loss: 0.3468 - val_sparse_categorical_accuracy: 0.8776\n",
            "Epoch 29/30\n",
            "\u001b[1m1719/1719\u001b[0m \u001b[32m━━━━━━━━━━━━━━━━━━━━\u001b[0m\u001b[37m\u001b[0m \u001b[1m4s\u001b[0m 3ms/step - loss: 0.2260 - sparse_categorical_accuracy: 0.9198 - val_loss: 0.3462 - val_sparse_categorical_accuracy: 0.8774\n",
            "Epoch 30/30\n",
            "\u001b[1m1719/1719\u001b[0m \u001b[32m━━━━━━━━━━━━━━━━━━━━\u001b[0m\u001b[37m\u001b[0m \u001b[1m5s\u001b[0m 3ms/step - loss: 0.2220 - sparse_categorical_accuracy: 0.9213 - val_loss: 0.3460 - val_sparse_categorical_accuracy: 0.8766\n"
          ]
        }
      ]
    },
    {
      "cell_type": "code",
      "source": [
        "history.params"
      ],
      "metadata": {
        "colab": {
          "base_uri": "https://localhost:8080/"
        },
        "id": "UOCepyO44wS0",
        "outputId": "1919ac32-4246-49d8-dc01-7e9e243b1bba"
      },
      "execution_count": null,
      "outputs": [
        {
          "output_type": "execute_result",
          "data": {
            "text/plain": [
              "{'verbose': 'auto', 'epochs': 30, 'steps': 1719}"
            ]
          },
          "metadata": {},
          "execution_count": 25
        }
      ]
    },
    {
      "cell_type": "code",
      "source": [
        "print(history.epoch)"
      ],
      "metadata": {
        "colab": {
          "base_uri": "https://localhost:8080/"
        },
        "id": "dliiG5PW4wPa",
        "outputId": "024ce1ba-c0a4-4cf7-b1b8-863058a2472f"
      },
      "execution_count": null,
      "outputs": [
        {
          "output_type": "stream",
          "name": "stdout",
          "text": [
            "[0, 1, 2, 3, 4, 5, 6, 7, 8, 9, 10, 11, 12, 13, 14, 15, 16, 17, 18, 19, 20, 21, 22, 23, 24, 25, 26, 27, 28, 29]\n"
          ]
        }
      ]
    },
    {
      "cell_type": "code",
      "source": [
        "history.history"
      ],
      "metadata": {
        "colab": {
          "base_uri": "https://localhost:8080/"
        },
        "id": "xX-HgwP457al",
        "outputId": "65d95c20-842e-44dd-cb75-5bf2c33e445c"
      },
      "execution_count": null,
      "outputs": [
        {
          "output_type": "execute_result",
          "data": {
            "text/plain": [
              "{'loss': [0.702838659286499,\n",
              "  0.4828301966190338,\n",
              "  0.43772727251052856,\n",
              "  0.4104155898094177,\n",
              "  0.39022696018218994,\n",
              "  0.37418562173843384,\n",
              "  0.36077141761779785,\n",
              "  0.34899839758872986,\n",
              "  0.3386801779270172,\n",
              "  0.32916656136512756,\n",
              "  0.3205893039703369,\n",
              "  0.3128720819950104,\n",
              "  0.30554187297821045,\n",
              "  0.298725962638855,\n",
              "  0.29235509037971497,\n",
              "  0.2862316370010376,\n",
              "  0.28043854236602783,\n",
              "  0.2749606668949127,\n",
              "  0.26963573694229126,\n",
              "  0.2645713686943054,\n",
              "  0.259697824716568,\n",
              "  0.25496968626976013,\n",
              "  0.25043389201164246,\n",
              "  0.2460087239742279,\n",
              "  0.24160011112689972,\n",
              "  0.23738549649715424,\n",
              "  0.23336543142795563,\n",
              "  0.22921228408813477,\n",
              "  0.22535105049610138,\n",
              "  0.22141939401626587],\n",
              " 'sparse_categorical_accuracy': [0.767127275466919,\n",
              "  0.8328545689582825,\n",
              "  0.8478181958198547,\n",
              "  0.8568545579910278,\n",
              "  0.8630545735359192,\n",
              "  0.868436336517334,\n",
              "  0.8722909092903137,\n",
              "  0.8755090832710266,\n",
              "  0.8790000081062317,\n",
              "  0.8820000290870667,\n",
              "  0.885345458984375,\n",
              "  0.8876909017562866,\n",
              "  0.890181839466095,\n",
              "  0.8921999931335449,\n",
              "  0.8942000269889832,\n",
              "  0.8966727256774902,\n",
              "  0.8989636301994324,\n",
              "  0.9007818102836609,\n",
              "  0.9030908942222595,\n",
              "  0.9049272537231445,\n",
              "  0.9061636328697205,\n",
              "  0.9081818461418152,\n",
              "  0.9094545245170593,\n",
              "  0.9110363721847534,\n",
              "  0.9126909375190735,\n",
              "  0.9140909314155579,\n",
              "  0.9154545664787292,\n",
              "  0.9177818298339844,\n",
              "  0.9193636178970337,\n",
              "  0.9206181764602661],\n",
              " 'val_loss': [0.5050389766693115,\n",
              "  0.45667675137519836,\n",
              "  0.433199942111969,\n",
              "  0.41880926489830017,\n",
              "  0.40687376260757446,\n",
              "  0.3970578610897064,\n",
              "  0.3876713812351227,\n",
              "  0.3807353079319,\n",
              "  0.37485212087631226,\n",
              "  0.36918139457702637,\n",
              "  0.36552196741104126,\n",
              "  0.3639275133609772,\n",
              "  0.3603009879589081,\n",
              "  0.35888588428497314,\n",
              "  0.35742804408073425,\n",
              "  0.35553884506225586,\n",
              "  0.354320764541626,\n",
              "  0.35288628935813904,\n",
              "  0.35229963064193726,\n",
              "  0.35037901997566223,\n",
              "  0.35094162821769714,\n",
              "  0.35101306438446045,\n",
              "  0.3496255874633789,\n",
              "  0.35004979372024536,\n",
              "  0.3497803211212158,\n",
              "  0.34920230507850647,\n",
              "  0.348025918006897,\n",
              "  0.34683844447135925,\n",
              "  0.34616920351982117,\n",
              "  0.3460480272769928],\n",
              " 'val_sparse_categorical_accuracy': [0.829200029373169,\n",
              "  0.8398000001907349,\n",
              "  0.8465999960899353,\n",
              "  0.850600004196167,\n",
              "  0.8543999791145325,\n",
              "  0.8555999994277954,\n",
              "  0.8597999811172485,\n",
              "  0.8615999817848206,\n",
              "  0.8644000291824341,\n",
              "  0.8669999837875366,\n",
              "  0.8694000244140625,\n",
              "  0.8704000115394592,\n",
              "  0.8712000250816345,\n",
              "  0.8709999918937683,\n",
              "  0.8708000183105469,\n",
              "  0.8730000257492065,\n",
              "  0.871999979019165,\n",
              "  0.8740000128746033,\n",
              "  0.875,\n",
              "  0.8751999735832214,\n",
              "  0.8758000135421753,\n",
              "  0.8758000135421753,\n",
              "  0.8766000270843506,\n",
              "  0.8781999945640564,\n",
              "  0.8781999945640564,\n",
              "  0.8758000135421753,\n",
              "  0.8763999938964844,\n",
              "  0.8776000142097473,\n",
              "  0.8773999810218811,\n",
              "  0.8766000270843506]}"
            ]
          },
          "metadata": {},
          "execution_count": 27
        }
      ]
    },
    {
      "cell_type": "code",
      "source": [
        "import matplotlib.pyplot as plt\n",
        "import pandas as pd"
      ],
      "metadata": {
        "id": "JJvTnX5H6R8O"
      },
      "execution_count": null,
      "outputs": []
    },
    {
      "cell_type": "code",
      "source": [
        "pd.DataFrame(history.history).plot(figsize=(8,5),xlim=[0,29],ylim=[0,1],grid=True,\n",
        "                                   style=['r-','r--','b-','b--'],label=True)\n",
        "plt.legend(loc=\"lower left\")\n",
        "plt.show()"
      ],
      "metadata": {
        "colab": {
          "base_uri": "https://localhost:8080/",
          "height": 451
        },
        "id": "bPuNriYt6g1o",
        "outputId": "5995963e-ddf8-4b70-e40a-8e745f68012e"
      },
      "execution_count": null,
      "outputs": [
        {
          "output_type": "display_data",
          "data": {
            "text/plain": [
              "<Figure size 800x500 with 1 Axes>"
            ],
            "image/png": "[encoded data removed]"
          },
          "metadata": {}
        }
      ]
    },
    {
      "cell_type": "code",
      "source": [
        "model.evaluate(X_test,y_test)"
      ],
      "metadata": {
        "colab": {
          "base_uri": "https://localhost:8080/"
        },
        "id": "ZqCT9hYZ7GF8",
        "outputId": "881aa819-9fb6-4096-f4b3-82316a4cf331"
      },
      "execution_count": null,
      "outputs": [
        {
          "output_type": "stream",
          "name": "stdout",
          "text": [
            "\u001b[1m313/313\u001b[0m \u001b[32m━━━━━━━━━━━━━━━━━━━━\u001b[0m\u001b[37m\u001b[0m \u001b[1m1s\u001b[0m 4ms/step - loss: 0.3708 - sparse_categorical_accuracy: 0.8697\n"
          ]
        },
        {
          "output_type": "execute_result",
          "data": {
            "text/plain": [
              "[0.36737146973609924, 0.8723000288009644]"
            ]
          },
          "metadata": {},
          "execution_count": 30
        }
      ]
    },
    {
      "cell_type": "code",
      "source": [
        "X_new=X_test[:3]\n",
        "y_proba=model.predict(X_new)\n",
        "y_proba.round(2)"
      ],
      "metadata": {
        "id": "Eq2aWc5276xO",
        "colab": {
          "base_uri": "https://localhost:8080/"
        },
        "outputId": "8a64d734-9331-4eaf-a172-ce0d499fb844"
      },
      "execution_count": null,
      "outputs": [
        {
          "output_type": "stream",
          "name": "stdout",
          "text": [
            "\u001b[1m1/1\u001b[0m \u001b[32m━━━━━━━━━━━━━━━━━━━━\u001b[0m\u001b[37m\u001b[0m \u001b[1m0s\u001b[0m 297ms/step\n"
          ]
        },
        {
          "output_type": "execute_result",
          "data": {
            "text/plain": [
              "array([[0.  , 0.  , 0.  , 0.  , 0.  , 0.35, 0.  , 0.01, 0.  , 0.64],\n",
              "       [0.  , 0.  , 1.  , 0.  , 0.  , 0.  , 0.  , 0.  , 0.  , 0.  ],\n",
              "       [0.  , 1.  , 0.  , 0.  , 0.  , 0.  , 0.  , 0.  , 0.  , 0.  ]],\n",
              "      dtype=float32)"
            ]
          },
          "metadata": {},
          "execution_count": 31
        }
      ]
    },
    {
      "cell_type": "code",
      "source": [
        "y_pred=np.argmax(y_proba,axis=1)\n",
        "y_pred"
      ],
      "metadata": {
        "colab": {
          "base_uri": "https://localhost:8080/"
        },
        "id": "5oPEtE_U6gpr",
        "outputId": "fae7e1bf-c7fb-4465-f395-08cd50b56b18"
      },
      "execution_count": null,
      "outputs": [
        {
          "output_type": "execute_result",
          "data": {
            "text/plain": [
              "array([9, 2, 1])"
            ]
          },
          "metadata": {},
          "execution_count": 32
        }
      ]
    },
    {
      "cell_type": "code",
      "source": [
        "np.array(class_names)[y_pred]"
      ],
      "metadata": {
        "colab": {
          "base_uri": "https://localhost:8080/"
        },
        "id": "mifHwFYf6giH",
        "outputId": "d921a331-b2d4-4cde-99f7-2ed7fb95bb0e"
      },
      "execution_count": null,
      "outputs": [
        {
          "output_type": "execute_result",
          "data": {
            "text/plain": [
              "array(['ankle boot', 'pullover', 'trouser'], dtype='<U11')"
            ]
          },
          "metadata": {},
          "execution_count": 33
        }
      ]
    },
    {
      "cell_type": "code",
      "source": [
        "class_names[5]"
      ],
      "metadata": {
        "colab": {
          "base_uri": "https://localhost:8080/",
          "height": 35
        },
        "id": "unDbW8AJ8Ij-",
        "outputId": "11bd986a-2523-4693-efef-1bc1aed5575d"
      },
      "execution_count": null,
      "outputs": [
        {
          "output_type": "execute_result",
          "data": {
            "text/plain": [
              "'sandal'"
            ],
            "application/vnd.google.colaboratory.intrinsic+json": {
              "type": "string"
            }
          },
          "metadata": {},
          "execution_count": 34
        }
      ]
    },
    {
      "cell_type": "code",
      "source": [
        "y_new=y_test[:3]\n",
        "y_new"
      ],
      "metadata": {
        "colab": {
          "base_uri": "https://localhost:8080/"
        },
        "id": "Ib9L0N4D8fNa",
        "outputId": "4aecb1db-ef45-4824-ac70-e4afd7e34ac1"
      },
      "execution_count": null,
      "outputs": [
        {
          "output_type": "execute_result",
          "data": {
            "text/plain": [
              "array([9, 2, 1], dtype=uint8)"
            ]
          },
          "metadata": {},
          "execution_count": 35
        }
      ]
    },
    {
      "cell_type": "code",
      "source": [
        "plt.figure(figsize=(7.2,2.4))\n",
        "\n",
        "for index,image in enumerate(X_new):\n",
        "  plt.subplot(1,3,index+1)\n",
        "  plt.imshow(image,cmap='binary',interpolation='nearest')\n",
        "  plt.axis('off')\n",
        "  plt.title(class_names[y_new[index]],fontsize=12,color='g'if y_pred[index]==y_new[index] else 'r')\n",
        "\n",
        "plt.subplots_adjust(wspace=0.2,hspace=0.5)"
      ],
      "metadata": {
        "colab": {
          "base_uri": "https://localhost:8080/",
          "height": 223
        },
        "id": "UU7jfBb48uI2",
        "outputId": "9620796d-829f-4bf1-9609-5630c20b5853"
      },
      "execution_count": null,
      "outputs": [
        {
          "output_type": "display_data",
          "data": {
            "text/plain": [
              "<Figure size 720x240 with 3 Axes>"
            ],
            "image/png": "[encoded data removed]"
          },
          "metadata": {}
        }
      ]
    },
    {
      "cell_type": "markdown",
      "source": [
        "#Regression with MLP"
      ],
      "metadata": {
        "id": "Pc-U02f1-l3p"
      }
    },
    {
      "cell_type": "code",
      "source": [
        "from sklearn.datasets import fetch_california_housing\n",
        "from sklearn.model_selection import train_test_split\n",
        "\n",
        "housing= fetch_california_housing()\n",
        "X_train_full,X_test,y_train_full,y_test=train_test_split(housing.data,housing.target,random_state=42)\n",
        "X_train,X_valid,y_train,y_valid=train_test_split(X_train_full,y_train_full,random_state=42)"
      ],
      "metadata": {
        "id": "DrvHm3V9903L"
      },
      "execution_count": null,
      "outputs": []
    },
    {
      "cell_type": "code",
      "source": [
        "X_train.shape"
      ],
      "metadata": {
        "colab": {
          "base_uri": "https://localhost:8080/"
        },
        "id": "lCLAJxD790zy",
        "outputId": "8db0b1c7-bd6e-43f0-d42e-68cf19de6d84"
      },
      "execution_count": null,
      "outputs": [
        {
          "output_type": "execute_result",
          "data": {
            "text/plain": [
              "(11610, 8)"
            ]
          },
          "metadata": {},
          "execution_count": 38
        }
      ]
    },
    {
      "cell_type": "code",
      "source": [
        "tf.random.set_seed(42)\n",
        "tf.keras.backend.clear_session()\n",
        "\n",
        "norm_layer=tf.keras.layers.Normalization()\n",
        "model=tf.keras.Sequential([\n",
        "    tf.keras.layers.Input(shape=X_train.shape[1:]),\n",
        "    norm_layer,\n",
        "    tf.keras.layers.Dense(30,activation='relu'),\n",
        "    tf.keras.layers.Dense(30,activation='relu'),\n",
        "    tf.keras.layers.Dense(1,activation='linear')\n",
        "\n",
        "])\n",
        "\n",
        "norm_layer.adapt(X_train)\n",
        "\n",
        "model.compile(loss='mse',\n",
        "              optimizer='sgd',\n",
        "              metrics=['RootMeanSquaredError'])\n",
        "\n"
      ],
      "metadata": {
        "id": "3JaVcvT4914f"
      },
      "execution_count": null,
      "outputs": []
    },
    {
      "cell_type": "code",
      "source": [
        "history=model.fit(X_train,y_train,epochs=20,validation_data=(X_valid,y_valid))"
      ],
      "metadata": {
        "colab": {
          "base_uri": "https://localhost:8080/"
        },
        "id": "xtGwAARN-xkz",
        "outputId": "d74c05e1-12de-496d-f466-fc977a981114"
      },
      "execution_count": null,
      "outputs": [
        {
          "output_type": "stream",
          "name": "stdout",
          "text": [
            "Epoch 1/20\n",
            "\u001b[1m363/363\u001b[0m \u001b[32m━━━━━━━━━━━━━━━━━━━━\u001b[0m\u001b[37m\u001b[0m \u001b[1m3s\u001b[0m 6ms/step - RootMeanSquaredError: 0.9949 - loss: 1.0402 - val_RootMeanSquaredError: 1.7068 - val_loss: 2.9131\n",
            "Epoch 2/20\n",
            "\u001b[1m363/363\u001b[0m \u001b[32m━━━━━━━━━━━━━━━━━━━━\u001b[0m\u001b[37m\u001b[0m \u001b[1m1s\u001b[0m 3ms/step - RootMeanSquaredError: 0.7044 - loss: 0.4970 - val_RootMeanSquaredError: 2.7152 - val_loss: 7.3725\n",
            "Epoch 3/20\n",
            "\u001b[1m363/363\u001b[0m \u001b[32m━━━━━━━━━━━━━━━━━━━━\u001b[0m\u001b[37m\u001b[0m \u001b[1m1s\u001b[0m 3ms/step - RootMeanSquaredError: 0.6771 - loss: 0.4590 - val_RootMeanSquaredError: 1.2670 - val_loss: 1.6052\n",
            "Epoch 4/20\n",
            "\u001b[1m363/363\u001b[0m \u001b[32m━━━━━━━━━━━━━━━━━━━━\u001b[0m\u001b[37m\u001b[0m \u001b[1m2s\u001b[0m 4ms/step - RootMeanSquaredError: 0.6454 - loss: 0.4168 - val_RootMeanSquaredError: 1.4823 - val_loss: 2.1973\n",
            "Epoch 5/20\n",
            "\u001b[1m363/363\u001b[0m \u001b[32m━━━━━━━━━━━━━━━━━━━━\u001b[0m\u001b[37m\u001b[0m \u001b[1m1s\u001b[0m 3ms/step - RootMeanSquaredError: 0.6320 - loss: 0.3996 - val_RootMeanSquaredError: 0.9362 - val_loss: 0.8766\n",
            "Epoch 6/20\n",
            "\u001b[1m363/363\u001b[0m \u001b[32m━━━━━━━━━━━━━━━━━━━━\u001b[0m\u001b[37m\u001b[0m \u001b[1m1s\u001b[0m 3ms/step - RootMeanSquaredError: 0.6208 - loss: 0.3856 - val_RootMeanSquaredError: 0.9112 - val_loss: 0.8303\n",
            "Epoch 7/20\n",
            "\u001b[1m363/363\u001b[0m \u001b[32m━━━━━━━━━━━━━━━━━━━━\u001b[0m\u001b[37m\u001b[0m \u001b[1m1s\u001b[0m 3ms/step - RootMeanSquaredError: 0.6135 - loss: 0.3766 - val_RootMeanSquaredError: 1.1079 - val_loss: 1.2274\n",
            "Epoch 8/20\n",
            "\u001b[1m363/363\u001b[0m \u001b[32m━━━━━━━━━━━━━━━━━━━━\u001b[0m\u001b[37m\u001b[0m \u001b[1m1s\u001b[0m 3ms/step - RootMeanSquaredError: 0.6108 - loss: 0.3733 - val_RootMeanSquaredError: 0.6730 - val_loss: 0.4529\n",
            "Epoch 9/20\n",
            "\u001b[1m363/363\u001b[0m \u001b[32m━━━━━━━━━━━━━━━━━━━━\u001b[0m\u001b[37m\u001b[0m \u001b[1m1s\u001b[0m 3ms/step - RootMeanSquaredError: 0.6023 - loss: 0.3630 - val_RootMeanSquaredError: 0.5784 - val_loss: 0.3346\n",
            "Epoch 10/20\n",
            "\u001b[1m363/363\u001b[0m \u001b[32m━━━━━━━━━━━━━━━━━━━━\u001b[0m\u001b[37m\u001b[0m \u001b[1m1s\u001b[0m 3ms/step - RootMeanSquaredError: 0.5982 - loss: 0.3581 - val_RootMeanSquaredError: 0.5784 - val_loss: 0.3346\n",
            "Epoch 11/20\n",
            "\u001b[1m363/363\u001b[0m \u001b[32m━━━━━━━━━━━━━━━━━━━━\u001b[0m\u001b[37m\u001b[0m \u001b[1m1s\u001b[0m 3ms/step - RootMeanSquaredError: 0.5946 - loss: 0.3539 - val_RootMeanSquaredError: 0.5723 - val_loss: 0.3275\n",
            "Epoch 12/20\n",
            "\u001b[1m363/363\u001b[0m \u001b[32m━━━━━━━━━━━━━━━━━━━━\u001b[0m\u001b[37m\u001b[0m \u001b[1m1s\u001b[0m 3ms/step - RootMeanSquaredError: 0.5912 - loss: 0.3498 - val_RootMeanSquaredError: 0.5690 - val_loss: 0.3237\n",
            "Epoch 13/20\n",
            "\u001b[1m363/363\u001b[0m \u001b[32m━━━━━━━━━━━━━━━━━━━━\u001b[0m\u001b[37m\u001b[0m \u001b[1m1s\u001b[0m 3ms/step - RootMeanSquaredError: 0.5883 - loss: 0.3463 - val_RootMeanSquaredError: 0.5658 - val_loss: 0.3201\n",
            "Epoch 14/20\n",
            "\u001b[1m363/363\u001b[0m \u001b[32m━━━━━━━━━━━━━━━━━━━━\u001b[0m\u001b[37m\u001b[0m \u001b[1m2s\u001b[0m 5ms/step - RootMeanSquaredError: 0.5858 - loss: 0.3434 - val_RootMeanSquaredError: 0.5619 - val_loss: 0.3157\n",
            "Epoch 15/20\n",
            "\u001b[1m363/363\u001b[0m \u001b[32m━━━━━━━━━━━━━━━━━━━━\u001b[0m\u001b[37m\u001b[0m \u001b[1m2s\u001b[0m 3ms/step - RootMeanSquaredError: 0.5828 - loss: 0.3399 - val_RootMeanSquaredError: 0.5594 - val_loss: 0.3130\n",
            "Epoch 16/20\n",
            "\u001b[1m363/363\u001b[0m \u001b[32m━━━━━━━━━━━━━━━━━━━━\u001b[0m\u001b[37m\u001b[0m \u001b[1m1s\u001b[0m 3ms/step - RootMeanSquaredError: 0.5804 - loss: 0.3371 - val_RootMeanSquaredError: 0.5564 - val_loss: 0.3096\n",
            "Epoch 17/20\n",
            "\u001b[1m363/363\u001b[0m \u001b[32m━━━━━━━━━━━━━━━━━━━━\u001b[0m\u001b[37m\u001b[0m \u001b[1m1s\u001b[0m 3ms/step - RootMeanSquaredError: 0.5772 - loss: 0.3333 - val_RootMeanSquaredError: 0.5531 - val_loss: 0.3059\n",
            "Epoch 18/20\n",
            "\u001b[1m363/363\u001b[0m \u001b[32m━━━━━━━━━━━━━━━━━━━━\u001b[0m\u001b[37m\u001b[0m \u001b[1m1s\u001b[0m 3ms/step - RootMeanSquaredError: 0.5746 - loss: 0.3304 - val_RootMeanSquaredError: 0.5504 - val_loss: 0.3030\n",
            "Epoch 19/20\n",
            "\u001b[1m363/363\u001b[0m \u001b[32m━━━━━━━━━━━━━━━━━━━━\u001b[0m\u001b[37m\u001b[0m \u001b[1m1s\u001b[0m 3ms/step - RootMeanSquaredError: 0.5724 - loss: 0.3278 - val_RootMeanSquaredError: 0.5501 - val_loss: 0.3026\n",
            "Epoch 20/20\n",
            "\u001b[1m363/363\u001b[0m \u001b[32m━━━━━━━━━━━━━━━━━━━━\u001b[0m\u001b[37m\u001b[0m \u001b[1m1s\u001b[0m 3ms/step - RootMeanSquaredError: 0.5696 - loss: 0.3247 - val_RootMeanSquaredError: 0.5509 - val_loss: 0.3035\n"
          ]
        }
      ]
    },
    {
      "cell_type": "code",
      "source": [
        "model.summary()"
      ],
      "metadata": {
        "colab": {
          "base_uri": "https://localhost:8080/",
          "height": 273
        },
        "id": "ng1mwdg1Bcdx",
        "outputId": "27d51e13-3e2a-4f4f-80cd-715704b8d2b6"
      },
      "execution_count": null,
      "outputs": [
        {
          "output_type": "display_data",
          "data": {
            "text/plain": [
              "\u001b[1mModel: \"sequential\"\u001b[0m\n"
            ],
            "text/html": [
              "<pre style=\"white-space:pre;overflow-x:auto;line-height:normal;font-family:Menlo,'DejaVu Sans Mono',consolas,'Courier New',monospace\"><span style=\"font-weight: bold\">Model: \"sequential\"</span>\n",
              "</pre>\n"
            ]
          },
          "metadata": {}
        },
        {
          "output_type": "display_data",
          "data": {
            "text/plain": [
              "┏━━━━━━━━━━━━━━━━━━━━━━━━━━━━━━━━━━━━━━┳━━━━━━━━━━━━━━━━━━━━━━━━━━━━━┳━━━━━━━━━━━━━━━━━┓\n",
              "┃\u001b[1m \u001b[0m\u001b[1mLayer (type)                        \u001b[0m\u001b[1m \u001b[0m┃\u001b[1m \u001b[0m\u001b[1mOutput Shape               \u001b[0m\u001b[1m \u001b[0m┃\u001b[1m \u001b[0m\u001b[1m        Param #\u001b[0m\u001b[1m \u001b[0m┃\n",
              "┡━━━━━━━━━━━━━━━━━━━━━━━━━━━━━━━━━━━━━━╇━━━━━━━━━━━━━━━━━━━━━━━━━━━━━╇━━━━━━━━━━━━━━━━━┩\n",
              "│ normalization (\u001b[38;5;33mNormalization\u001b[0m)        │ (\u001b[38;5;45mNone\u001b[0m, \u001b[38;5;34m8\u001b[0m)                   │              \u001b[38;5;34m17\u001b[0m │\n",
              "├──────────────────────────────────────┼─────────────────────────────┼─────────────────┤\n",
              "│ dense (\u001b[38;5;33mDense\u001b[0m)                        │ (\u001b[38;5;45mNone\u001b[0m, \u001b[38;5;34m30\u001b[0m)                  │             \u001b[38;5;34m270\u001b[0m │\n",
              "├──────────────────────────────────────┼─────────────────────────────┼─────────────────┤\n",
              "│ dense_1 (\u001b[38;5;33mDense\u001b[0m)                      │ (\u001b[38;5;45mNone\u001b[0m, \u001b[38;5;34m30\u001b[0m)                  │             \u001b[38;5;34m930\u001b[0m │\n",
              "├──────────────────────────────────────┼─────────────────────────────┼─────────────────┤\n",
              "│ dense_2 (\u001b[38;5;33mDense\u001b[0m)                      │ (\u001b[38;5;45mNone\u001b[0m, \u001b[38;5;34m1\u001b[0m)                   │              \u001b[38;5;34m31\u001b[0m │\n",
              "└──────────────────────────────────────┴─────────────────────────────┴─────────────────┘\n"
            ],
            "text/html": [
              "<pre style=\"white-space:pre;overflow-x:auto;line-height:normal;font-family:Menlo,'DejaVu Sans Mono',consolas,'Courier New',monospace\">┏━━━━━━━━━━━━━━━━━━━━━━━━━━━━━━━━━━━━━━┳━━━━━━━━━━━━━━━━━━━━━━━━━━━━━┳━━━━━━━━━━━━━━━━━┓\n",
              "┃<span style=\"font-weight: bold\"> Layer (type)                         </span>┃<span style=\"font-weight: bold\"> Output Shape                </span>┃<span style=\"font-weight: bold\">         Param # </span>┃\n",
              "┡━━━━━━━━━━━━━━━━━━━━━━━━━━━━━━━━━━━━━━╇━━━━━━━━━━━━━━━━━━━━━━━━━━━━━╇━━━━━━━━━━━━━━━━━┩\n",
              "│ normalization (<span style=\"color: #0087ff; text-decoration-color: #0087ff\">Normalization</span>)        │ (<span style=\"color: #00d7ff; text-decoration-color: #00d7ff\">None</span>, <span style=\"color: #00af00; text-decoration-color: #00af00\">8</span>)                   │              <span style=\"color: #00af00; text-decoration-color: #00af00\">17</span> │\n",
              "├──────────────────────────────────────┼─────────────────────────────┼─────────────────┤\n",
              "│ dense (<span style=\"color: #0087ff; text-decoration-color: #0087ff\">Dense</span>)                        │ (<span style=\"color: #00d7ff; text-decoration-color: #00d7ff\">None</span>, <span style=\"color: #00af00; text-decoration-color: #00af00\">30</span>)                  │             <span style=\"color: #00af00; text-decoration-color: #00af00\">270</span> │\n",
              "├──────────────────────────────────────┼─────────────────────────────┼─────────────────┤\n",
              "│ dense_1 (<span style=\"color: #0087ff; text-decoration-color: #0087ff\">Dense</span>)                      │ (<span style=\"color: #00d7ff; text-decoration-color: #00d7ff\">None</span>, <span style=\"color: #00af00; text-decoration-color: #00af00\">30</span>)                  │             <span style=\"color: #00af00; text-decoration-color: #00af00\">930</span> │\n",
              "├──────────────────────────────────────┼─────────────────────────────┼─────────────────┤\n",
              "│ dense_2 (<span style=\"color: #0087ff; text-decoration-color: #0087ff\">Dense</span>)                      │ (<span style=\"color: #00d7ff; text-decoration-color: #00d7ff\">None</span>, <span style=\"color: #00af00; text-decoration-color: #00af00\">1</span>)                   │              <span style=\"color: #00af00; text-decoration-color: #00af00\">31</span> │\n",
              "└──────────────────────────────────────┴─────────────────────────────┴─────────────────┘\n",
              "</pre>\n"
            ]
          },
          "metadata": {}
        },
        {
          "output_type": "display_data",
          "data": {
            "text/plain": [
              "\u001b[1m Total params: \u001b[0m\u001b[38;5;34m1,250\u001b[0m (4.89 KB)\n"
            ],
            "text/html": [
              "<pre style=\"white-space:pre;overflow-x:auto;line-height:normal;font-family:Menlo,'DejaVu Sans Mono',consolas,'Courier New',monospace\"><span style=\"font-weight: bold\"> Total params: </span><span style=\"color: #00af00; text-decoration-color: #00af00\">1,250</span> (4.89 KB)\n",
              "</pre>\n"
            ]
          },
          "metadata": {}
        },
        {
          "output_type": "display_data",
          "data": {
            "text/plain": [
              "\u001b[1m Trainable params: \u001b[0m\u001b[38;5;34m1,231\u001b[0m (4.81 KB)\n"
            ],
            "text/html": [
              "<pre style=\"white-space:pre;overflow-x:auto;line-height:normal;font-family:Menlo,'DejaVu Sans Mono',consolas,'Courier New',monospace\"><span style=\"font-weight: bold\"> Trainable params: </span><span style=\"color: #00af00; text-decoration-color: #00af00\">1,231</span> (4.81 KB)\n",
              "</pre>\n"
            ]
          },
          "metadata": {}
        },
        {
          "output_type": "display_data",
          "data": {
            "text/plain": [
              "\u001b[1m Non-trainable params: \u001b[0m\u001b[38;5;34m17\u001b[0m (72.00 B)\n"
            ],
            "text/html": [
              "<pre style=\"white-space:pre;overflow-x:auto;line-height:normal;font-family:Menlo,'DejaVu Sans Mono',consolas,'Courier New',monospace\"><span style=\"font-weight: bold\"> Non-trainable params: </span><span style=\"color: #00af00; text-decoration-color: #00af00\">17</span> (72.00 B)\n",
              "</pre>\n"
            ]
          },
          "metadata": {}
        },
        {
          "output_type": "display_data",
          "data": {
            "text/plain": [
              "\u001b[1m Optimizer params: \u001b[0m\u001b[38;5;34m2\u001b[0m (12.00 B)\n"
            ],
            "text/html": [
              "<pre style=\"white-space:pre;overflow-x:auto;line-height:normal;font-family:Menlo,'DejaVu Sans Mono',consolas,'Courier New',monospace\"><span style=\"font-weight: bold\"> Optimizer params: </span><span style=\"color: #00af00; text-decoration-color: #00af00\">2</span> (12.00 B)\n",
              "</pre>\n"
            ]
          },
          "metadata": {}
        }
      ]
    },
    {
      "cell_type": "code",
      "source": [
        "model.predict(X_test[:1])"
      ],
      "metadata": {
        "colab": {
          "base_uri": "https://localhost:8080/"
        },
        "id": "kIPJyYFx-xhb",
        "outputId": "faab5819-518f-418b-ea03-6433aedbfc3e"
      },
      "execution_count": null,
      "outputs": [
        {
          "output_type": "stream",
          "name": "stdout",
          "text": [
            "\u001b[1m1/1\u001b[0m \u001b[32m━━━━━━━━━━━━━━━━━━━━\u001b[0m\u001b[37m\u001b[0m \u001b[1m0s\u001b[0m 212ms/step\n"
          ]
        },
        {
          "output_type": "execute_result",
          "data": {
            "text/plain": [
              "array([[0.7182674]], dtype=float32)"
            ]
          },
          "metadata": {},
          "execution_count": 42
        }
      ]
    },
    {
      "cell_type": "markdown",
      "source": [
        "#Functional API"
      ],
      "metadata": {
        "id": "pZBKxcXeD13Y"
      }
    },
    {
      "cell_type": "code",
      "source": [
        "tf.keras.backend.clear_session()\n",
        "tf.random.set_seed(42)"
      ],
      "metadata": {
        "id": "kxFWlxV9D7If"
      },
      "execution_count": null,
      "outputs": []
    },
    {
      "cell_type": "code",
      "source": [
        "normalization_layer=tf.keras.layers.Normalization()\n",
        "hidden_layer1=tf.keras.layers.Dense(30,activation='relu')\n",
        "hidden_layer2=tf.keras.layers.Dense(30,activation='relu')\n",
        "concat_layer=tf.keras.layers.Concatenate()\n",
        "output_layer=tf.keras.layers.Dense(1)\n",
        "\n",
        "input_=tf.keras.layers.Input(shape=[8])\n",
        "normalized=normalization_layer(input_)\n",
        "hidden1=hidden_layer1(normalized)\n",
        "hidden2=hidden_layer2(hidden1)\n",
        "concat=concat_layer([normalized,hidden2])\n",
        "output=output_layer(concat)\n",
        "\n",
        "model=tf.keras.Model(inputs=[input_],outputs=[output])"
      ],
      "metadata": {
        "id": "r02H9U0hD7FI"
      },
      "execution_count": null,
      "outputs": []
    },
    {
      "cell_type": "code",
      "source": [
        "model.summary()"
      ],
      "metadata": {
        "colab": {
          "base_uri": "https://localhost:8080/",
          "height": 353
        },
        "id": "CEwgjTelEwn4",
        "outputId": "9dff4673-2f68-4d47-ac37-22919d270a72"
      },
      "execution_count": null,
      "outputs": [
        {
          "output_type": "display_data",
          "data": {
            "text/plain": [
              "\u001b[1mModel: \"functional\"\u001b[0m\n"
            ],
            "text/html": [
              "<pre style=\"white-space:pre;overflow-x:auto;line-height:normal;font-family:Menlo,'DejaVu Sans Mono',consolas,'Courier New',monospace\"><span style=\"font-weight: bold\">Model: \"functional\"</span>\n",
              "</pre>\n"
            ]
          },
          "metadata": {}
        },
        {
          "output_type": "display_data",
          "data": {
            "text/plain": [
              "┏━━━━━━━━━━━━━━━━━━━━━━━━━━━┳━━━━━━━━━━━━━━━━━━━━━━━━┳━━━━━━━━━━━━━━━━┳━━━━━━━━━━━━━━━━━━━━━━━━┓\n",
              "┃\u001b[1m \u001b[0m\u001b[1mLayer (type)             \u001b[0m\u001b[1m \u001b[0m┃\u001b[1m \u001b[0m\u001b[1mOutput Shape          \u001b[0m\u001b[1m \u001b[0m┃\u001b[1m \u001b[0m\u001b[1m       Param #\u001b[0m\u001b[1m \u001b[0m┃\u001b[1m \u001b[0m\u001b[1mConnected to          \u001b[0m\u001b[1m \u001b[0m┃\n",
              "┡━━━━━━━━━━━━━━━━━━━━━━━━━━━╇━━━━━━━━━━━━━━━━━━━━━━━━╇━━━━━━━━━━━━━━━━╇━━━━━━━━━━━━━━━━━━━━━━━━┩\n",
              "│ input_layer (\u001b[38;5;33mInputLayer\u001b[0m)  │ (\u001b[38;5;45mNone\u001b[0m, \u001b[38;5;34m8\u001b[0m)              │              \u001b[38;5;34m0\u001b[0m │ -                      │\n",
              "├───────────────────────────┼────────────────────────┼────────────────┼────────────────────────┤\n",
              "│ normalization             │ (\u001b[38;5;45mNone\u001b[0m, \u001b[38;5;34m8\u001b[0m)              │             \u001b[38;5;34m17\u001b[0m │ input_layer[\u001b[38;5;34m0\u001b[0m][\u001b[38;5;34m0\u001b[0m]      │\n",
              "│ (\u001b[38;5;33mNormalization\u001b[0m)           │                        │                │                        │\n",
              "├───────────────────────────┼────────────────────────┼────────────────┼────────────────────────┤\n",
              "│ dense (\u001b[38;5;33mDense\u001b[0m)             │ (\u001b[38;5;45mNone\u001b[0m, \u001b[38;5;34m30\u001b[0m)             │            \u001b[38;5;34m270\u001b[0m │ normalization[\u001b[38;5;34m0\u001b[0m][\u001b[38;5;34m0\u001b[0m]    │\n",
              "├───────────────────────────┼────────────────────────┼────────────────┼────────────────────────┤\n",
              "│ dense_1 (\u001b[38;5;33mDense\u001b[0m)           │ (\u001b[38;5;45mNone\u001b[0m, \u001b[38;5;34m30\u001b[0m)             │            \u001b[38;5;34m930\u001b[0m │ dense[\u001b[38;5;34m0\u001b[0m][\u001b[38;5;34m0\u001b[0m]            │\n",
              "├───────────────────────────┼────────────────────────┼────────────────┼────────────────────────┤\n",
              "│ concatenate (\u001b[38;5;33mConcatenate\u001b[0m) │ (\u001b[38;5;45mNone\u001b[0m, \u001b[38;5;34m38\u001b[0m)             │              \u001b[38;5;34m0\u001b[0m │ normalization[\u001b[38;5;34m0\u001b[0m][\u001b[38;5;34m0\u001b[0m],   │\n",
              "│                           │                        │                │ dense_1[\u001b[38;5;34m0\u001b[0m][\u001b[38;5;34m0\u001b[0m]          │\n",
              "├───────────────────────────┼────────────────────────┼────────────────┼────────────────────────┤\n",
              "│ dense_2 (\u001b[38;5;33mDense\u001b[0m)           │ (\u001b[38;5;45mNone\u001b[0m, \u001b[38;5;34m1\u001b[0m)              │             \u001b[38;5;34m39\u001b[0m │ concatenate[\u001b[38;5;34m0\u001b[0m][\u001b[38;5;34m0\u001b[0m]      │\n",
              "└───────────────────────────┴────────────────────────┴────────────────┴────────────────────────┘\n"
            ],
            "text/html": [
              "<pre style=\"white-space:pre;overflow-x:auto;line-height:normal;font-family:Menlo,'DejaVu Sans Mono',consolas,'Courier New',monospace\">┏━━━━━━━━━━━━━━━━━━━━━━━━━━━┳━━━━━━━━━━━━━━━━━━━━━━━━┳━━━━━━━━━━━━━━━━┳━━━━━━━━━━━━━━━━━━━━━━━━┓\n",
              "┃<span style=\"font-weight: bold\"> Layer (type)              </span>┃<span style=\"font-weight: bold\"> Output Shape           </span>┃<span style=\"font-weight: bold\">        Param # </span>┃<span style=\"font-weight: bold\"> Connected to           </span>┃\n",
              "┡━━━━━━━━━━━━━━━━━━━━━━━━━━━╇━━━━━━━━━━━━━━━━━━━━━━━━╇━━━━━━━━━━━━━━━━╇━━━━━━━━━━━━━━━━━━━━━━━━┩\n",
              "│ input_layer (<span style=\"color: #0087ff; text-decoration-color: #0087ff\">InputLayer</span>)  │ (<span style=\"color: #00d7ff; text-decoration-color: #00d7ff\">None</span>, <span style=\"color: #00af00; text-decoration-color: #00af00\">8</span>)              │              <span style=\"color: #00af00; text-decoration-color: #00af00\">0</span> │ -                      │\n",
              "├───────────────────────────┼────────────────────────┼────────────────┼────────────────────────┤\n",
              "│ normalization             │ (<span style=\"color: #00d7ff; text-decoration-color: #00d7ff\">None</span>, <span style=\"color: #00af00; text-decoration-color: #00af00\">8</span>)              │             <span style=\"color: #00af00; text-decoration-color: #00af00\">17</span> │ input_layer[<span style=\"color: #00af00; text-decoration-color: #00af00\">0</span>][<span style=\"color: #00af00; text-decoration-color: #00af00\">0</span>]      │\n",
              "│ (<span style=\"color: #0087ff; text-decoration-color: #0087ff\">Normalization</span>)           │                        │                │                        │\n",
              "├───────────────────────────┼────────────────────────┼────────────────┼────────────────────────┤\n",
              "│ dense (<span style=\"color: #0087ff; text-decoration-color: #0087ff\">Dense</span>)             │ (<span style=\"color: #00d7ff; text-decoration-color: #00d7ff\">None</span>, <span style=\"color: #00af00; text-decoration-color: #00af00\">30</span>)             │            <span style=\"color: #00af00; text-decoration-color: #00af00\">270</span> │ normalization[<span style=\"color: #00af00; text-decoration-color: #00af00\">0</span>][<span style=\"color: #00af00; text-decoration-color: #00af00\">0</span>]    │\n",
              "├───────────────────────────┼────────────────────────┼────────────────┼────────────────────────┤\n",
              "│ dense_1 (<span style=\"color: #0087ff; text-decoration-color: #0087ff\">Dense</span>)           │ (<span style=\"color: #00d7ff; text-decoration-color: #00d7ff\">None</span>, <span style=\"color: #00af00; text-decoration-color: #00af00\">30</span>)             │            <span style=\"color: #00af00; text-decoration-color: #00af00\">930</span> │ dense[<span style=\"color: #00af00; text-decoration-color: #00af00\">0</span>][<span style=\"color: #00af00; text-decoration-color: #00af00\">0</span>]            │\n",
              "├───────────────────────────┼────────────────────────┼────────────────┼────────────────────────┤\n",
              "│ concatenate (<span style=\"color: #0087ff; text-decoration-color: #0087ff\">Concatenate</span>) │ (<span style=\"color: #00d7ff; text-decoration-color: #00d7ff\">None</span>, <span style=\"color: #00af00; text-decoration-color: #00af00\">38</span>)             │              <span style=\"color: #00af00; text-decoration-color: #00af00\">0</span> │ normalization[<span style=\"color: #00af00; text-decoration-color: #00af00\">0</span>][<span style=\"color: #00af00; text-decoration-color: #00af00\">0</span>],   │\n",
              "│                           │                        │                │ dense_1[<span style=\"color: #00af00; text-decoration-color: #00af00\">0</span>][<span style=\"color: #00af00; text-decoration-color: #00af00\">0</span>]          │\n",
              "├───────────────────────────┼────────────────────────┼────────────────┼────────────────────────┤\n",
              "│ dense_2 (<span style=\"color: #0087ff; text-decoration-color: #0087ff\">Dense</span>)           │ (<span style=\"color: #00d7ff; text-decoration-color: #00d7ff\">None</span>, <span style=\"color: #00af00; text-decoration-color: #00af00\">1</span>)              │             <span style=\"color: #00af00; text-decoration-color: #00af00\">39</span> │ concatenate[<span style=\"color: #00af00; text-decoration-color: #00af00\">0</span>][<span style=\"color: #00af00; text-decoration-color: #00af00\">0</span>]      │\n",
              "└───────────────────────────┴────────────────────────┴────────────────┴────────────────────────┘\n",
              "</pre>\n"
            ]
          },
          "metadata": {}
        },
        {
          "output_type": "display_data",
          "data": {
            "text/plain": [
              "\u001b[1m Total params: \u001b[0m\u001b[38;5;34m1,256\u001b[0m (4.91 KB)\n"
            ],
            "text/html": [
              "<pre style=\"white-space:pre;overflow-x:auto;line-height:normal;font-family:Menlo,'DejaVu Sans Mono',consolas,'Courier New',monospace\"><span style=\"font-weight: bold\"> Total params: </span><span style=\"color: #00af00; text-decoration-color: #00af00\">1,256</span> (4.91 KB)\n",
              "</pre>\n"
            ]
          },
          "metadata": {}
        },
        {
          "output_type": "display_data",
          "data": {
            "text/plain": [
              "\u001b[1m Trainable params: \u001b[0m\u001b[38;5;34m1,239\u001b[0m (4.84 KB)\n"
            ],
            "text/html": [
              "<pre style=\"white-space:pre;overflow-x:auto;line-height:normal;font-family:Menlo,'DejaVu Sans Mono',consolas,'Courier New',monospace\"><span style=\"font-weight: bold\"> Trainable params: </span><span style=\"color: #00af00; text-decoration-color: #00af00\">1,239</span> (4.84 KB)\n",
              "</pre>\n"
            ]
          },
          "metadata": {}
        },
        {
          "output_type": "display_data",
          "data": {
            "text/plain": [
              "\u001b[1m Non-trainable params: \u001b[0m\u001b[38;5;34m17\u001b[0m (72.00 B)\n"
            ],
            "text/html": [
              "<pre style=\"white-space:pre;overflow-x:auto;line-height:normal;font-family:Menlo,'DejaVu Sans Mono',consolas,'Courier New',monospace\"><span style=\"font-weight: bold\"> Non-trainable params: </span><span style=\"color: #00af00; text-decoration-color: #00af00\">17</span> (72.00 B)\n",
              "</pre>\n"
            ]
          },
          "metadata": {}
        }
      ]
    },
    {
      "cell_type": "code",
      "source": [
        "tf.keras.utils.plot_model(model,show_shapes=True,dpi=100)"
      ],
      "metadata": {
        "colab": {
          "base_uri": "https://localhost:8080/",
          "height": 978
        },
        "id": "34_u8kxGGr6T",
        "outputId": "0548b77a-0c79-4b56-921b-c5dea5969db0"
      },
      "execution_count": null,
      "outputs": [
        {
          "output_type": "execute_result",
          "data": {
            "image/png": "[encoded data removed]",
            "text/plain": [
              "<IPython.core.display.Image object>"
            ]
          },
          "metadata": {},
          "execution_count": 46
        }
      ]
    },
    {
      "cell_type": "code",
      "source": [
        "normalization_layer.adapt(X_train)\n",
        "optimizer=tf.keras.optimizers.Adam(learning_rate=1e-3)\n",
        "\n",
        "model.compile(loss='mse',\n",
        "              optimizer=optimizer,\n",
        "              metrics=['RootMeanSquaredError'])\n",
        "model.fit(X_train,y_train,epochs=20,validation_data=(X_valid,y_valid))\n",
        "mse_test=model.evaluate(X_test,y_test)"
      ],
      "metadata": {
        "colab": {
          "base_uri": "https://localhost:8080/"
        },
        "id": "Vx3395LAHH5D",
        "outputId": "5f5fc18d-9546-47d7-99c8-50914605d4f4"
      },
      "execution_count": null,
      "outputs": [
        {
          "output_type": "stream",
          "name": "stdout",
          "text": [
            "Epoch 1/20\n"
          ]
        },
        {
          "output_type": "stream",
          "name": "stderr",
          "text": [
            "/usr/local/lib/python3.11/dist-packages/keras/src/models/functional.py:237: UserWarning: The structure of `inputs` doesn't match the expected structure.\n",
            "Expected: ['keras_tensor']\n",
            "Received: inputs=Tensor(shape=(None, 8))\n",
            "  warnings.warn(msg)\n"
          ]
        },
        {
          "output_type": "stream",
          "name": "stdout",
          "text": [
            "\u001b[1m363/363\u001b[0m \u001b[32m━━━━━━━━━━━━━━━━━━━━\u001b[0m\u001b[37m\u001b[0m \u001b[1m4s\u001b[0m 7ms/step - RootMeanSquaredError: 1.5918 - loss: 2.7000 - val_RootMeanSquaredError: 0.6920 - val_loss: 0.4789\n",
            "Epoch 2/20\n",
            "\u001b[1m363/363\u001b[0m \u001b[32m━━━━━━━━━━━━━━━━━━━━\u001b[0m\u001b[37m\u001b[0m \u001b[1m1s\u001b[0m 3ms/step - RootMeanSquaredError: 0.7029 - loss: 0.4956 - val_RootMeanSquaredError: 0.6136 - val_loss: 0.3765\n",
            "Epoch 3/20\n",
            "\u001b[1m363/363\u001b[0m \u001b[32m━━━━━━━━━━━━━━━━━━━━\u001b[0m\u001b[37m\u001b[0m \u001b[1m1s\u001b[0m 3ms/step - RootMeanSquaredError: 0.6461 - loss: 0.4180 - val_RootMeanSquaredError: 0.8912 - val_loss: 0.7942\n",
            "Epoch 4/20\n",
            "\u001b[1m363/363\u001b[0m \u001b[32m━━━━━━━━━━━━━━━━━━━━\u001b[0m\u001b[37m\u001b[0m \u001b[1m1s\u001b[0m 3ms/step - RootMeanSquaredError: 0.6285 - loss: 0.3954 - val_RootMeanSquaredError: 0.8731 - val_loss: 0.7622\n",
            "Epoch 5/20\n",
            "\u001b[1m363/363\u001b[0m \u001b[32m━━━━━━━━━━━━━━━━━━━━\u001b[0m\u001b[37m\u001b[0m \u001b[1m1s\u001b[0m 3ms/step - RootMeanSquaredError: 0.6177 - loss: 0.3818 - val_RootMeanSquaredError: 1.3335 - val_loss: 1.7783\n",
            "Epoch 6/20\n",
            "\u001b[1m363/363\u001b[0m \u001b[32m━━━━━━━━━━━━━━━━━━━━\u001b[0m\u001b[37m\u001b[0m \u001b[1m1s\u001b[0m 3ms/step - RootMeanSquaredError: 0.6101 - loss: 0.3724 - val_RootMeanSquaredError: 1.3083 - val_loss: 1.7116\n",
            "Epoch 7/20\n",
            "\u001b[1m363/363\u001b[0m \u001b[32m━━━━━━━━━━━━━━━━━━━━\u001b[0m\u001b[37m\u001b[0m \u001b[1m1s\u001b[0m 3ms/step - RootMeanSquaredError: 0.6026 - loss: 0.3633 - val_RootMeanSquaredError: 1.3354 - val_loss: 1.7832\n",
            "Epoch 8/20\n",
            "\u001b[1m363/363\u001b[0m \u001b[32m━━━━━━━━━━━━━━━━━━━━\u001b[0m\u001b[37m\u001b[0m \u001b[1m1s\u001b[0m 3ms/step - RootMeanSquaredError: 0.5966 - loss: 0.3561 - val_RootMeanSquaredError: 1.1801 - val_loss: 1.3926\n",
            "Epoch 9/20\n",
            "\u001b[1m363/363\u001b[0m \u001b[32m━━━━━━━━━━━━━━━━━━━━\u001b[0m\u001b[37m\u001b[0m \u001b[1m2s\u001b[0m 5ms/step - RootMeanSquaredError: 0.5899 - loss: 0.3481 - val_RootMeanSquaredError: 1.1820 - val_loss: 1.3970\n",
            "Epoch 10/20\n",
            "\u001b[1m363/363\u001b[0m \u001b[32m━━━━━━━━━━━━━━━━━━━━\u001b[0m\u001b[37m\u001b[0m \u001b[1m2s\u001b[0m 3ms/step - RootMeanSquaredError: 0.5841 - loss: 0.3414 - val_RootMeanSquaredError: 0.9520 - val_loss: 0.9063\n",
            "Epoch 11/20\n",
            "\u001b[1m363/363\u001b[0m \u001b[32m━━━━━━━━━━━━━━━━━━━━\u001b[0m\u001b[37m\u001b[0m \u001b[1m1s\u001b[0m 3ms/step - RootMeanSquaredError: 0.5774 - loss: 0.3335 - val_RootMeanSquaredError: 0.9825 - val_loss: 0.9653\n",
            "Epoch 12/20\n",
            "\u001b[1m363/363\u001b[0m \u001b[32m━━━━━━━━━━━━━━━━━━━━\u001b[0m\u001b[37m\u001b[0m \u001b[1m1s\u001b[0m 3ms/step - RootMeanSquaredError: 0.5727 - loss: 0.3281 - val_RootMeanSquaredError: 0.9177 - val_loss: 0.8422\n",
            "Epoch 13/20\n",
            "\u001b[1m363/363\u001b[0m \u001b[32m━━━━━━━━━━━━━━━━━━━━\u001b[0m\u001b[37m\u001b[0m \u001b[1m1s\u001b[0m 3ms/step - RootMeanSquaredError: 0.5678 - loss: 0.3225 - val_RootMeanSquaredError: 0.9788 - val_loss: 0.9581\n",
            "Epoch 14/20\n",
            "\u001b[1m363/363\u001b[0m \u001b[32m━━━━━━━━━━━━━━━━━━━━\u001b[0m\u001b[37m\u001b[0m \u001b[1m1s\u001b[0m 3ms/step - RootMeanSquaredError: 0.5653 - loss: 0.3197 - val_RootMeanSquaredError: 0.9535 - val_loss: 0.9092\n",
            "Epoch 15/20\n",
            "\u001b[1m363/363\u001b[0m \u001b[32m━━━━━━━━━━━━━━━━━━━━\u001b[0m\u001b[37m\u001b[0m \u001b[1m1s\u001b[0m 3ms/step - RootMeanSquaredError: 0.5619 - loss: 0.3158 - val_RootMeanSquaredError: 1.0083 - val_loss: 1.0167\n",
            "Epoch 16/20\n",
            "\u001b[1m363/363\u001b[0m \u001b[32m━━━━━━━━━━━━━━━━━━━━\u001b[0m\u001b[37m\u001b[0m \u001b[1m1s\u001b[0m 3ms/step - RootMeanSquaredError: 0.5596 - loss: 0.3132 - val_RootMeanSquaredError: 0.9581 - val_loss: 0.9180\n",
            "Epoch 17/20\n",
            "\u001b[1m363/363\u001b[0m \u001b[32m━━━━━━━━━━━━━━━━━━━━\u001b[0m\u001b[37m\u001b[0m \u001b[1m2s\u001b[0m 4ms/step - RootMeanSquaredError: 0.5574 - loss: 0.3107 - val_RootMeanSquaredError: 0.9664 - val_loss: 0.9339\n",
            "Epoch 18/20\n",
            "\u001b[1m363/363\u001b[0m \u001b[32m━━━━━━━━━━━━━━━━━━━━\u001b[0m\u001b[37m\u001b[0m \u001b[1m2s\u001b[0m 3ms/step - RootMeanSquaredError: 0.5555 - loss: 0.3086 - val_RootMeanSquaredError: 0.9750 - val_loss: 0.9506\n",
            "Epoch 19/20\n",
            "\u001b[1m363/363\u001b[0m \u001b[32m━━━━━━━━━━━━━━━━━━━━\u001b[0m\u001b[37m\u001b[0m \u001b[1m1s\u001b[0m 3ms/step - RootMeanSquaredError: 0.5532 - loss: 0.3061 - val_RootMeanSquaredError: 1.0119 - val_loss: 1.0239\n",
            "Epoch 20/20\n",
            "\u001b[1m363/363\u001b[0m \u001b[32m━━━━━━━━━━━━━━━━━━━━\u001b[0m\u001b[37m\u001b[0m \u001b[1m1s\u001b[0m 3ms/step - RootMeanSquaredError: 0.5523 - loss: 0.3051 - val_RootMeanSquaredError: 0.9658 - val_loss: 0.9328\n",
            "\u001b[1m162/162\u001b[0m \u001b[32m━━━━━━━━━━━━━━━━━━━━\u001b[0m\u001b[37m\u001b[0m \u001b[1m1s\u001b[0m 4ms/step - RootMeanSquaredError: 0.5531 - loss: 0.3061\n"
          ]
        }
      ]
    },
    {
      "cell_type": "code",
      "source": [
        "tf.random.set_seed(42)\n",
        "tf.keras.backend.clear_session()"
      ],
      "metadata": {
        "id": "XmRmirgtIm63"
      },
      "execution_count": null,
      "outputs": []
    },
    {
      "cell_type": "code",
      "source": [
        "input_wide=tf.keras.layers.Input(shape=[5])\n",
        "input_deep=tf.keras.layers.Input(shape=[6])\n",
        "norm_layer_wide=tf.keras.layers.Normalization()\n",
        "norm_layer_deep=tf.keras.layers.Normalization()\n",
        "norm_wide=norm_layer_wide(input_wide)\n",
        "norm_deep=norm_layer_deep(input_deep)\n",
        "hidden1=tf.keras.layers.Dense(30,activation='relu')(norm_deep)\n",
        "hidden2=tf.keras.layers.Dense(30,activation='relu')(hidden1)\n",
        "concat=tf.keras.layers.concatenate([input_wide,hidden2])\n",
        "output=tf.keras.layers.Dense(1)(concat)\n",
        "model=tf.keras.Model(inputs=[input_wide,input_deep],outputs=[output])"
      ],
      "metadata": {
        "id": "qAB5_1HvI3me"
      },
      "execution_count": null,
      "outputs": []
    },
    {
      "cell_type": "code",
      "source": [
        "model.compile(loss='mse',\n",
        "              optimizer=tf.keras.optimizers.Adam(learning_rate=1e-3),\n",
        "              metrics=['RootMeanSquaredError']\n",
        "              )\n",
        "\n",
        "X_train_wide,X_train_deep=X_train[:,:5],X_train[:,2:]\n",
        "X_valid_wide,X_valid_deep=X_valid[:,:5],X_valid[:,2:]\n",
        "X_test_wide,X_test_deep=X_test[:,:5],X_test[:,2:]\n",
        "X_new_wide,X_new_deep=X_test_wide[:3],X_test_deep[:3]\n",
        "\n",
        "norm_layer_wide.adapt(X_train_wide)\n",
        "norm_layer_deep.adapt(X_train_deep)\n",
        "\n",
        "history=model.fit((X_train_wide,X_train_deep),y_train,epochs=20,\n",
        "                  validation_data=((X_valid_wide,X_valid_deep),y_valid))\n",
        "\n",
        "mse_test=model.evaluate((X_test_wide,X_test_deep),y_test)\n",
        "y_pred=model.predict((X_new_wide,X_new_deep))"
      ],
      "metadata": {
        "colab": {
          "base_uri": "https://localhost:8080/"
        },
        "id": "fEHMLgg9I3jO",
        "outputId": "0e83ab61-6659-40c5-e5f7-2b3c667a4d62"
      },
      "execution_count": null,
      "outputs": [
        {
          "output_type": "stream",
          "name": "stdout",
          "text": [
            "Epoch 1/20\n",
            "\u001b[1m363/363\u001b[0m \u001b[32m━━━━━━━━━━━━━━━━━━━━\u001b[0m\u001b[37m\u001b[0m \u001b[1m4s\u001b[0m 6ms/step - RootMeanSquaredError: 3.7705 - loss: 18.4545 - val_RootMeanSquaredError: 1.6130 - val_loss: 2.6016\n",
            "Epoch 2/20\n",
            "\u001b[1m363/363\u001b[0m \u001b[32m━━━━━━━━━━━━━━━━━━━━\u001b[0m\u001b[37m\u001b[0m \u001b[1m4s\u001b[0m 4ms/step - RootMeanSquaredError: 1.1313 - loss: 1.2826 - val_RootMeanSquaredError: 1.0017 - val_loss: 1.0034\n",
            "Epoch 3/20\n",
            "\u001b[1m363/363\u001b[0m \u001b[32m━━━━━━━━━━━━━━━━━━━━\u001b[0m\u001b[37m\u001b[0m \u001b[1m2s\u001b[0m 3ms/step - RootMeanSquaredError: 0.8709 - loss: 0.7592 - val_RootMeanSquaredError: 0.9693 - val_loss: 0.9396\n",
            "Epoch 4/20\n",
            "\u001b[1m363/363\u001b[0m \u001b[32m━━━━━━━━━━━━━━━━━━━━\u001b[0m\u001b[37m\u001b[0m \u001b[1m1s\u001b[0m 3ms/step - RootMeanSquaredError: 0.7973 - loss: 0.6362 - val_RootMeanSquaredError: 0.8432 - val_loss: 0.7111\n",
            "Epoch 5/20\n",
            "\u001b[1m363/363\u001b[0m \u001b[32m━━━━━━━━━━━━━━━━━━━━\u001b[0m\u001b[37m\u001b[0m \u001b[1m1s\u001b[0m 3ms/step - RootMeanSquaredError: 0.7668 - loss: 0.5886 - val_RootMeanSquaredError: 1.5014 - val_loss: 2.2542\n",
            "Epoch 6/20\n",
            "\u001b[1m363/363\u001b[0m \u001b[32m━━━━━━━━━━━━━━━━━━━━\u001b[0m\u001b[37m\u001b[0m \u001b[1m1s\u001b[0m 3ms/step - RootMeanSquaredError: 0.7281 - loss: 0.5305 - val_RootMeanSquaredError: 1.3698 - val_loss: 1.8763\n",
            "Epoch 7/20\n",
            "\u001b[1m363/363\u001b[0m \u001b[32m━━━━━━━━━━━━━━━━━━━━\u001b[0m\u001b[37m\u001b[0m \u001b[1m1s\u001b[0m 3ms/step - RootMeanSquaredError: 0.7108 - loss: 0.5055 - val_RootMeanSquaredError: 1.9062 - val_loss: 3.6336\n",
            "Epoch 8/20\n",
            "\u001b[1m363/363\u001b[0m \u001b[32m━━━━━━━━━━━━━━━━━━━━\u001b[0m\u001b[37m\u001b[0m \u001b[1m1s\u001b[0m 3ms/step - RootMeanSquaredError: 0.6924 - loss: 0.4795 - val_RootMeanSquaredError: 1.6334 - val_loss: 2.6681\n",
            "Epoch 9/20\n",
            "\u001b[1m363/363\u001b[0m \u001b[32m━━━━━━━━━━━━━━━━━━━━\u001b[0m\u001b[37m\u001b[0m \u001b[1m2s\u001b[0m 4ms/step - RootMeanSquaredError: 0.7167 - loss: 0.5148 - val_RootMeanSquaredError: 1.6596 - val_loss: 2.7542\n",
            "Epoch 10/20\n",
            "\u001b[1m363/363\u001b[0m \u001b[32m━━━━━━━━━━━━━━━━━━━━\u001b[0m\u001b[37m\u001b[0m \u001b[1m2s\u001b[0m 3ms/step - RootMeanSquaredError: 0.7038 - loss: 0.4956 - val_RootMeanSquaredError: 1.4446 - val_loss: 2.0868\n",
            "Epoch 11/20\n",
            "\u001b[1m363/363\u001b[0m \u001b[32m━━━━━━━━━━━━━━━━━━━━\u001b[0m\u001b[37m\u001b[0m \u001b[1m1s\u001b[0m 3ms/step - RootMeanSquaredError: 0.6934 - loss: 0.4818 - val_RootMeanSquaredError: 1.4425 - val_loss: 2.0808\n",
            "Epoch 12/20\n",
            "\u001b[1m363/363\u001b[0m \u001b[32m━━━━━━━━━━━━━━━━━━━━\u001b[0m\u001b[37m\u001b[0m \u001b[1m1s\u001b[0m 3ms/step - RootMeanSquaredError: 0.6952 - loss: 0.4835 - val_RootMeanSquaredError: 1.1889 - val_loss: 1.4134\n",
            "Epoch 13/20\n",
            "\u001b[1m363/363\u001b[0m \u001b[32m━━━━━━━━━━━━━━━━━━━━\u001b[0m\u001b[37m\u001b[0m \u001b[1m1s\u001b[0m 3ms/step - RootMeanSquaredError: 0.6633 - loss: 0.4403 - val_RootMeanSquaredError: 1.2366 - val_loss: 1.5292\n",
            "Epoch 14/20\n",
            "\u001b[1m363/363\u001b[0m \u001b[32m━━━━━━━━━━━━━━━━━━━━\u001b[0m\u001b[37m\u001b[0m \u001b[1m1s\u001b[0m 3ms/step - RootMeanSquaredError: 0.6565 - loss: 0.4311 - val_RootMeanSquaredError: 1.0816 - val_loss: 1.1699\n",
            "Epoch 15/20\n",
            "\u001b[1m363/363\u001b[0m \u001b[32m━━━━━━━━━━━━━━━━━━━━\u001b[0m\u001b[37m\u001b[0m \u001b[1m1s\u001b[0m 3ms/step - RootMeanSquaredError: 0.6433 - loss: 0.4140 - val_RootMeanSquaredError: 1.1183 - val_loss: 1.2507\n",
            "Epoch 16/20\n",
            "\u001b[1m363/363\u001b[0m \u001b[32m━━━━━━━━━━━━━━━━━━━━\u001b[0m\u001b[37m\u001b[0m \u001b[1m1s\u001b[0m 3ms/step - RootMeanSquaredError: 0.6306 - loss: 0.3978 - val_RootMeanSquaredError: 1.0082 - val_loss: 1.0164\n",
            "Epoch 17/20\n",
            "\u001b[1m363/363\u001b[0m \u001b[32m━━━━━━━━━━━━━━━━━━━━\u001b[0m\u001b[37m\u001b[0m \u001b[1m1s\u001b[0m 3ms/step - RootMeanSquaredError: 0.6220 - loss: 0.3870 - val_RootMeanSquaredError: 0.9850 - val_loss: 0.9702\n",
            "Epoch 18/20\n",
            "\u001b[1m363/363\u001b[0m \u001b[32m━━━━━━━━━━━━━━━━━━━━\u001b[0m\u001b[37m\u001b[0m \u001b[1m2s\u001b[0m 4ms/step - RootMeanSquaredError: 0.6143 - loss: 0.3775 - val_RootMeanSquaredError: 1.1462 - val_loss: 1.3137\n",
            "Epoch 19/20\n",
            "\u001b[1m363/363\u001b[0m \u001b[32m━━━━━━━━━━━━━━━━━━━━\u001b[0m\u001b[37m\u001b[0m \u001b[1m1s\u001b[0m 4ms/step - RootMeanSquaredError: 0.6367 - loss: 0.4057 - val_RootMeanSquaredError: 1.3630 - val_loss: 1.8578\n",
            "Epoch 20/20\n",
            "\u001b[1m363/363\u001b[0m \u001b[32m━━━━━━━━━━━━━━━━━━━━\u001b[0m\u001b[37m\u001b[0m \u001b[1m1s\u001b[0m 3ms/step - RootMeanSquaredError: 0.6185 - loss: 0.3828 - val_RootMeanSquaredError: 1.4870 - val_loss: 2.2113\n",
            "\u001b[1m162/162\u001b[0m \u001b[32m━━━━━━━━━━━━━━━━━━━━\u001b[0m\u001b[37m\u001b[0m \u001b[1m1s\u001b[0m 4ms/step - RootMeanSquaredError: 0.6254 - loss: 0.3913\n",
            "\u001b[1m1/1\u001b[0m \u001b[32m━━━━━━━━━━━━━━━━━━━━\u001b[0m\u001b[37m\u001b[0m \u001b[1m0s\u001b[0m 287ms/step\n"
          ]
        }
      ]
    },
    {
      "cell_type": "code",
      "source": [],
      "metadata": {
        "id": "KC3RsIZELTyW"
      },
      "execution_count": null,
      "outputs": []
    },
    {
      "cell_type": "code",
      "source": [
        "input_wide=tf.keras.layers.Input(shape=[5])\n",
        "input_deep=tf.keras.layers.Input(shape=[6])\n",
        "\n",
        "norm_wide=tf.keras.layers.Normalization()\n",
        "norm_deep=tf.keras.layers.Normalization()\n",
        "\n",
        "norm_wide_layer = norm_wide(input_wide)\n",
        "norm_deep_layer = norm_deep(input_deep)\n",
        "\n",
        "hidden1=tf.keras.layers.Dense(30,activation='relu')(norm_deep_layer)\n",
        "hidden2=tf.keras.layers.Dense(30,activation='relu')(hidden1)\n",
        "\n",
        "concat=tf.keras.layers.concatenate([norm_wide_layer,hidden2])\n",
        "\n",
        "output=tf.keras.layers.Dense(1,'linear')(concat)\n",
        "aux_output = tf.keras.layers.Dense(1)(hidden2)\n",
        "\n"
      ],
      "metadata": {
        "id": "XqRpu32SPE1a"
      },
      "execution_count": null,
      "outputs": []
    },
    {
      "cell_type": "code",
      "source": [
        "model=tf.keras.Model(inputs=[input_wide,input_deep],outputs=[output, aux_output])"
      ],
      "metadata": {
        "id": "PQIZCKetPErg"
      },
      "execution_count": null,
      "outputs": []
    },
    {
      "cell_type": "code",
      "source": [
        "tf.keras.utils.plot_model(model, show_shapes = True, dpi = 100)"
      ],
      "metadata": {
        "id": "mPrloCEHV7Ze",
        "outputId": "f9cb8b85-6208-44f6-c2ac-7a06000824fc",
        "colab": {
          "base_uri": "https://localhost:8080/",
          "height": 978
        }
      },
      "execution_count": null,
      "outputs": [
        {
          "output_type": "execute_result",
          "data": {
            "image/png": "[encoded data removed]",
            "text/plain": [
              "<IPython.core.display.Image object>"
            ]
          },
          "metadata": {},
          "execution_count": 53
        }
      ]
    },
    {
      "cell_type": "code",
      "source": [
        "# model.compile(loss='mse',\n",
        "#                optimizer='adam',\n",
        "#                metrics=['RootMeanSquaredError']\n",
        "#               )\n"
      ],
      "metadata": {
        "id": "JeO6ES1ePEjZ"
      },
      "execution_count": null,
      "outputs": []
    },
    {
      "cell_type": "code",
      "source": [
        "optimizer=tf.optimizers.Adam(learning_rate=1e-3)\n",
        "model.compile(loss = ('mse','mse'), loss_weights=(0.9,0.1),\n",
        "              optimizer=optimizer,\n",
        "              metrics=['RootMeanSquaredError', 'RootMeanSquaredError'])"
      ],
      "metadata": {
        "id": "jW5pmLLgYn04"
      },
      "execution_count": null,
      "outputs": []
    },
    {
      "cell_type": "markdown",
      "source": [
        "2 output olduguna gore iki metrics ve iki loss yazilir"
      ],
      "metadata": {
        "id": "arfy8OyDZhQN"
      }
    },
    {
      "cell_type": "markdown",
      "source": [
        "#Subclass API"
      ],
      "metadata": {
        "id": "8n7ExZYFYnxa"
      }
    },
    {
      "cell_type": "code",
      "source": [
        "@tf.keras.utils.register_keras_serializable()\n",
        "class WideAndDeepModel(tf.keras.Model):\n",
        "  def __init__(self,units=30,activation='relu',**kwarks):\n",
        "    super().__init__(**kwarks)\n",
        "    self.norm_layer_wide=tf.keras.layers.Normalization()\n",
        "    self.norm_layer_deep=tf.keras.layers.Normalization()\n",
        "    self.hidden1=tf.keras.layers.Dense(units,activation=activation)\n",
        "    self.hidden2=tf.keras.layers.Dense(units,activation=activation)\n",
        "    self.main_output=tf.keras.layers.Dense(1)\n",
        "    self.aux_output=tf.keras.layers.Dense(1)\n",
        "\n",
        "  def call(self,inputs):\n",
        "    input_wide,input_deep=inputs\n",
        "    norm_wide=self.norm_layer_wide(input_wide)\n",
        "    norm_deep=self.norm_layer_deep(input_deep)\n",
        "    hidden1=self.hidden1(norm_deep)\n",
        "    hidden2=self.hidden2(hidden1)\n",
        "    concat=tf.keras.layers.concatenate([norm_wide,hidden2])\n",
        "    output=self.main_output(concat)\n",
        "    aux_output=self.aux_output(hidden2)\n",
        "    return output,aux_output\n",
        "\n",
        "\n",
        "tf.random.set_seed(42)\n",
        "model=  WideAndDeepModel(30,activation='relu',name='my_cool_model')"
      ],
      "metadata": {
        "id": "H1ZCPXX9Ynu-"
      },
      "execution_count": null,
      "outputs": []
    },
    {
      "cell_type": "code",
      "source": [
        "optimizer=tf.optimizers.Adam(learning_rate=1e-3)\n",
        "model.compile(loss = ('mse','mse'), loss_weights=(0.9,0.1),\n",
        "              optimizer=optimizer,\n",
        "              metrics=['RootMeanSquaredError', 'RootMeanSquaredError'])\n",
        "\n",
        "model.norm_layer_wide.adapt(X_train_wide)\n",
        "model.norm_layer_deep.adapt(X_train_deep)\n",
        "history=model.fit((X_train_wide,X_train_deep),(y_train,y_train),epochs=10,\n",
        "                  validation_data=((X_valid_wide,X_valid_deep),(y_valid,y_valid)))\n",
        "\n",
        "eval_results=model.evaluate((X_test_wide,X_test_deep),(y_test,y_test))\n",
        "y_pred_main,y_pred_aux=model.predict((X_new_wide,X_new_deep))\n"
      ],
      "metadata": {
        "colab": {
          "base_uri": "https://localhost:8080/"
        },
        "id": "FvoT-QxQb3fy",
        "outputId": "5cba45e3-7ba4-4434-9e2e-2a37c61c1f29"
      },
      "execution_count": null,
      "outputs": [
        {
          "output_type": "stream",
          "name": "stdout",
          "text": [
            "Epoch 1/10\n",
            "\u001b[1m363/363\u001b[0m \u001b[32m━━━━━━━━━━━━━━━━━━━━\u001b[0m\u001b[37m\u001b[0m \u001b[1m6s\u001b[0m 10ms/step - RootMeanSquaredError: 1.6518 - RootMeanSquaredError_1: 1.8443 - loss: 2.8990 - mse_loss: 3.4967 - val_RootMeanSquaredError: 2.9981 - val_RootMeanSquaredError_1: 2.5486 - val_loss: 8.7393 - val_mse_loss: 6.4925\n",
            "Epoch 2/10\n",
            "\u001b[1m363/363\u001b[0m \u001b[32m━━━━━━━━━━━━━━━━━━━━\u001b[0m\u001b[37m\u001b[0m \u001b[1m2s\u001b[0m 5ms/step - RootMeanSquaredError: 0.7817 - RootMeanSquaredError_1: 0.9119 - loss: 0.6335 - mse_loss: 0.8324 - val_RootMeanSquaredError: 1.7620 - val_RootMeanSquaredError_1: 1.3167 - val_loss: 2.9676 - val_mse_loss: 1.7330\n",
            "Epoch 3/10\n",
            "\u001b[1m363/363\u001b[0m \u001b[32m━━━━━━━━━━━━━━━━━━━━\u001b[0m\u001b[37m\u001b[0m \u001b[1m2s\u001b[0m 4ms/step - RootMeanSquaredError: 0.7089 - RootMeanSquaredError_1: 0.8013 - loss: 0.5167 - mse_loss: 0.6422 - val_RootMeanSquaredError: 1.0244 - val_RootMeanSquaredError_1: 0.8231 - val_loss: 1.0122 - val_mse_loss: 0.6774\n",
            "Epoch 4/10\n",
            "\u001b[1m363/363\u001b[0m \u001b[32m━━━━━━━━━━━━━━━━━━━━\u001b[0m\u001b[37m\u001b[0m \u001b[1m3s\u001b[0m 4ms/step - RootMeanSquaredError: 0.6692 - RootMeanSquaredError_1: 0.7640 - loss: 0.4617 - mse_loss: 0.5839 - val_RootMeanSquaredError: 0.6329 - val_RootMeanSquaredError_1: 0.7722 - val_loss: 0.4201 - val_mse_loss: 0.5961\n",
            "Epoch 5/10\n",
            "\u001b[1m363/363\u001b[0m \u001b[32m━━━━━━━━━━━━━━━━━━━━\u001b[0m\u001b[37m\u001b[0m \u001b[1m1s\u001b[0m 4ms/step - RootMeanSquaredError: 0.6435 - RootMeanSquaredError_1: 0.7399 - loss: 0.4276 - mse_loss: 0.5477 - val_RootMeanSquaredError: 0.5990 - val_RootMeanSquaredError_1: 0.7879 - val_loss: 0.3850 - val_mse_loss: 0.6206\n",
            "Epoch 6/10\n",
            "\u001b[1m363/363\u001b[0m \u001b[32m━━━━━━━━━━━━━━━━━━━━\u001b[0m\u001b[37m\u001b[0m \u001b[1m4s\u001b[0m 6ms/step - RootMeanSquaredError: 0.6279 - RootMeanSquaredError_1: 0.7206 - loss: 0.4069 - mse_loss: 0.5194 - val_RootMeanSquaredError: 0.5976 - val_RootMeanSquaredError_1: 0.6928 - val_loss: 0.3694 - val_mse_loss: 0.4798\n",
            "Epoch 7/10\n",
            "\u001b[1m363/363\u001b[0m \u001b[32m━━━━━━━━━━━━━━━━━━━━\u001b[0m\u001b[37m\u001b[0m \u001b[1m2s\u001b[0m 5ms/step - RootMeanSquaredError: 0.6176 - RootMeanSquaredError_1: 0.7025 - loss: 0.3928 - mse_loss: 0.4937 - val_RootMeanSquaredError: 0.5988 - val_RootMeanSquaredError_1: 0.7281 - val_loss: 0.3757 - val_mse_loss: 0.5301\n",
            "Epoch 8/10\n",
            "\u001b[1m363/363\u001b[0m \u001b[32m━━━━━━━━━━━━━━━━━━━━\u001b[0m\u001b[37m\u001b[0m \u001b[1m2s\u001b[0m 5ms/step - RootMeanSquaredError: 0.6097 - RootMeanSquaredError_1: 0.6858 - loss: 0.3817 - mse_loss: 0.4705 - val_RootMeanSquaredError: 0.6141 - val_RootMeanSquaredError_1: 0.6749 - val_loss: 0.3849 - val_mse_loss: 0.4554\n",
            "Epoch 9/10\n",
            "\u001b[1m363/363\u001b[0m \u001b[32m━━━━━━━━━━━━━━━━━━━━\u001b[0m\u001b[37m\u001b[0m \u001b[1m2s\u001b[0m 5ms/step - RootMeanSquaredError: 0.6042 - RootMeanSquaredError_1: 0.6744 - loss: 0.3742 - mse_loss: 0.4550 - val_RootMeanSquaredError: 0.7461 - val_RootMeanSquaredError_1: 0.8866 - val_loss: 0.5796 - val_mse_loss: 0.7857\n",
            "Epoch 10/10\n",
            "\u001b[1m363/363\u001b[0m \u001b[32m━━━━━━━━━━━━━━━━━━━━\u001b[0m\u001b[37m\u001b[0m \u001b[1m2s\u001b[0m 4ms/step - RootMeanSquaredError: 0.5993 - RootMeanSquaredError_1: 0.6638 - loss: 0.3674 - mse_loss: 0.4408 - val_RootMeanSquaredError: 0.9070 - val_RootMeanSquaredError_1: 0.8948 - val_loss: 0.8205 - val_mse_loss: 0.8004\n",
            "\u001b[1m162/162\u001b[0m \u001b[32m━━━━━━━━━━━━━━━━━━━━\u001b[0m\u001b[37m\u001b[0m \u001b[1m1s\u001b[0m 4ms/step - RootMeanSquaredError: 0.5902 - RootMeanSquaredError_1: 0.6535 - loss: 0.3563 - mse_loss: 0.4272\n",
            "\u001b[1m1/1\u001b[0m \u001b[32m━━━━━━━━━━━━━━━━━━━━\u001b[0m\u001b[37m\u001b[0m \u001b[1m0s\u001b[0m 260ms/step\n"
          ]
        }
      ]
    },
    {
      "cell_type": "markdown",
      "source": [
        "#Saving and Restoring a Model"
      ],
      "metadata": {
        "id": "ZLdimrFfb46C"
      }
    },
    {
      "cell_type": "code",
      "source": [
        "import shutil\n",
        "\n",
        "shutil.rmtree('my_keras_model.keras',ignore_errors=True)"
      ],
      "metadata": {
        "id": "MeqcKJC5e7ni"
      },
      "execution_count": null,
      "outputs": []
    },
    {
      "cell_type": "code",
      "source": [
        "model.save('my_keras_model.keras')"
      ],
      "metadata": {
        "id": "ZS2yc4uxfJiM"
      },
      "execution_count": null,
      "outputs": []
    },
    {
      "cell_type": "code",
      "source": [
        "# model = tf.keras.models.load_model('/context/my_keras_model.keras')\n",
        "\n",
        "# y_pred_main,y_pred_aux=model.predict((X_new,X_new_deep))"
      ],
      "metadata": {
        "id": "y1256SVdfJe_"
      },
      "execution_count": null,
      "outputs": []
    },
    {
      "cell_type": "markdown",
      "source": [
        "#CALLBACK"
      ],
      "metadata": {
        "id": "jSCVZ-OfrIEB"
      }
    },
    {
      "cell_type": "code",
      "source": [
        "import shutil\n",
        "\n",
        "shutil.rmtree('my_checkpoints', ignore_errors=True)"
      ],
      "metadata": {
        "id": "FzIAwwEIsJso"
      },
      "execution_count": null,
      "outputs": []
    },
    {
      "cell_type": "code",
      "source": [
        "checkpoint_cb = tf.keras.callbacks.ModelCheckpoint('my_checkpoints.keras', save_best_only=True,save_freq='epoch',save_weights_only=False)\n",
        "\n",
        "history=model.fit(\n",
        "    (X_train_wide,X_train_deep),(y_train,y_train),epochs=10,\n",
        "    validation_data=((X_valid_wide,X_valid_deep),(y_valid,y_valid)),\n",
        "    callbacks=[checkpoint_cb]\n",
        ")"
      ],
      "metadata": {
        "colab": {
          "base_uri": "https://localhost:8080/"
        },
        "id": "-qDDdDqJsd3c",
        "outputId": "79541cb4-1705-4e48-ee9b-33e767b565f5"
      },
      "execution_count": null,
      "outputs": [
        {
          "output_type": "stream",
          "name": "stdout",
          "text": [
            "Epoch 1/10\n",
            "\u001b[1m363/363\u001b[0m \u001b[32m━━━━━━━━━━━━━━━━━━━━\u001b[0m\u001b[37m\u001b[0m \u001b[1m1s\u001b[0m 4ms/step - RootMeanSquaredError: 0.5744 - RootMeanSquaredError_1: 0.6213 - loss: 0.3357 - mse_loss: 0.3861 - val_RootMeanSquaredError: 0.9932 - val_RootMeanSquaredError_1: 0.6818 - val_loss: 0.9344 - val_mse_loss: 0.4648\n",
            "Epoch 2/10\n",
            "\u001b[1m363/363\u001b[0m \u001b[32m━━━━━━━━━━━━━━━━━━━━\u001b[0m\u001b[37m\u001b[0m \u001b[1m1s\u001b[0m 4ms/step - RootMeanSquaredError: 0.5734 - RootMeanSquaredError_1: 0.6157 - loss: 0.3338 - mse_loss: 0.3792 - val_RootMeanSquaredError: 1.1266 - val_RootMeanSquaredError_1: 0.8165 - val_loss: 1.2090 - val_mse_loss: 0.6665\n",
            "Epoch 3/10\n",
            "\u001b[1m363/363\u001b[0m \u001b[32m━━━━━━━━━━━━━━━━━━━━\u001b[0m\u001b[37m\u001b[0m \u001b[1m3s\u001b[0m 4ms/step - RootMeanSquaredError: 0.5734 - RootMeanSquaredError_1: 0.6154 - loss: 0.3339 - mse_loss: 0.3788 - val_RootMeanSquaredError: 1.0675 - val_RootMeanSquaredError_1: 1.0782 - val_loss: 1.1418 - val_mse_loss: 1.1620\n",
            "Epoch 4/10\n",
            "\u001b[1m363/363\u001b[0m \u001b[32m━━━━━━━━━━━━━━━━━━━━\u001b[0m\u001b[37m\u001b[0m \u001b[1m3s\u001b[0m 4ms/step - RootMeanSquaredError: 0.5722 - RootMeanSquaredError_1: 0.6144 - loss: 0.3325 - mse_loss: 0.3776 - val_RootMeanSquaredError: 0.9528 - val_RootMeanSquaredError_1: 0.8550 - val_loss: 0.8901 - val_mse_loss: 0.7308\n",
            "Epoch 5/10\n",
            "\u001b[1m363/363\u001b[0m \u001b[32m━━━━━━━━━━━━━━━━━━━━\u001b[0m\u001b[37m\u001b[0m \u001b[1m2s\u001b[0m 5ms/step - RootMeanSquaredError: 0.5698 - RootMeanSquaredError_1: 0.6127 - loss: 0.3298 - mse_loss: 0.3755 - val_RootMeanSquaredError: 0.8081 - val_RootMeanSquaredError_1: 0.7932 - val_loss: 0.6507 - val_mse_loss: 0.6290\n",
            "Epoch 6/10\n",
            "\u001b[1m363/363\u001b[0m \u001b[32m━━━━━━━━━━━━━━━━━━━━\u001b[0m\u001b[37m\u001b[0m \u001b[1m2s\u001b[0m 5ms/step - RootMeanSquaredError: 0.5678 - RootMeanSquaredError_1: 0.6100 - loss: 0.3274 - mse_loss: 0.3722 - val_RootMeanSquaredError: 0.7673 - val_RootMeanSquaredError_1: 0.7687 - val_loss: 0.5889 - val_mse_loss: 0.5908\n",
            "Epoch 7/10\n",
            "\u001b[1m363/363\u001b[0m \u001b[32m━━━━━━━━━━━━━━━━━━━━\u001b[0m\u001b[37m\u001b[0m \u001b[1m1s\u001b[0m 4ms/step - RootMeanSquaredError: 0.5667 - RootMeanSquaredError_1: 0.6097 - loss: 0.3263 - mse_loss: 0.3718 - val_RootMeanSquaredError: 0.7425 - val_RootMeanSquaredError_1: 0.7303 - val_loss: 0.5495 - val_mse_loss: 0.5332\n",
            "Epoch 8/10\n",
            "\u001b[1m363/363\u001b[0m \u001b[32m━━━━━━━━━━━━━━━━━━━━\u001b[0m\u001b[37m\u001b[0m \u001b[1m3s\u001b[0m 5ms/step - RootMeanSquaredError: 0.5653 - RootMeanSquaredError_1: 0.6071 - loss: 0.3246 - mse_loss: 0.3686 - val_RootMeanSquaredError: 0.7332 - val_RootMeanSquaredError_1: 0.7434 - val_loss: 0.5391 - val_mse_loss: 0.5525\n",
            "Epoch 9/10\n",
            "\u001b[1m363/363\u001b[0m \u001b[32m━━━━━━━━━━━━━━━━━━━━\u001b[0m\u001b[37m\u001b[0m \u001b[1m2s\u001b[0m 4ms/step - RootMeanSquaredError: 0.5646 - RootMeanSquaredError_1: 0.6071 - loss: 0.3238 - mse_loss: 0.3687 - val_RootMeanSquaredError: 0.7594 - val_RootMeanSquaredError_1: 0.7471 - val_loss: 0.5749 - val_mse_loss: 0.5579\n",
            "Epoch 10/10\n",
            "\u001b[1m363/363\u001b[0m \u001b[32m━━━━━━━━━━━━━━━━━━━━\u001b[0m\u001b[37m\u001b[0m \u001b[1m1s\u001b[0m 4ms/step - RootMeanSquaredError: 0.5637 - RootMeanSquaredError_1: 0.6051 - loss: 0.3226 - mse_loss: 0.3662 - val_RootMeanSquaredError: 0.8702 - val_RootMeanSquaredError_1: 0.9065 - val_loss: 0.7637 - val_mse_loss: 0.8214\n"
          ]
        }
      ]
    },
    {
      "cell_type": "code",
      "source": [
        "early_stopping_cb=tf.keras.callbacks.EarlyStopping(patience=10,restore_best_weights=True)\n",
        "\n",
        "history=model.fit((X_train_wide,X_train_deep), (y_train,y_train),epochs=100,\n",
        "validation_data=((X_valid_wide,X_valid_deep),(y_valid,y_valid)),\n",
        "                  callbacks=[checkpoint_cb,early_stopping_cb])"
      ],
      "metadata": {
        "colab": {
          "base_uri": "https://localhost:8080/"
        },
        "id": "BjVurzpmtXD7",
        "outputId": "f2d094dc-af3d-461d-a057-0e52ed1bf74c"
      },
      "execution_count": null,
      "outputs": [
        {
          "output_type": "stream",
          "name": "stdout",
          "text": [
            "Epoch 1/100\n",
            "\u001b[1m363/363\u001b[0m \u001b[32m━━━━━━━━━━━━━━━━━━━━\u001b[0m\u001b[37m\u001b[0m \u001b[1m1s\u001b[0m 4ms/step - RootMeanSquaredError: 0.5636 - RootMeanSquaredError_1: 0.6059 - loss: 0.3226 - mse_loss: 0.3672 - val_RootMeanSquaredError: 0.9133 - val_RootMeanSquaredError_1: 0.9161 - val_loss: 0.8346 - val_mse_loss: 0.8390\n",
            "Epoch 2/100\n",
            "\u001b[1m363/363\u001b[0m \u001b[32m━━━━━━━━━━━━━━━━━━━━\u001b[0m\u001b[37m\u001b[0m \u001b[1m1s\u001b[0m 4ms/step - RootMeanSquaredError: 0.5632 - RootMeanSquaredError_1: 0.6042 - loss: 0.3221 - mse_loss: 0.3651 - val_RootMeanSquaredError: 0.7889 - val_RootMeanSquaredError_1: 0.7819 - val_loss: 0.6213 - val_mse_loss: 0.6112\n",
            "Epoch 3/100\n",
            "\u001b[1m363/363\u001b[0m \u001b[32m━━━━━━━━━━━━━━━━━━━━\u001b[0m\u001b[37m\u001b[0m \u001b[1m1s\u001b[0m 4ms/step - RootMeanSquaredError: 0.5614 - RootMeanSquaredError_1: 0.6029 - loss: 0.3201 - mse_loss: 0.3636 - val_RootMeanSquaredError: 0.6411 - val_RootMeanSquaredError_1: 0.6727 - val_loss: 0.4152 - val_mse_loss: 0.4524\n",
            "Epoch 4/100\n",
            "\u001b[1m363/363\u001b[0m \u001b[32m━━━━━━━━━━━━━━━━━━━━\u001b[0m\u001b[37m\u001b[0m \u001b[1m2s\u001b[0m 4ms/step - RootMeanSquaredError: 0.5598 - RootMeanSquaredError_1: 0.6014 - loss: 0.3183 - mse_loss: 0.3617 - val_RootMeanSquaredError: 0.7053 - val_RootMeanSquaredError_1: 0.7248 - val_loss: 0.5003 - val_mse_loss: 0.5252\n",
            "Epoch 5/100\n",
            "\u001b[1m363/363\u001b[0m \u001b[32m━━━━━━━━━━━━━━━━━━━━\u001b[0m\u001b[37m\u001b[0m \u001b[1m3s\u001b[0m 6ms/step - RootMeanSquaredError: 0.5588 - RootMeanSquaredError_1: 0.6002 - loss: 0.3171 - mse_loss: 0.3603 - val_RootMeanSquaredError: 0.7303 - val_RootMeanSquaredError_1: 0.7149 - val_loss: 0.5311 - val_mse_loss: 0.5109\n",
            "Epoch 6/100\n",
            "\u001b[1m363/363\u001b[0m \u001b[32m━━━━━━━━━━━━━━━━━━━━\u001b[0m\u001b[37m\u001b[0m \u001b[1m1s\u001b[0m 4ms/step - RootMeanSquaredError: 0.5584 - RootMeanSquaredError_1: 0.5996 - loss: 0.3166 - mse_loss: 0.3596 - val_RootMeanSquaredError: 0.7123 - val_RootMeanSquaredError_1: 0.8042 - val_loss: 0.5213 - val_mse_loss: 0.6465\n",
            "Epoch 7/100\n",
            "\u001b[1m363/363\u001b[0m \u001b[32m━━━━━━━━━━━━━━━━━━━━\u001b[0m\u001b[37m\u001b[0m \u001b[1m3s\u001b[0m 5ms/step - RootMeanSquaredError: 0.5571 - RootMeanSquaredError_1: 0.5987 - loss: 0.3153 - mse_loss: 0.3585 - val_RootMeanSquaredError: 0.6801 - val_RootMeanSquaredError_1: 0.6175 - val_loss: 0.4545 - val_mse_loss: 0.3813\n",
            "Epoch 8/100\n",
            "\u001b[1m363/363\u001b[0m \u001b[32m━━━━━━━━━━━━━━━━━━━━\u001b[0m\u001b[37m\u001b[0m \u001b[1m1s\u001b[0m 4ms/step - RootMeanSquaredError: 0.5564 - RootMeanSquaredError_1: 0.5972 - loss: 0.3144 - mse_loss: 0.3568 - val_RootMeanSquaredError: 0.7445 - val_RootMeanSquaredError_1: 0.6746 - val_loss: 0.5443 - val_mse_loss: 0.4550\n",
            "Epoch 9/100\n",
            "\u001b[1m363/363\u001b[0m \u001b[32m━━━━━━━━━━━━━━━━━━━━\u001b[0m\u001b[37m\u001b[0m \u001b[1m2s\u001b[0m 5ms/step - RootMeanSquaredError: 0.5559 - RootMeanSquaredError_1: 0.5954 - loss: 0.3136 - mse_loss: 0.3547 - val_RootMeanSquaredError: 0.7832 - val_RootMeanSquaredError_1: 0.7898 - val_loss: 0.6145 - val_mse_loss: 0.6236\n",
            "Epoch 10/100\n",
            "\u001b[1m363/363\u001b[0m \u001b[32m━━━━━━━━━━━━━━━━━━━━\u001b[0m\u001b[37m\u001b[0m \u001b[1m1s\u001b[0m 4ms/step - RootMeanSquaredError: 0.5568 - RootMeanSquaredError_1: 0.5968 - loss: 0.3147 - mse_loss: 0.3563 - val_RootMeanSquaredError: 0.8643 - val_RootMeanSquaredError_1: 0.8977 - val_loss: 0.7529 - val_mse_loss: 0.8056\n",
            "Epoch 11/100\n",
            "\u001b[1m363/363\u001b[0m \u001b[32m━━━━━━━━━━━━━━━━━━━━\u001b[0m\u001b[37m\u001b[0m \u001b[1m3s\u001b[0m 6ms/step - RootMeanSquaredError: 0.5551 - RootMeanSquaredError_1: 0.5951 - loss: 0.3128 - mse_loss: 0.3542 - val_RootMeanSquaredError: 0.7343 - val_RootMeanSquaredError_1: 0.7312 - val_loss: 0.5387 - val_mse_loss: 0.5345\n",
            "Epoch 12/100\n",
            "\u001b[1m363/363\u001b[0m \u001b[32m━━━━━━━━━━━━━━━━━━━━\u001b[0m\u001b[37m\u001b[0m \u001b[1m2s\u001b[0m 5ms/step - RootMeanSquaredError: 0.5546 - RootMeanSquaredError_1: 0.5942 - loss: 0.3122 - mse_loss: 0.3532 - val_RootMeanSquaredError: 0.6942 - val_RootMeanSquaredError_1: 0.7472 - val_loss: 0.4895 - val_mse_loss: 0.5581\n",
            "Epoch 13/100\n",
            "\u001b[1m363/363\u001b[0m \u001b[32m━━━━━━━━━━━━━━━━━━━━\u001b[0m\u001b[37m\u001b[0m \u001b[1m2s\u001b[0m 6ms/step - RootMeanSquaredError: 0.5527 - RootMeanSquaredError_1: 0.5930 - loss: 0.3101 - mse_loss: 0.3517 - val_RootMeanSquaredError: 0.5952 - val_RootMeanSquaredError_1: 0.6387 - val_loss: 0.3596 - val_mse_loss: 0.4079\n",
            "Epoch 14/100\n",
            "\u001b[1m363/363\u001b[0m \u001b[32m━━━━━━━━━━━━━━━━━━━━\u001b[0m\u001b[37m\u001b[0m \u001b[1m2s\u001b[0m 5ms/step - RootMeanSquaredError: 0.5525 - RootMeanSquaredError_1: 0.5927 - loss: 0.3099 - mse_loss: 0.3514 - val_RootMeanSquaredError: 0.6038 - val_RootMeanSquaredError_1: 0.6569 - val_loss: 0.3713 - val_mse_loss: 0.4315\n",
            "Epoch 15/100\n",
            "\u001b[1m363/363\u001b[0m \u001b[32m━━━━━━━━━━━━━━━━━━━━\u001b[0m\u001b[37m\u001b[0m \u001b[1m3s\u001b[0m 6ms/step - RootMeanSquaredError: 0.5512 - RootMeanSquaredError_1: 0.5914 - loss: 0.3085 - mse_loss: 0.3499 - val_RootMeanSquaredError: 0.5716 - val_RootMeanSquaredError_1: 0.6038 - val_loss: 0.3305 - val_mse_loss: 0.3645\n",
            "Epoch 16/100\n",
            "\u001b[1m363/363\u001b[0m \u001b[32m━━━━━━━━━━━━━━━━━━━━\u001b[0m\u001b[37m\u001b[0m \u001b[1m3s\u001b[0m 8ms/step - RootMeanSquaredError: 0.5510 - RootMeanSquaredError_1: 0.5911 - loss: 0.3082 - mse_loss: 0.3494 - val_RootMeanSquaredError: 0.5901 - val_RootMeanSquaredError_1: 0.6659 - val_loss: 0.3578 - val_mse_loss: 0.4433\n",
            "Epoch 17/100\n",
            "\u001b[1m363/363\u001b[0m \u001b[32m━━━━━━━━━━━━━━━━━━━━\u001b[0m\u001b[37m\u001b[0m \u001b[1m4s\u001b[0m 5ms/step - RootMeanSquaredError: 0.5501 - RootMeanSquaredError_1: 0.5904 - loss: 0.3072 - mse_loss: 0.3487 - val_RootMeanSquaredError: 0.6596 - val_RootMeanSquaredError_1: 0.6556 - val_loss: 0.4346 - val_mse_loss: 0.4298\n",
            "Epoch 18/100\n",
            "\u001b[1m363/363\u001b[0m \u001b[32m━━━━━━━━━━━━━━━━━━━━\u001b[0m\u001b[37m\u001b[0m \u001b[1m2s\u001b[0m 4ms/step - RootMeanSquaredError: 0.5504 - RootMeanSquaredError_1: 0.5904 - loss: 0.3075 - mse_loss: 0.3487 - val_RootMeanSquaredError: 0.7007 - val_RootMeanSquaredError_1: 0.7719 - val_loss: 0.5014 - val_mse_loss: 0.5957\n",
            "Epoch 19/100\n",
            "\u001b[1m363/363\u001b[0m \u001b[32m━━━━━━━━━━━━━━━━━━━━\u001b[0m\u001b[37m\u001b[0m \u001b[1m3s\u001b[0m 4ms/step - RootMeanSquaredError: 0.5493 - RootMeanSquaredError_1: 0.5904 - loss: 0.3065 - mse_loss: 0.3487 - val_RootMeanSquaredError: 0.7122 - val_RootMeanSquaredError_1: 0.6219 - val_loss: 0.4952 - val_mse_loss: 0.3867\n",
            "Epoch 20/100\n",
            "\u001b[1m363/363\u001b[0m \u001b[32m━━━━━━━━━━━━━━━━━━━━\u001b[0m\u001b[37m\u001b[0m \u001b[1m3s\u001b[0m 8ms/step - RootMeanSquaredError: 0.5497 - RootMeanSquaredError_1: 0.5897 - loss: 0.3068 - mse_loss: 0.3478 - val_RootMeanSquaredError: 0.6721 - val_RootMeanSquaredError_1: 0.6761 - val_loss: 0.4522 - val_mse_loss: 0.4570\n",
            "Epoch 21/100\n",
            "\u001b[1m363/363\u001b[0m \u001b[32m━━━━━━━━━━━━━━━━━━━━\u001b[0m\u001b[37m\u001b[0m \u001b[1m2s\u001b[0m 6ms/step - RootMeanSquaredError: 0.5483 - RootMeanSquaredError_1: 0.5885 - loss: 0.3053 - mse_loss: 0.3464 - val_RootMeanSquaredError: 0.6247 - val_RootMeanSquaredError_1: 0.6309 - val_loss: 0.3910 - val_mse_loss: 0.3980\n",
            "Epoch 22/100\n",
            "\u001b[1m363/363\u001b[0m \u001b[32m━━━━━━━━━━━━━━━━━━━━\u001b[0m\u001b[37m\u001b[0m \u001b[1m2s\u001b[0m 5ms/step - RootMeanSquaredError: 0.5475 - RootMeanSquaredError_1: 0.5883 - loss: 0.3045 - mse_loss: 0.3462 - val_RootMeanSquaredError: 0.6074 - val_RootMeanSquaredError_1: 0.6905 - val_loss: 0.3797 - val_mse_loss: 0.4767\n",
            "Epoch 23/100\n",
            "\u001b[1m363/363\u001b[0m \u001b[32m━━━━━━━━━━━━━━━━━━━━\u001b[0m\u001b[37m\u001b[0m \u001b[1m2s\u001b[0m 4ms/step - RootMeanSquaredError: 0.5469 - RootMeanSquaredError_1: 0.5877 - loss: 0.3038 - mse_loss: 0.3455 - val_RootMeanSquaredError: 0.6279 - val_RootMeanSquaredError_1: 0.6173 - val_loss: 0.3930 - val_mse_loss: 0.3810\n",
            "Epoch 24/100\n",
            "\u001b[1m363/363\u001b[0m \u001b[32m━━━━━━━━━━━━━━━━━━━━\u001b[0m\u001b[37m\u001b[0m \u001b[1m3s\u001b[0m 6ms/step - RootMeanSquaredError: 0.5463 - RootMeanSquaredError_1: 0.5874 - loss: 0.3032 - mse_loss: 0.3451 - val_RootMeanSquaredError: 0.6172 - val_RootMeanSquaredError_1: 0.7056 - val_loss: 0.3926 - val_mse_loss: 0.4978\n",
            "Epoch 25/100\n",
            "\u001b[1m363/363\u001b[0m \u001b[32m━━━━━━━━━━━━━━━━━━━━\u001b[0m\u001b[37m\u001b[0m \u001b[1m3s\u001b[0m 7ms/step - RootMeanSquaredError: 0.5456 - RootMeanSquaredError_1: 0.5871 - loss: 0.3025 - mse_loss: 0.3447 - val_RootMeanSquaredError: 0.6430 - val_RootMeanSquaredError_1: 0.5934 - val_loss: 0.4073 - val_mse_loss: 0.3521\n"
          ]
        }
      ]
    },
    {
      "cell_type": "code",
      "source": [
        "class PrintValTrainRationalCallback(tf.keras.callbacks.Callback):\n",
        "  def on_epoch_end(self,epoch,logs):\n",
        "    ratio=logs['val_loss']/logs['loss']\n",
        "    print(f'Epoch={epoch},val?train={ratio:.2f}')"
      ],
      "metadata": {
        "id": "2jk-GoKftXAm"
      },
      "execution_count": null,
      "outputs": []
    },
    {
      "cell_type": "code",
      "source": [
        "val_train_ratio_cb=PrintValTrainRationalCallback()\n",
        "history=model.fit(\n",
        "    (X_train_wide,X_train_deep),(y_train,y_train),epochs=10,\n",
        "    validation_data=((X_valid_wide,X_valid_deep),(y_valid,y_valid)),\n",
        "                  callbacks=[val_train_ratio_cb],verbose=0)\n",
        "\n"
      ],
      "metadata": {
        "colab": {
          "base_uri": "https://localhost:8080/"
        },
        "id": "a6Kkoh8avsJL",
        "outputId": "8380acf7-05a4-46e6-cb8f-de7445b37742"
      },
      "execution_count": null,
      "outputs": [
        {
          "output_type": "stream",
          "name": "stdout",
          "text": [
            "Epoch=0,val?train=1.07\n",
            "Epoch=1,val?train=1.69\n",
            "Epoch=2,val?train=1.72\n",
            "Epoch=3,val?train=1.65\n",
            "Epoch=4,val?train=1.71\n",
            "Epoch=5,val?train=1.41\n",
            "Epoch=6,val?train=1.34\n",
            "Epoch=7,val?train=1.24\n",
            "Epoch=8,val?train=1.17\n",
            "Epoch=9,val?train=1.28\n"
          ]
        }
      ]
    },
    {
      "cell_type": "code",
      "source": [],
      "metadata": {
        "id": "ruPF20JVwKCg"
      },
      "execution_count": null,
      "outputs": []
    }
  ]
}