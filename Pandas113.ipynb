{
  "nbformat": 4,
  "nbformat_minor": 0,
  "metadata": {
    "colab": {
      "provenance": [],
      "authorship_tag": "ABX9TyOka0LxSMx+28skJdxSOqdr",
      "include_colab_link": true
    },
    "kernelspec": {
      "name": "python3",
      "display_name": "Python 3"
    },
    "language_info": {
      "name": "python"
    }
  },
  "cells": [
    {
      "cell_type": "markdown",
      "metadata": {
        "id": "view-in-github",
        "colab_type": "text"
      },
      "source": [
        "<a href=\"https://colab.research.google.com/github/leman-cap13/kaggle_datasets_/blob/main/Pandas113.ipynb\" target=\"_parent\"><img src=\"https://colab.research.google.com/assets/colab-badge.svg\" alt=\"Open In Colab\"/></a>"
      ]
    },
    {
      "cell_type": "code",
      "execution_count": null,
      "metadata": {
        "id": "wcIEKc6Mw36q"
      },
      "outputs": [],
      "source": [
        "import pandas as pd"
      ]
    },
    {
      "cell_type": "code",
      "source": [
        "color_table = pd.Series(['Red','Black','Purple','Green'])\n",
        "color_table"
      ],
      "metadata": {
        "id": "mqS_TlSsxDpw"
      },
      "execution_count": null,
      "outputs": []
    },
    {
      "cell_type": "code",
      "source": [
        "car_table = pd.Series(['BMW','Bugatti','Ford','Lamborghini'])\n",
        "car_table"
      ],
      "metadata": {
        "id": "kRHjGQ-Txz4e"
      },
      "execution_count": null,
      "outputs": []
    },
    {
      "cell_type": "code",
      "source": [
        "table = pd.DataFrame({'Marque':car_table,'Color':color_table})\n",
        "table"
      ],
      "metadata": {
        "id": "xxWDjEiy3sOn"
      },
      "execution_count": null,
      "outputs": []
    },
    {
      "cell_type": "code",
      "source": [
        "!wget https://raw.githubusercontent.com/Rstam59/TaskDataRepoForStudents/refs/heads/main/car-sales.csv"
      ],
      "metadata": {
        "id": "84jccGO34nQl"
      },
      "execution_count": null,
      "outputs": []
    },
    {
      "cell_type": "code",
      "source": [
        "df= pd.read_csv('car-sales.csv')\n",
        "df"
      ],
      "metadata": {
        "id": "vs3lQAu_4srF"
      },
      "execution_count": null,
      "outputs": []
    },
    {
      "cell_type": "code",
      "source": [
        "df.dtypes"
      ],
      "metadata": {
        "id": "yGpGP_FK40GT"
      },
      "execution_count": null,
      "outputs": []
    },
    {
      "cell_type": "code",
      "source": [
        "df.describe()"
      ],
      "metadata": {
        "id": "yv45UdCC4_2i"
      },
      "execution_count": null,
      "outputs": []
    },
    {
      "cell_type": "code",
      "source": [
        "df.info()"
      ],
      "metadata": {
        "id": "EE29I1kB5HJT"
      },
      "execution_count": null,
      "outputs": []
    },
    {
      "cell_type": "code",
      "source": [
        "numbers = pd.Series([7,9,11,13,15,21,30,31])\n",
        "numbers"
      ],
      "metadata": {
        "id": "_FJW3cor5LgE"
      },
      "execution_count": null,
      "outputs": []
    },
    {
      "cell_type": "code",
      "source": [
        "numbers.mean()"
      ],
      "metadata": {
        "id": "qyC55gdi5mxc"
      },
      "execution_count": null,
      "outputs": []
    },
    {
      "cell_type": "code",
      "source": [
        "numbers.sum()"
      ],
      "metadata": {
        "id": "Q7AC-ppC5tCR"
      },
      "execution_count": null,
      "outputs": []
    },
    {
      "cell_type": "code",
      "source": [
        "df"
      ],
      "metadata": {
        "id": "9RhA395N5w_o"
      },
      "execution_count": null,
      "outputs": []
    },
    {
      "cell_type": "code",
      "source": [
        "df.columns"
      ],
      "metadata": {
        "id": "lpqyR2ok6b8T"
      },
      "execution_count": null,
      "outputs": []
    },
    {
      "cell_type": "code",
      "source": [
        "len(df)"
      ],
      "metadata": {
        "id": "mQ0eiY-j7A8J"
      },
      "execution_count": null,
      "outputs": []
    },
    {
      "cell_type": "code",
      "source": [
        "df.head(5)"
      ],
      "metadata": {
        "id": "y_2zjdMa7HDs"
      },
      "execution_count": null,
      "outputs": []
    },
    {
      "cell_type": "code",
      "source": [
        "df.head(7)"
      ],
      "metadata": {
        "id": "ZEyTSCle7dp-"
      },
      "execution_count": null,
      "outputs": []
    },
    {
      "cell_type": "code",
      "source": [
        "df.tail(5)"
      ],
      "metadata": {
        "id": "oMGzNymW7gkN"
      },
      "execution_count": null,
      "outputs": []
    },
    {
      "cell_type": "code",
      "source": [
        "df.head(5)"
      ],
      "metadata": {
        "id": "wHk1Pqli8PUX"
      },
      "execution_count": null,
      "outputs": []
    },
    {
      "cell_type": "code",
      "source": [
        "df.loc[3]"
      ],
      "metadata": {
        "id": "0ou2HyiJ7kVE"
      },
      "execution_count": null,
      "outputs": []
    },
    {
      "cell_type": "code",
      "source": [
        "df.iloc[5]"
      ],
      "metadata": {
        "id": "oA6o97H478KL"
      },
      "execution_count": null,
      "outputs": []
    },
    {
      "cell_type": "code",
      "source": [
        "df"
      ],
      "metadata": {
        "id": "y5OeZTRR8XNz"
      },
      "execution_count": null,
      "outputs": []
    },
    {
      "cell_type": "code",
      "source": [
        "df['Odometer (KM)']"
      ],
      "metadata": {
        "id": "XhH6YWza8aKg"
      },
      "execution_count": null,
      "outputs": []
    },
    {
      "cell_type": "code",
      "source": [
        "df['Odometer (KM)'].mean()"
      ],
      "metadata": {
        "id": "cdTenszc8g6u"
      },
      "execution_count": null,
      "outputs": []
    },
    {
      "cell_type": "code",
      "source": [
        "df[df['Odometer (KM)'] > 100000]"
      ],
      "metadata": {
        "id": "xGedUaRd9V1L"
      },
      "execution_count": null,
      "outputs": []
    },
    {
      "cell_type": "code",
      "source": [
        "df['Odometer (KM)'] > 100000"
      ],
      "metadata": {
        "id": "ZeOlRwmp9Z5g"
      },
      "execution_count": null,
      "outputs": []
    },
    {
      "cell_type": "code",
      "source": [
        "df.groupby(['Make']).mean(numeric_only=True)"
      ],
      "metadata": {
        "id": "XAXW2VcT-Fn_"
      },
      "execution_count": null,
      "outputs": []
    },
    {
      "cell_type": "code",
      "source": [
        "df.groupby(['Make','Doors'])"
      ],
      "metadata": {
        "id": "UDk7aRKD_Bhd"
      },
      "execution_count": null,
      "outputs": []
    },
    {
      "cell_type": "code",
      "source": [
        "df.plot('Price')"
      ],
      "metadata": {
        "id": "uO9T_22e_PID"
      },
      "execution_count": null,
      "outputs": []
    },
    {
      "cell_type": "code",
      "source": [
        "df.hist('Odometer (KM)')"
      ],
      "metadata": {
        "id": "mLHY0IEv_aGz"
      },
      "execution_count": null,
      "outputs": []
    },
    {
      "cell_type": "code",
      "source": [
        "df"
      ],
      "metadata": {
        "id": "aqNvhaVC_j_p"
      },
      "execution_count": null,
      "outputs": []
    },
    {
      "cell_type": "code",
      "source": [
        "df['Price']=df['Price'].str.replace('[$/,/.]', '', regex=True)\n",
        "df"
      ],
      "metadata": {
        "id": "QtUgZEFd_qQ2"
      },
      "execution_count": null,
      "outputs": []
    },
    {
      "cell_type": "code",
      "source": [
        "df['Price'] = df['Price'].astype(int) / 100\n",
        "df"
      ],
      "metadata": {
        "id": "z-T2J121AaWB"
      },
      "execution_count": null,
      "outputs": []
    },
    {
      "cell_type": "code",
      "source": [
        "df['Make']= df['Make'].str.lower()\n",
        "df"
      ],
      "metadata": {
        "id": "zW0nEOmsAtXa"
      },
      "execution_count": null,
      "outputs": []
    },
    {
      "cell_type": "code",
      "source": [
        "df"
      ],
      "metadata": {
        "id": "OM9C43zgCDEM"
      },
      "execution_count": null,
      "outputs": []
    },
    {
      "cell_type": "code",
      "source": [
        "!wget https://raw.githubusercontent.com/Rstam59/TaskDataRepoForStudents/refs/heads/main/car-sales-missing-data.csv\n"
      ],
      "metadata": {
        "id": "63jLf0xLCEkc"
      },
      "execution_count": null,
      "outputs": []
    },
    {
      "cell_type": "code",
      "source": [
        "car_sales_missing=pd.read_csv('/content/car-sales-missing-data.csv')\n",
        "car_sales_missing"
      ],
      "metadata": {
        "id": "fOef08QYCT69"
      },
      "execution_count": null,
      "outputs": []
    },
    {
      "cell_type": "code",
      "source": [
        "car_sales_missing['Odometer'].mean()"
      ],
      "metadata": {
        "id": "pFFxZjznCi4H"
      },
      "execution_count": null,
      "outputs": []
    },
    {
      "cell_type": "code",
      "source": [
        "car_sales_missing['Odometer'].fillna(car_sales_missing['Odometer'].mean())"
      ],
      "metadata": {
        "id": "A8GpKGYCDD9q"
      },
      "execution_count": null,
      "outputs": []
    },
    {
      "cell_type": "code",
      "source": [
        "car_sales_missing.dropna()"
      ],
      "metadata": {
        "id": "zI7xWfvVDpnQ"
      },
      "execution_count": null,
      "outputs": []
    },
    {
      "cell_type": "code",
      "source": [
        "car_sales_missing.isna()"
      ],
      "metadata": {
        "id": "8MKCSn-fD7bh"
      },
      "execution_count": null,
      "outputs": []
    },
    {
      "cell_type": "code",
      "source": [
        "car_sales_missing"
      ],
      "metadata": {
        "id": "UNSwxJ2YEI5N"
      },
      "execution_count": null,
      "outputs": []
    },
    {
      "cell_type": "code",
      "source": [
        "pd.crosstab(df['Make'], df[\"Colour\"])"
      ],
      "metadata": {
        "id": "gjD3QFPOERQ6"
      },
      "execution_count": null,
      "outputs": []
    },
    {
      "cell_type": "code",
      "source": [
        "data = [['0', 'Y', 'N'], ['1', 'Y', 'Y'], ['2', 'N', 'Y'], ['3', 'Y', 'Y'], ['4', 'N', 'N']]\n",
        "products = pd.DataFrame(data, columns=['product_id', 'low_fats', 'recyclable']).astype({'product_id':'int64', 'low_fats':'category', 'recyclable':'category'})"
      ],
      "metadata": {
        "id": "rLVZVQ1uGtcp"
      },
      "execution_count": null,
      "outputs": []
    },
    {
      "cell_type": "code",
      "source": [
        "products[(products['low_fats'] == 'Y') & (products['recyclable'] == 'Y')][['product_id']]"
      ],
      "metadata": {
        "id": "wPFWhpj0KMLX"
      },
      "execution_count": null,
      "outputs": []
    },
    {
      "cell_type": "code",
      "source": [
        "data = [[1, 'Will', None], [2, 'Jane', None], [3, 'Alex', 2], [4, 'Bill', None], [5, 'Zack', 1], [6, 'Mark', 2]]\n",
        "customer = pd.DataFrame(data, columns=['id', 'name', 'referee_id']).astype({'id':'Int64', 'name':'object', 'referee_id':'Int64'})"
      ],
      "metadata": {
        "id": "KowDQhawKN1G"
      },
      "execution_count": null,
      "outputs": []
    },
    {
      "cell_type": "code",
      "source": [
        "customer[(customer['referee_id'] != 2) | (customer['referee_id'].isna())  ]['name']"
      ],
      "metadata": {
        "id": "Lg_zQweZLEqO"
      },
      "execution_count": null,
      "outputs": []
    },
    {
      "cell_type": "code",
      "source": [
        "data = [['Afghanistan', 'Asia', 652230, 25500100, 20343000000], ['Albania', 'Europe', 28748, 2831741, 12960000000], ['Algeria', 'Africa', 2381741, 37100000, 188681000000], ['Andorra', 'Europe', 468, 78115, 3712000000], ['Angola', 'Africa', 1246700, 20609294, 100990000000]]\n",
        "world = pd.DataFrame(data, columns=['name', 'continent', 'area', 'population', 'gdp']).astype({'name':'object', 'continent':'object', 'area':'Int64', 'population':'Int64', 'gdp':'Int64'})\n",
        "world"
      ],
      "metadata": {
        "id": "iU3KC9mxLJKV"
      },
      "execution_count": null,
      "outputs": []
    },
    {
      "cell_type": "code",
      "source": [
        "world[(world['area'] > 3000000) | (world['population'] > 25000000)][['name','population','area']]"
      ],
      "metadata": {
        "id": "hbWHEE-jQ_KE"
      },
      "execution_count": null,
      "outputs": []
    },
    {
      "cell_type": "code",
      "source": [
        "data = [[1, 3, 5, '2019-08-01'], [1, 3, 6, '2019-08-02'], [2, 7, 7, '2019-08-01'], [2, 7, 6, '2019-08-02'], [4, 7, 1, '2019-07-22'], [3, 4, 4, '2019-07-21'], [3, 4, 4, '2019-07-21']]\n",
        "views = pd.DataFrame(data, columns=['article_id', 'author_id', 'viewer_id', 'view_date']).astype({'article_id':'Int64', 'author_id':'Int64', 'viewer_id':'Int64', 'view_date':'datetime64[ns]'})\n",
        "views"
      ],
      "metadata": {
        "id": "qnseRjZWR5sP"
      },
      "execution_count": null,
      "outputs": []
    },
    {
      "cell_type": "code",
      "source": [
        "data = [[1, 'Let us Code'], [2, 'More than fifteen chars are here!']]\n",
        "tweets = pd.DataFrame(data, columns=['tweet_id', 'content']).astype({'tweet_id':'Int64', 'content':'object'})\n",
        "tweets"
      ],
      "metadata": {
        "id": "O97VwlckU9nZ"
      },
      "execution_count": null,
      "outputs": []
    },
    {
      "cell_type": "code",
      "source": [
        "tweets[tweets['content'].str.len()>15] [['tweet_id']]"
      ],
      "metadata": {
        "id": "sQ_kgVzxZLRD"
      },
      "execution_count": null,
      "outputs": []
    },
    {
      "cell_type": "code",
      "source": [
        "data = [[101, 'John', 'A', None], [102, 'Dan', 'A', 101], [103, 'James', 'A', 101], [104, 'Amy', 'A', 101], [105, 'Anne', 'A', 101], [106, 'Ron', 'B', 101]]\n",
        "employee = pd.DataFrame(data, columns=['id', 'name', 'department', 'managerId']).astype({'id':'Int64', 'name':'object', 'department':'object', 'managerId':'Int64'})\n",
        "employee"
      ],
      "metadata": {
        "id": "X1GtdKE9ZlEq"
      },
      "execution_count": null,
      "outputs": []
    },
    {
      "cell_type": "code",
      "source": [
        "managers= employee['managerId'].value_counts().reset_index()\n",
        "manager= managers[managers['count']>=5]['managerId']\n",
        "employee[employee['id'].isin(manager)][['name']]"
      ],
      "metadata": {
        "id": "1PfyyD7gyjKD"
      },
      "execution_count": null,
      "outputs": []
    },
    {
      "cell_type": "code",
      "source": [
        "data = [[1, 23], [2, 9], [4, 30], [5, 54], [6, 96], [7, 54], [8, 54]]\n",
        "visits = pd.DataFrame(data, columns=['visit_id', 'customer_id']).astype({'visit_id':'Int64', 'customer_id':'Int64'})\n",
        "data = [[2, 5, 310], [3, 5, 300], [9, 5, 200], [12, 1, 910], [13, 2, 970]]\n",
        "transactions = pd.DataFrame(data, columns=['transaction_id', 'visit_id', 'amount']).astype({'transaction_id':'Int64', 'visit_id':'Int64', 'amount':'Int64'})\n",
        "\n"
      ],
      "metadata": {
        "id": "gWE8pZqLzC9-"
      },
      "execution_count": null,
      "outputs": []
    },
    {
      "cell_type": "code",
      "source": [
        "data = [[1, '2015-01-01', 10], [2, '2015-01-02', 25], [3, '2015-01-03', 20], [4, '2015-01-04', 30]]\n",
        "weather = pd.DataFrame(data, columns=['id', 'recordDate', 'temperature']).astype({'id':'Int64', 'recordDate':'datetime64[ns]', 'temperature':'Int64'})"
      ],
      "metadata": {
        "id": "XuEngrBK6ABw"
      },
      "execution_count": null,
      "outputs": []
    },
    {
      "cell_type": "code",
      "source": [
        " weather = weather.sort_values(by= 'recordDate')\n",
        " val = weather.diff()[['recordDate','temperature']]\n",
        " weather[(val['recordDate']== '1 days' ) & ( val['temperature'] > 0)]\n"
      ],
      "metadata": {
        "id": "o93ute1g6svY"
      },
      "execution_count": null,
      "outputs": []
    },
    {
      "cell_type": "code",
      "source": [
        "data = [[1, 'Alice'], [7, 'Bob'], [11, 'Meir'], [90, 'Winston'], [3, 'Jonathan']]\n",
        "employees = pd.DataFrame(data, columns=['id', 'name']).astype({'id':'int64', 'name':'object'})\n",
        "data = [[3, 1], [11, 2], [90, 3]]\n",
        "employee_uni = pd.DataFrame(data, columns=['id', 'unique_id']).astype({'id':'int64', 'unique_id':'int64'})\n",
        "employee_uni\n"
      ],
      "metadata": {
        "id": "AjKXDvqUCJJ-"
      },
      "execution_count": null,
      "outputs": []
    },
    {
      "cell_type": "code",
      "source": [
        "value= pd.merge(employees, employee_uni, on='id',how='left')\n",
        "value[['unique_id', 'name']]"
      ],
      "metadata": {
        "id": "70tpfxJBDWkS"
      },
      "execution_count": null,
      "outputs": []
    },
    {
      "cell_type": "code",
      "source": [
        "data = [[1, 100, 2008, 10, 5000], [2, 100, 2009, 12, 5000], [7, 200, 2011, 15, 9000]]\n",
        "sales = pd.DataFrame(data, columns=['sale_id', 'product_id', 'year', 'quantity', 'price']).astype({'sale_id':'Int64', 'product_id':'Int64', 'year':'Int64', 'quantity':'Int64', 'price':'Int64'})\n",
        "data = [[100, 'Nokia'], [200, 'Apple'], [300, 'Samsung']]\n",
        "product = pd.DataFrame(data, columns=['product_id', 'product_name']).astype({'product_id':'Int64', 'product_name':'object'})\n",
        "sales"
      ],
      "metadata": {
        "id": "7j1cydv7EUQ_"
      },
      "execution_count": null,
      "outputs": []
    },
    {
      "cell_type": "code",
      "source": [
        "value=pd.merge(sales, product, on = 'product_id')\n",
        "value[['product_name', 'year', 'price']]"
      ],
      "metadata": {
        "id": "WB0edYiqH4xN"
      },
      "execution_count": null,
      "outputs": []
    },
    {
      "cell_type": "code",
      "source": [
        "data = [[0, 0, 'start', 0.712], [0, 0, 'end', 1.52], [0, 1, 'start', 3.14], [0, 1, 'end', 4.12], [1, 0, 'start', 0.55], [1, 0, 'end', 1.55], [1, 1, 'start', 0.43], [1, 1, 'end', 1.42], [2, 0, 'start', 4.1], [2, 0, 'end', 4.512], [2, 1, 'start', 2.5], [2, 1, 'end', 5]]\n",
        "activity = pd.DataFrame(data, columns=['machine_id', 'process_id', 'activity_type', 'timestamp']).astype({'machine_id':'Int64', 'process_id':'Int64', 'activity_type':'object', 'timestamp':'Float64'})\n",
        "activity\n"
      ],
      "metadata": {
        "id": "uLw3mSIbIHm-"
      },
      "execution_count": null,
      "outputs": []
    },
    {
      "cell_type": "code",
      "source": [
        " value = activity.groupby(['machine_id', 'process_id']).mean('timestamp').reset_index()\n",
        " value[['machine_id','timestamp' ]].rename(columns={'timestamp': 'processing_time'})"
      ],
      "metadata": {
        "id": "hBhO2H0NLIsA"
      },
      "execution_count": null,
      "outputs": []
    },
    {
      "cell_type": "code",
      "source": [
        " end = activity[activity['activity_type']=='end']\n",
        " end"
      ],
      "metadata": {
        "id": "S4eZmJGQLku-"
      },
      "execution_count": null,
      "outputs": []
    },
    {
      "cell_type": "code",
      "source": [
        "start = activity[activity['activity_type']=='start']\n",
        "start"
      ],
      "metadata": {
        "id": "oFYUsHrtPK9_"
      },
      "execution_count": null,
      "outputs": []
    },
    {
      "cell_type": "code",
      "source": [
        "val= pd.merge(start,end,on='machine_id')\n",
        "matched = val[val['process_id_x'] == val['process_id_y']]\n",
        "matched['difference'] = matched['timestamp_y'] - matched['timestamp_x']\n",
        "matched.groupby('machine_id').mean('difference').reset_index()[['machine_id','difference']].rename(columns= {'difference': 'processing_time'})\n",
        "\n",
        "\n"
      ],
      "metadata": {
        "id": "_KFnrruCPUnh"
      },
      "execution_count": null,
      "outputs": []
    },
    {
      "cell_type": "code",
      "source": [
        "data = [[3, 'Brad', None, 4000], [1, 'John', 3, 1000], [2, 'Dan', 3, 2000], [4, 'Thomas', 3, 4000]]\n",
        "employee = pd.DataFrame(data, columns=['empId', 'name', 'supervisor', 'salary']).astype({'empId':'Int64', 'name':'object', 'supervisor':'Int64', 'salary':'Int64'})\n",
        "data = [[2, 500], [4, 2000]]\n",
        "bonus = pd.DataFrame(data, columns=['empId', 'bonus']).astype({'empId':'Int64', 'bonus':'Int64'})\n",
        "employee\n"
      ],
      "metadata": {
        "id": "BcwummyGPsHz"
      },
      "execution_count": null,
      "outputs": []
    },
    {
      "cell_type": "code",
      "source": [
        "value= pd.merge(employee,bonus, on='empId', how='left' )\n",
        "value[(value['bonus'] < 1000) | (value['bonus'].isna())][['name','bonus']]\n"
      ],
      "metadata": {
        "id": "tj6SFN76VPOZ"
      },
      "execution_count": null,
      "outputs": []
    },
    {
      "cell_type": "code",
      "source": [
        "data = [[1, 'Alice'], [2, 'Bob'], [13, 'John'], [6, 'Alex']]\n",
        "students = pd.DataFrame(data, columns=['student_id', 'student_name']).astype({'student_id':'Int64', 'student_name':'object'})\n",
        "data = [['Math'], ['Physics'], ['Programming']]\n",
        "subjects = pd.DataFrame(data, columns=['subject_name']).astype({'subject_name':'object'})\n",
        "data = [[1, 'Math'], [1, 'Physics'], [1, 'Programming'], [2, 'Programming'], [1, 'Physics'], [1, 'Math'], [13, 'Math'], [13, 'Programming'], [13, 'Physics'], [2, 'Math'], [1, 'Math']]\n",
        "examinations = pd.DataFrame(data, columns=['student_id', 'subject_name']).astype({'student_id':'Int64', 'subject_name':'object'})\n",
        "\n",
        "students"
      ],
      "metadata": {
        "id": "HPcy1c6oWRnG"
      },
      "execution_count": null,
      "outputs": []
    },
    {
      "cell_type": "code",
      "source": [
        "value= pd.merge(students,examinations, on= 'student_id', how = 'left')\n",
        "value"
      ],
      "metadata": {
        "id": "3f9LKViJYKwc"
      },
      "execution_count": null,
      "outputs": []
    },
    {
      "cell_type": "code",
      "source": [
        "t = value.groupby(['student_id', 'student_name', 'subject_name']).size().reset_index()\n",
        "t"
      ],
      "metadata": {
        "id": "JEXg5rozaiBY"
      },
      "execution_count": null,
      "outputs": []
    },
    {
      "cell_type": "code",
      "source": [
        "l= pd.merge(t,students, on = 'student_id', how= 'right')\n",
        "l"
      ],
      "metadata": {
        "id": "Vqa_jog3eRzB"
      },
      "execution_count": null,
      "outputs": []
    },
    {
      "cell_type": "code",
      "source": [
        "data = [[3, '2020-03-21 10:16:13'], [7, '2020-01-04 13:57:59'], [2, '2020-07-29 23:09:44'], [6, '2020-12-09 10:39:37']]\n",
        "signups = pd.DataFrame(data, columns=['user_id', 'time_stamp']).astype({'user_id':'Int64', 'time_stamp':'datetime64[ns]'})\n",
        "data = [[3, '2021-01-06 03:30:46', 'timeout'], [3, '2021-07-14 14:00:00', 'timeout'], [7, '2021-06-12 11:57:29', 'confirmed'], [7, '2021-06-13 12:58:28', 'confirmed'], [7, '2021-06-14 13:59:27', 'confirmed'], [2, '2021-01-22 00:00:00', 'confirmed'], [2, '2021-02-28 23:59:59', 'timeout']]\n",
        "confirmations = pd.DataFrame(data, columns=['user_id', 'time_stamp', 'action']).astype({'user_id':'Int64', 'time_stamp':'datetime64[ns]', 'action':'object'})\n"
      ],
      "metadata": {
        "id": "qMy3w5Y6jx-K"
      },
      "execution_count": null,
      "outputs": []
    },
    {
      "cell_type": "code",
      "source": [
        "value = pd.merge(signups, confirmations, on = 'user_id', how='left' )\n",
        "value.groupby('user_id').value_counts().reset_index()"
      ],
      "metadata": {
        "id": "qcvo4sog5tZY"
      },
      "execution_count": null,
      "outputs": []
    },
    {
      "cell_type": "code",
      "source": [
        "es= value[value['action']=='confirmed'].value_counts().reset_index()\n",
        "es"
      ],
      "metadata": {
        "id": "Y5rsyWCs6GFr"
      },
      "execution_count": null,
      "outputs": []
    },
    {
      "cell_type": "code",
      "source": [
        "count_total = confirmations.groupby('user_id')['action'].count().reset_index(name = 'total')\n",
        "count_total"
      ],
      "metadata": {
        "id": "QKKZTDgqRnYp"
      },
      "execution_count": null,
      "outputs": []
    },
    {
      "cell_type": "code",
      "source": [
        "df=signups[[\"user_id\"]].merge(confirmations[[\"user_id\", \"action\"]],on= \"user_id\", how=\"left\" )\n",
        "df\n"
      ],
      "metadata": {
        "id": "H3o4ZbdpXG3h"
      },
      "execution_count": null,
      "outputs": []
    },
    {
      "cell_type": "code",
      "source": [
        "df= signups[['user_id']].merge(confirmations[['user_id','action']], on= 'user_id', how= 'left')\n",
        "df"
      ],
      "metadata": {
        "id": "raCRLLpXeYwc"
      },
      "execution_count": null,
      "outputs": []
    },
    {
      "cell_type": "code",
      "source": [
        "\n",
        "output=df[df['action'] =='confirmed'].value_counts().reset_index().rename(columns={'count': 'confirmed_count'}).merge(count_total, on='user_id')\n",
        "output['confirmation_rate']= output['confirmed_count']/output['total']\n",
        "output[['user_id', 'confirmation_rate']]\n"
      ],
      "metadata": {
        "id": "FiacbsJNfRoa"
      },
      "execution_count": null,
      "outputs": []
    },
    {
      "cell_type": "code",
      "source": [
        "data = [[1, 'War', 'great 3D', 8.9], [2, 'Science', 'fiction', 8.5], [3, 'irish', 'boring', 6.2], [4, 'Ice song', 'Fantacy', 8.6], [5, 'House card', 'Interesting', 9.1]]\n",
        "cinema = pd.DataFrame(data, columns=['id', 'movie', 'description', 'rating']).astype({'id':'Int64', 'movie':'object', 'description':'object', 'rating':'Float64'})\n",
        "cinema[(cinema['id'] % 2 != 0) & ( cinema['description'] != 'boring') ].sort_values('rating', ascending=False)"
      ],
      "metadata": {
        "id": "m9U2Z7ArNr53"
      },
      "execution_count": null,
      "outputs": []
    },
    {
      "cell_type": "code",
      "source": [
        "data = [[1, '2019-02-17', '2019-02-28', 5], [1, '2019-03-01', '2019-03-22', 20], [2, '2019-02-01', '2019-02-20', 15], [2, '2019-02-21', '2019-03-31', 30]]\n",
        "prices = pd.DataFrame(data, columns=['product_id', 'start_date', 'end_date', 'price']).astype({'product_id':'Int64', 'start_date':'datetime64[ns]', 'end_date':'datetime64[ns]', 'price':'Int64'})\n",
        "data = [[1, '2019-02-25', 100], [1, '2019-03-01', 15], [2, '2019-02-10', 200], [2, '2019-03-22', 30]]\n",
        "units_sold = pd.DataFrame(data, columns=['product_id', 'purchase_date', 'units']).astype({'product_id':'Int64', 'purchase_date':'datetime64[ns]', 'units':'Int64'})\n",
        "merged= prices.merge(units_sold, on='product_id', how = 'left')\n",
        "merged"
      ],
      "metadata": {
        "id": "dXDafPleRhSw"
      },
      "execution_count": null,
      "outputs": []
    },
    {
      "cell_type": "code",
      "source": [
        "mat= units_sold.groupby('product_id').sum('units').reset_index().rename(columns = {'units': 'sum_units'})\n",
        "mat"
      ],
      "metadata": {
        "id": "67t_DxcfTjmy"
      },
      "execution_count": null,
      "outputs": []
    },
    {
      "cell_type": "code",
      "source": [
        "prices['output']=prices['price'] * units_sold['units']\n",
        "result = prices.groupby('product_id').sum('output').reset_index().merge(mat,on='product_id')\n",
        "result['average_price']= (result['output'] / result['sum_units']).round(2)\n",
        "result[['product_id' , 'average_price']]\n"
      ],
      "metadata": {
        "id": "6kZMqLSHUF2l"
      },
      "execution_count": null,
      "outputs": []
    },
    {
      "cell_type": "code",
      "source": [
        "data = [[1, 1], [1, 2], [1, 3], [2, 1], [2, 4]]\n",
        "project = pd.DataFrame(data, columns=['project_id', 'employee_id']).astype({'project_id':'Int64', 'employee_id':'Int64'})\n",
        "data = [[1, 'Khaled', 3], [2, 'Ali', 2], [3, 'John', 1], [4, 'Doe', 2]]\n",
        "employee = pd.DataFrame(data, columns=['employee_id', 'name', 'experience_years']).astype({'employee_id':'Int64', 'name':'object', 'experience_years':'Int64'})\n",
        "merged=pd.merge(project, employee, on= 'employee_id')\n",
        "merged.groupby('project_id').mean('experience_years').round(2).reset_index().rename(columns={'experience_years' : 'average_years'})[['project_id','average_years']]\n"
      ],
      "metadata": {
        "id": "BGjxO2feZ1k5"
      },
      "execution_count": null,
      "outputs": []
    },
    {
      "cell_type": "code",
      "source": [
        "data = [[6, 'Alice'], [2, 'Bob'], [7, 'Alex']]\n",
        "users = pd.DataFrame(data, columns=['user_id', 'user_name']).astype({'user_id':'Int64', 'user_name':'object'})\n",
        "data = [[215, 6], [209, 2], [208, 2], [210, 6], [208, 6], [209, 7], [209, 6], [215, 7], [208, 7], [210, 2], [207, 2], [210, 7]]\n",
        "register = pd.DataFrame(data, columns=['contest_id', 'user_id']).astype({'contest_id':'Int64', 'user_id':'Int64'})\n",
        "users['user_id'].count()\n"
      ],
      "metadata": {
        "id": "i7-XSswVdGvi"
      },
      "execution_count": null,
      "outputs": []
    },
    {
      "cell_type": "code",
      "source": [
        "register.groupby('contest_id').count().reset_index().rename(columns={'user_id' : 'count_user_id'})/ users['user_id'].count().round(2)\n"
      ],
      "metadata": {
        "id": "XDqacxZ9fWe1"
      },
      "execution_count": null,
      "outputs": []
    },
    {
      "cell_type": "code",
      "source": [
        "output= register.groupby('contest_id').count().reset_index().rename(columns={'user_id' : 'count_user_id'})\n",
        "output['percentage'] = ((output['count_user_id']/users['user_id'].count())*100.0).round(2)\n",
        "output[['contest_id','percentage']].sort_values('contest_id').sort_values('percentage', ascending=False)"
      ],
      "metadata": {
        "id": "wMLfWiJMhD0Y"
      },
      "execution_count": null,
      "outputs": []
    },
    {
      "cell_type": "code",
      "source": [
        "data = [['Dog', 'Golden Retriever', 1, 5], ['Dog', 'German Shepherd', 2, 5], ['Dog', 'Mule', 200, 1], ['Cat', 'Shirazi', 5, 2], ['Cat', 'Siamese', 3, 3], ['Cat', 'Sphynx', 7, 4]]\n",
        "queries = pd.DataFrame(data, columns=['query_name', 'result', 'position', 'rating']).astype({'query_name':'object', 'result':'object', 'position':'Int64', 'rating':'Int64'})\n",
        "queries"
      ],
      "metadata": {
        "id": "21ORPOz7hyQS"
      },
      "execution_count": null,
      "outputs": []
    },
    {
      "cell_type": "code",
      "source": [
        "queries['percentage']=(queries['rating'] / queries['position'])\n",
        "output= queries.groupby('query_name').sum('percentage').round(2).reset_index()\n",
        "output"
      ],
      "metadata": {
        "id": "0wNN0oTqmaqJ"
      },
      "execution_count": null,
      "outputs": []
    },
    {
      "cell_type": "code",
      "source": [
        "a['poor_query_percentage'] = ((b['count']/c['size'])*100.0).round(2)\n",
        "a"
      ],
      "metadata": {
        "id": "QEZeppGRcnnf"
      },
      "execution_count": null,
      "outputs": []
    },
    {
      "cell_type": "code",
      "source": [
        "cem= queries.groupby('query_name').size().to_frame('size').reset_index()\n",
        "a=output.merge(cem,on ='query_name')\n",
        "a['quality'] = (a['percentage']/ a['size']).round(2)\n",
        "a[['query_name', 'quality', 'poor_query_percentage']]"
      ],
      "metadata": {
        "id": "3_v0wGW6oHV6"
      },
      "execution_count": null,
      "outputs": []
    },
    {
      "cell_type": "code",
      "source": [
        "b=queries[queries['rating']<3].value_counts().reset_index()\n",
        "b\n"
      ],
      "metadata": {
        "id": "7DKjsx_2rroB"
      },
      "execution_count": null,
      "outputs": []
    },
    {
      "cell_type": "code",
      "source": [
        "c= queries.groupby('query_name').size().to_frame('size').reset_index()\n",
        "c"
      ],
      "metadata": {
        "id": "_EkY4WcRszS3"
      },
      "execution_count": null,
      "outputs": []
    },
    {
      "cell_type": "code",
      "source": [
        "a['poor_query_percentage'] = ((b['count']/c['size'])*100.0).round(2)\n",
        "a"
      ],
      "metadata": {
        "id": "Z4ghz-H5uKaN"
      },
      "execution_count": null,
      "outputs": []
    },
    {
      "cell_type": "code",
      "source": [
        "data = [[121, 'US', 'approved', 1000, '2018-12-18'], [122, 'US', 'declined', 2000, '2018-12-19'], [123, 'US', 'approved', 2000, '2019-01-01'], [124, 'DE', 'approved', 2000, '2019-01-07']]\n",
        "transactions = pd.DataFrame(data, columns=['id', 'country', 'state', 'amount', 'trans_date']).astype({'id':'Int64', 'country':'object', 'state':'object', 'amount':'Int64', 'trans_date':'datetime64[ns]'})\n",
        "transactions"
      ],
      "metadata": {
        "id": "ouIOYlaVuwPG"
      },
      "execution_count": null,
      "outputs": []
    },
    {
      "cell_type": "code",
      "source": [
        "transactions[transactions['state']=='approved'].groupby('country').sum('amount').reset_index()"
      ],
      "metadata": {
        "id": "fSlyFtxVwO8-"
      },
      "execution_count": null,
      "outputs": []
    },
    {
      "cell_type": "code",
      "source": [
        "transactions[transactions['state']=='approved'].value_counts()\n"
      ],
      "metadata": {
        "id": "-dYr7a9rxLzT"
      },
      "execution_count": null,
      "outputs": []
    },
    {
      "cell_type": "code",
      "source": [
        "transactions[transactions['state']=='declined'].value_counts()\n"
      ],
      "metadata": {
        "id": "eqpNu7MUxeC2"
      },
      "execution_count": null,
      "outputs": []
    },
    {
      "cell_type": "code",
      "source": [
        "transactions['month'] = pd.to_datetime(transactions['trans_date']).dt.strftime('%Y-%m')"
      ],
      "metadata": {
        "id": "7TfhLOKEyqPM"
      },
      "execution_count": null,
      "outputs": []
    },
    {
      "cell_type": "code",
      "source": [
        "transactions"
      ],
      "metadata": {
        "id": "w357Plo0zOaZ"
      },
      "execution_count": null,
      "outputs": []
    },
    {
      "cell_type": "code",
      "source": [
        "transactions['state'] = transactions['state'].str.replace('approved', '1').replace('declined', '0')\n",
        "transactions['state'] = transactions['state'].astype(int)"
      ],
      "metadata": {
        "id": "QnfswefyzQ9f"
      },
      "execution_count": null,
      "outputs": []
    },
    {
      "cell_type": "code",
      "source": [
        "transactions"
      ],
      "metadata": {
        "id": "a7bV2INczdee"
      },
      "execution_count": null,
      "outputs": []
    },
    {
      "cell_type": "code",
      "source": [
        "transactions['approved_total_amount'] = transactions['amount'] * transactions['state']"
      ],
      "metadata": {
        "id": "H4l7gjDRzfN6"
      },
      "execution_count": null,
      "outputs": []
    },
    {
      "cell_type": "code",
      "source": [
        "transactions"
      ],
      "metadata": {
        "id": "59LaowdVzq_8"
      },
      "execution_count": null,
      "outputs": []
    },
    {
      "cell_type": "code",
      "source": [
        "transactions['month'] =  pd.to_datetime(transactions['trans_date']).dt.strftime('%Y-%m')\n",
        "transactions"
      ],
      "metadata": {
        "id": "4ujplj4P0pLP"
      },
      "execution_count": null,
      "outputs": []
    },
    {
      "cell_type": "code",
      "source": [
        "data = [[1, 1, '2019-08-01', '2019-08-02'], [2, 2, '2019-08-02', '2019-08-02'], [3, 1, '2019-08-11', '2019-08-12'], [4, 3, '2019-08-24', '2019-08-24'], [5, 3, '2019-08-21', '2019-08-22'], [6, 2, '2019-08-11', '2019-08-13'], [7, 4, '2019-08-09', '2019-08-09']]\n",
        "delivery = pd.DataFrame(data, columns=['delivery_id', 'customer_id', 'order_date', 'customer_pref_delivery_date']).astype({'delivery_id':'Int64', 'customer_id':'Int64', 'order_date':'datetime64[ns]', 'customer_pref_delivery_date':'datetime64[ns]'})\n",
        "delivery"
      ],
      "metadata": {
        "id": "s2jmYBLLjYiG"
      },
      "execution_count": null,
      "outputs": []
    },
    {
      "cell_type": "code",
      "source": [
        "delivery['immediate']=delivery['order_date']==delivery['customer_pref_delivery_date']\n",
        "delivery"
      ],
      "metadata": {
        "id": "vgWPWqCwjkeQ"
      },
      "execution_count": null,
      "outputs": []
    },
    {
      "cell_type": "code",
      "source": [
        "df=delivery.groupby('customer_id').min().reset_index()\n",
        "df"
      ],
      "metadata": {
        "id": "vlLTLL17kJ6d"
      },
      "execution_count": null,
      "outputs": []
    },
    {
      "cell_type": "code",
      "source": [
        "df1 = df[df[\"order_date\"]==df[\"customer_pref_delivery_date\"]]\n",
        "df1"
      ],
      "metadata": {
        "id": "8b8zc_Pamh4H"
      },
      "execution_count": null,
      "outputs": []
    },
    {
      "cell_type": "code",
      "source": [
        "pd.DataFrame({'immediate_percentage': [(len(df1)/len(df))*100.0]}).round(2)\n"
      ],
      "metadata": {
        "id": "fl8wIxv_qd0D"
      },
      "execution_count": null,
      "outputs": []
    },
    {
      "cell_type": "code",
      "source": [
        "data = [[1, 2, '2016-03-01', 5], [1, 2, '2016-03-02', 6], [2, 3, '2017-06-25', 1], [3, 1, '2016-03-02', 0], [3, 4, '2018-07-03', 5]]\n",
        "activity = pd.DataFrame(data, columns=['player_id', 'device_id', 'event_date', 'games_played']).astype({'player_id':'Int64', 'device_id':'Int64', 'event_date':'datetime64[ns]', 'games_played':'Int64'})"
      ],
      "metadata": {
        "id": "JK8wLBnYpv-6"
      },
      "execution_count": null,
      "outputs": []
    },
    {
      "cell_type": "code",
      "source": [
        "activity"
      ],
      "metadata": {
        "id": "qRJjk6TLtryn"
      },
      "execution_count": null,
      "outputs": []
    },
    {
      "cell_type": "code",
      "source": [
        "pd.DataFrame({'fraction':[(len(activity[activity.diff()['event_date']=='1 days']) / (len(activity['player_id'].unique())))]}).round(2)"
      ],
      "metadata": {
        "id": "OWVAwAtEu-jp"
      },
      "execution_count": null,
      "outputs": []
    },
    {
      "cell_type": "code",
      "source": [
        "data = [[1, 2, 3], [1, 2, 4], [1, 3, 3], [2, 1, 1], [2, 2, 1], [2, 3, 1], [2, 4, 1]]\n",
        "teacher = pd.DataFrame(data, columns=['teacher_id', 'subject_id', 'dept_id']).astype({'teacher_id':'Int64', 'subject_id':'Int64', 'dept_id':'Int64'})\n",
        "teacher"
      ],
      "metadata": {
        "id": "b9SItxmvvdle"
      },
      "execution_count": null,
      "outputs": []
    },
    {
      "cell_type": "code",
      "source": [
        "teacher.groupby('teacher_id')['subject_id'].nunique().reset_index()"
      ],
      "metadata": {
        "id": "uXbe0dc21pYr"
      },
      "execution_count": null,
      "outputs": []
    },
    {
      "cell_type": "code",
      "source": [
        "DF= teacher.groupby('teacher_id').nunique().reset_index()\n",
        "DF[['teacher_id','subject_id']].rename(columns= {'subject_id': 'cnt'})"
      ],
      "metadata": {
        "id": "YsXMh_ZM2YZW"
      },
      "execution_count": null,
      "outputs": []
    },
    {
      "cell_type": "code",
      "source": [
        "data = [[1, 1, '2019-07-20', 'open_session'], [1, 1, '2019-07-20', 'scroll_down'], [1, 1, '2019-07-20', 'end_session'], [2, 4, '2019-07-20', 'open_session'], [2, 4, '2019-07-21', 'send_message'], [2, 4, '2019-07-21', 'end_session'], [3, 2, '2019-07-21', 'open_session'], [3, 2, '2019-07-21', 'send_message'], [3, 2, '2019-07-21', 'end_session'], [4, 3, '2019-06-25', 'open_session'], [4, 3, '2019-06-25', 'end_session']]\n",
        "activity = pd.DataFrame(data, columns=['user_id', 'session_id', 'activity_date', 'activity_type']).astype({'user_id':'Int64', 'session_id':'Int64', 'activity_date':'datetime64[ns]', 'activity_type':'object'})\n",
        "activity"
      ],
      "metadata": {
        "id": "lCIt9u9-3ZSl"
      },
      "execution_count": null,
      "outputs": []
    },
    {
      "cell_type": "code",
      "source": [
        "res= activity.groupby('activity_date')['user_id'].nunique().reset_index()\n",
        "res[(res['activity_date']>'2019-06-27') & ( res['activity_date']<='2019-07-27')].rename(columns={'user_id':'active_users', 'activity_date': 'day'})"
      ],
      "metadata": {
        "id": "L_yZvm_f4xxB"
      },
      "execution_count": null,
      "outputs": []
    },
    {
      "cell_type": "code",
      "source": [
        "data = [[1, 100, 2008, 10, 5000], [2, 100, 2009, 12, 5000], [7, 200, 2011, 15, 9000]]\n",
        "sales = pd.DataFrame(data, columns=['sale_id', 'product_id', 'year', 'quantity', 'price']).astype({'sale_id':'Int64', 'product_id':'Int64', 'year':'Int64', 'quantity':'Int64', 'price':'Int64'})\n",
        "data = [[100, 'Nokia'], [200, 'Apple'], [300, 'Samsung']]\n",
        "product = pd.DataFrame(data, columns=['product_id', 'product_name']).astype({'product_id':'Int64', 'product_name':'object'})\n",
        "sales"
      ],
      "metadata": {
        "id": "fHgeFZWj7eOq"
      },
      "execution_count": null,
      "outputs": []
    },
    {
      "cell_type": "code",
      "source": [
        "product"
      ],
      "metadata": {
        "id": "RABzy6Ix93wr"
      },
      "execution_count": null,
      "outputs": []
    },
    {
      "cell_type": "code",
      "source": [
        "merged= pd.merge(sales,product,on='product_id')\n",
        "merged1=merged.groupby('product_id').min('year').reset_index().rename(columns={'year': 'first_year'})\n",
        "merged1[['product_id', 'first_year', 'quantity','price']]"
      ],
      "metadata": {
        "id": "RX3A-VqH954W"
      },
      "execution_count": null,
      "outputs": []
    },
    {
      "cell_type": "code",
      "source": [
        "data = [['A', 'Math'], ['B', 'English'], ['C', 'Math'], ['D', 'Biology'], ['E', 'Math'], ['F', 'Computer'], ['G', 'Math'], ['H', 'Math'], ['I', 'Math']]\n",
        "courses = pd.DataFrame(data, columns=['student', 'class']).astype({'student':'object', 'class':'object'})\n",
        "courses"
      ],
      "metadata": {
        "id": "HdFmNKTRBiT2"
      },
      "execution_count": null,
      "outputs": []
    },
    {
      "cell_type": "code",
      "source": [
        "css= courses.groupby('class')['student'].nunique().reset_index()\n",
        "css[css['student']>=5][['class']]"
      ],
      "metadata": {
        "id": "f46EAQPBFG19"
      },
      "execution_count": null,
      "outputs": []
    },
    {
      "cell_type": "code",
      "source": [
        "data = [['0', '1'], ['1', '0'], ['2', '0'], ['2', '1']]\n",
        "followers = pd.DataFrame(data, columns=['user_id', 'follower_id']).astype({'user_id':'Int64', 'follower_id':'Int64'})\n",
        "followers"
      ],
      "metadata": {
        "id": "rRYJ0p65Fa8L"
      },
      "execution_count": null,
      "outputs": []
    },
    {
      "cell_type": "code",
      "source": [
        "followers.groupby('user_id')['follower_id'].nunique().reset_index().rename(columns={'follower_id': 'followers_count'})"
      ],
      "metadata": {
        "id": "HkVmvvUuGRQN"
      },
      "execution_count": null,
      "outputs": []
    },
    {
      "cell_type": "code",
      "source": [
        "data = [[8], [8], [3], [3], [1], [4], [5], [6]]\n",
        "my_numbers = pd.DataFrame(data, columns=['num']).astype({'num':'Int64'})\n",
        "my_numbers"
      ],
      "metadata": {
        "id": "jxnfW43YGkfT"
      },
      "execution_count": null,
      "outputs": []
    },
    {
      "cell_type": "code",
      "source": [
        "df= my_numbers.value_counts().reset_index()\n",
        "df1= df[df['count']==1]\n",
        "df1[df1['num']==df1['num'].max()][['num']]"
      ],
      "metadata": {
        "id": "RXNn0BTyHCV6"
      },
      "execution_count": null,
      "outputs": []
    },
    {
      "cell_type": "code",
      "source": [
        "my_numbers.drop_duplicates(keep = False).max().to_frame('num')"
      ],
      "metadata": {
        "id": "I1j22il5HTP1"
      },
      "execution_count": null,
      "outputs": []
    },
    {
      "cell_type": "code",
      "source": [
        "data = [[1, 5], [2, 6], [3, 5], [3, 6], [1, 6]]\n",
        "customer = pd.DataFrame(data, columns=['customer_id', 'product_key']).astype({'customer_id':'Int64', 'product_key':'Int64'})\n",
        "data = [[5], [6]]\n",
        "product = pd.DataFrame(data, columns=['product_key']).astype({'product_key':'Int64'})\n",
        "customer\n"
      ],
      "metadata": {
        "id": "plxyp_jIJVvL"
      },
      "execution_count": null,
      "outputs": []
    },
    {
      "cell_type": "code",
      "source": [
        "product\n"
      ],
      "metadata": {
        "id": "FBpiCgXDL4Qb"
      },
      "execution_count": null,
      "outputs": []
    },
    {
      "cell_type": "code",
      "source": [
        "merged=pd.merge(customer,product,on='product_key')\n",
        "merged"
      ],
      "metadata": {
        "id": "3AQLHESzL8OH"
      },
      "execution_count": null,
      "outputs": []
    },
    {
      "cell_type": "code",
      "source": [
        "merged1= merged.groupby('customer_id')['product_key'].nunique().reset_index()\n",
        "merged1[merged1['product_key']==len(product['product_key'])][['customer_id']]"
      ],
      "metadata": {
        "id": "GvnyEPBfMPDP"
      },
      "execution_count": null,
      "outputs": []
    },
    {
      "cell_type": "code",
      "source": [
        "data = [[9, 'Hercy', None, 43], [6, 'Alice', 9, 41], [4, 'Bob', 9, 36], [2, 'Winston', None, 37]]\n",
        "employees = pd.DataFrame(data, columns=['employee_id', 'name', 'reports_to', 'age']).astype({'employee_id':'Int64', 'name':'object', 'reports_to':'Int64', 'age':'Int64'})"
      ],
      "metadata": {
        "id": "WHsdRsBEMdJq"
      },
      "execution_count": null,
      "outputs": []
    },
    {
      "cell_type": "code",
      "source": [
        "employees"
      ],
      "metadata": {
        "id": "7FUO6RNDqaZx"
      },
      "execution_count": null,
      "outputs": []
    },
    {
      "cell_type": "code",
      "source": [
        "df= employees[employees['employee_id'].isin(employees['reports_to'])][['employee_id','name']]\n",
        "df"
      ],
      "metadata": {
        "id": "Fj4II0Vjqgyf"
      },
      "execution_count": null,
      "outputs": []
    },
    {
      "cell_type": "code",
      "source": [
        "df1= employees.groupby('reports_to').mean('age').reset_index()\n",
        "df1"
      ],
      "metadata": {
        "id": "yISrSfmJxQng"
      },
      "execution_count": null,
      "outputs": []
    },
    {
      "cell_type": "code",
      "source": [
        "merged=pd.merge(df,df1,left_on='employee_id',right_on='reports_to')\n",
        "a=merged[['employee_id_x','name','age']].rename(columns={'employee_id_x':'employee_id','age':'average_age'})\n",
        "a"
      ],
      "metadata": {
        "id": "LRbybFqHyCTt"
      },
      "execution_count": null,
      "outputs": []
    },
    {
      "cell_type": "code",
      "source": [
        "df2=employees.groupby('reports_to').nunique().reset_index()\n",
        "b= df2[['reports_to','employee_id']].rename(columns={'employee_id':'reports_count','reports_to':'employee_id'}).merge(a,on='employee_id')\n",
        "b[['employee_id','name','reports_count','average_age']]"
      ],
      "metadata": {
        "id": "VGufwYw31G8Z"
      },
      "execution_count": null,
      "outputs": []
    },
    {
      "cell_type": "code",
      "source": [
        "data = [['1', '1', 'N'], ['2', '1', 'Y'], ['2', '2', 'N'], ['3', '3', 'N'], ['4', '2', 'N'], ['4', '3', 'Y'], ['4', '4', 'N']]\n",
        "employee = pd.DataFrame(data, columns=['employee_id', 'department_id', 'primary_flag']).astype({'employee_id':'Int64', 'department_id':'Int64', 'primary_flag':'object'})\n",
        "employee"
      ],
      "metadata": {
        "id": "bx-mq-Lo2deF"
      },
      "execution_count": null,
      "outputs": []
    },
    {
      "cell_type": "code",
      "source": [
        "df=employee[employee['primary_flag']=='Y'][['employee_id','department_id']]\n",
        "df"
      ],
      "metadata": {
        "id": "SV70YOe65l2a"
      },
      "execution_count": null,
      "outputs": []
    },
    {
      "cell_type": "code",
      "source": [
        "df1=employee.groupby('employee_id').nunique('primary_flag').reset_index()\n",
        "df1[df1['primary_flag']==1][['employee_id','department_id']]"
      ],
      "metadata": {
        "id": "w-T2I5en6pnf"
      },
      "execution_count": null,
      "outputs": []
    },
    {
      "cell_type": "code",
      "source": [
        "employee=employee[(~employee.duplicated(subset='employee_id', keep=False))|(employee.primary_flag==\"Y\")]\n",
        "employee[['employee_id', 'department_id']]"
      ],
      "metadata": {
        "id": "P-_Mb4GG9iV6"
      },
      "execution_count": null,
      "outputs": []
    },
    {
      "cell_type": "code",
      "source": [
        "data = [[13, 15, 30], [10, 20, 15]]\n",
        "triangle = pd.DataFrame(data, columns=['x', 'y', 'z']).astype({'x':'Int64', 'y':'Int64', 'z':'Int64'})\n",
        "triangle"
      ],
      "metadata": {
        "id": "tDb5ALUK-g1v"
      },
      "execution_count": null,
      "outputs": []
    },
    {
      "cell_type": "code",
      "source": [
        "triangle['triangle']=(triangle['x']+triangle['y']>triangle['z']) & (triangle['x']+triangle['z']>triangle['y'])& (triangle['z']+triangle['y']>triangle['x'])\n",
        "triangle['triangle']=triangle['triangle'].astype(str).replace({'False':'No','True':'Yes'})\n",
        "triangle"
      ],
      "metadata": {
        "id": "tZWO4gAVA8bE"
      },
      "execution_count": null,
      "outputs": []
    },
    {
      "cell_type": "code",
      "source": [
        "data = [[1, 1], [2, 1], [3, 1], [4, 2], [5, 1], [6, 2], [7, 2]]\n",
        "logs = pd.DataFrame(data, columns=['id', 'num']).astype({'id':'Int64', 'num':'Int64'})\n",
        "logs"
      ],
      "metadata": {
        "id": "hVg4YmBuDh_Q"
      },
      "execution_count": null,
      "outputs": []
    },
    {
      "cell_type": "code",
      "source": [
        "df=logs[(logs['num'] == logs['num'].shift(1) ) & ((logs['num'] == logs['num'].shift(2)))]\n",
        "df[['num']].rename(columns={'num':'ConsecutiveNums'})"
      ],
      "metadata": {
        "id": "kY_lWPMfvKqD"
      },
      "execution_count": null,
      "outputs": []
    },
    {
      "cell_type": "code",
      "source": [
        "data = [[1, 20, '2019-08-14'], [2, 50, '2019-08-14'], [1, 30, '2019-08-15'], [1, 35, '2019-08-16'], [2, 65, '2019-08-17'], [3, 20, '2019-08-18']]\n",
        "products = pd.DataFrame(data, columns=['product_id', 'new_price', 'change_date']).astype({'product_id':'Int64', 'new_price':'Int64', 'change_date':'datetime64[ns]'})\n",
        "products"
      ],
      "metadata": {
        "id": "T_8P33GBxrjm"
      },
      "execution_count": null,
      "outputs": []
    },
    {
      "cell_type": "code",
      "source": [
        "products.drop_duplicates('product_id')"
      ],
      "metadata": {
        "id": "q5w9fpq60d9G"
      },
      "execution_count": null,
      "outputs": []
    },
    {
      "cell_type": "code",
      "source": [
        "products_new=products[products['change_date'] <= '2019-08-16']\n",
        "products_new"
      ],
      "metadata": {
        "id": "9nMQON-b4LIh"
      },
      "execution_count": null,
      "outputs": []
    },
    {
      "cell_type": "code",
      "source": [
        "pn=products_new.sort_values('change_date').groupby('product_id').tail(1)\n",
        "pn1=pn[['product_id','new_price']].rename(columns={'new_price':'price'})\n",
        "pn1"
      ],
      "metadata": {
        "id": "kRTGID6T4uTw"
      },
      "execution_count": null,
      "outputs": []
    },
    {
      "cell_type": "code",
      "source": [
        "pan=products.drop_duplicates('product_id')\n",
        "pan[pan['change_date']>'2019-08-16'][['product_id','new_price']].rename(columns={'new_price':'price'})"
      ],
      "metadata": {
        "id": "CbLdF4zJ7KtB"
      },
      "execution_count": null,
      "outputs": []
    },
    {
      "cell_type": "code",
      "source": [
        "z=products[['product_id']]\n",
        "z=products.drop_duplicates('product_id')\n",
        "az=z[['product_id','new_price']].rename(columns={'new_price':'price'})\n",
        "az"
      ],
      "metadata": {
        "id": "r7wVpJh57WzJ"
      },
      "execution_count": null,
      "outputs": []
    },
    {
      "cell_type": "code",
      "source": [
        "pn1.merge(az,how='left')\n"
      ],
      "metadata": {
        "id": "AtdU56Vy9Sqo"
      },
      "execution_count": null,
      "outputs": []
    },
    {
      "cell_type": "code",
      "source": [
        "products_new =  products[products['change_date'] <= '2019-08-16']\n",
        "products_new = products_new.sort_values(by='change_date').groupby(by=['product_id']).tail(1)\n",
        "products_new = products_new.rename(columns = {'new_price': 'price'})\n",
        "\n",
        "productID = products[['product_id']]\n",
        "productID = productID.drop_duplicates(subset=['product_id']) #get distinct productID table\n",
        "\n",
        "df = productID.merge(products_new, how='left').fillna(10)\n",
        "\n",
        "df[['product_id', 'price']]"
      ],
      "metadata": {
        "id": "uYdzOHHL9hnx"
      },
      "execution_count": null,
      "outputs": []
    },
    {
      "cell_type": "code",
      "source": [
        "products_new =  products[products['change_date'] <= '2019-08-16']\n",
        "products_new = products_new.sort_values(by='change_date').groupby(by=['product_id']).tail(1)\n",
        "products_new = products_new.rename(columns = {'new_price': 'price'})\n",
        "products_new"
      ],
      "metadata": {
        "id": "MEBVeUAVBCxk"
      },
      "execution_count": null,
      "outputs": []
    },
    {
      "cell_type": "code",
      "source": [
        "productID = products[['product_id']]\n",
        "productID = productID.drop_duplicates(subset=['product_id'])\n",
        "productID\n"
      ],
      "metadata": {
        "id": "q9kX_WM0BFgA"
      },
      "execution_count": null,
      "outputs": []
    },
    {
      "cell_type": "code",
      "source": [
        "df = productID.merge(products_new, how='left').fillna(10)\n",
        "df"
      ],
      "metadata": {
        "id": "OR3DJvfxBcyc"
      },
      "execution_count": null,
      "outputs": []
    },
    {
      "cell_type": "code",
      "source": [
        "df[['product_id', 'price']]"
      ],
      "metadata": {
        "id": "QKyBom-gBvcW"
      },
      "execution_count": null,
      "outputs": []
    },
    {
      "cell_type": "code",
      "source": [
        "data = [[5, 'Alice', 250, 1], [4, 'Bob', 175, 5], [3, 'Alex', 350, 2], [6, 'John Cena', 400, 3], [1, 'Winston', 500, 6], [2, 'Marie', 200, 4]]\n",
        "queue = pd.DataFrame(data, columns=['person_id', 'person_name', 'weight', 'turn']).astype({'person_id':'Int64', 'person_name':'object', 'weight':'Int64', 'turn':'Int64'})\n",
        "queue"
      ],
      "metadata": {
        "id": "-_8SynhuB9YY"
      },
      "execution_count": null,
      "outputs": []
    },
    {
      "cell_type": "code",
      "source": [
        "queue=queue.sort_values('turn',ascending=True)\n",
        "queue"
      ],
      "metadata": {
        "id": "MOpa39zmCljW"
      },
      "execution_count": null,
      "outputs": []
    },
    {
      "cell_type": "code",
      "source": [
        "queue['sum']=queue['weight'].cumsum()\n",
        "queue[queue['sum']<=1000].tail(1)[['person_name']]"
      ],
      "metadata": {
        "id": "AGjgFF5BDmhI"
      },
      "execution_count": null,
      "outputs": []
    },
    {
      "cell_type": "code",
      "source": [
        "data = [[3, 108939], [2, 12747], [8, 87709], [6, 91796]]\n",
        "accounts = pd.DataFrame(data, columns=['account_id', 'income']).astype({'account_id':'Int64', 'income':'Int64'})\n",
        "accounts"
      ],
      "metadata": {
        "id": "QTH6_BAWFWdT"
      },
      "execution_count": null,
      "outputs": []
    },
    {
      "cell_type": "code",
      "source": [
        "accounts['category']=accounts['income'].map(lambda x: 'Low Salary' if x < 20000 else ('Average Salary' if  20000 < x <50000 else 'High Salary'))\n",
        "accounts"
      ],
      "metadata": {
        "id": "to4ix2DrIPBR"
      },
      "execution_count": null,
      "outputs": []
    },
    {
      "cell_type": "code",
      "source": [
        "accounts.groupby('category').size().to_frame('accounts_count').reset_index()"
      ],
      "metadata": {
        "id": "xXD9HA-BznDN"
      },
      "execution_count": null,
      "outputs": []
    },
    {
      "cell_type": "code",
      "source": [
        "data = [[3, 'Mila', 9, 60301], [12, 'Antonella', None, 31000], [13, 'Emery', None, 67084], [1, 'Kalel', 11, 21241], [9, 'Mikaela', None, 50937], [11, 'Joziah', 6, 28485]]\n",
        "employees = pd.DataFrame(data, columns=['employee_id', 'name', 'manager_id', 'salary']).astype({'employee_id':'Int64', 'name':'object', 'manager_id':'Int64', 'salary':'Int64'})"
      ],
      "metadata": {
        "id": "SuvgpQYw10lg"
      },
      "execution_count": null,
      "outputs": []
    },
    {
      "cell_type": "code",
      "source": [
        "employees"
      ],
      "metadata": {
        "id": "rPct90g33iBG"
      },
      "execution_count": null,
      "outputs": []
    },
    {
      "cell_type": "code",
      "source": [
        "df=employees[~employees['manager_id'].isin(employees['employee_id'])].dropna()\n",
        "df[df['salary']<30000][['employee_id']].sort_values('employee_id')"
      ],
      "metadata": {
        "id": "qr23ZtJo31OJ"
      },
      "execution_count": null,
      "outputs": []
    },
    {
      "cell_type": "code",
      "source": [
        "data = [[1, 'Abbot'], [2, 'Doris'], [3, 'Emerson'], [4, 'Green'], [5, 'Jeames']]\n",
        "seat = pd.DataFrame(data, columns=['id', 'student']).astype({'id':'Int64', 'student':'object'})\n",
        "seat"
      ],
      "metadata": {
        "id": "Atg3YB7I5KR6"
      },
      "execution_count": null,
      "outputs": []
    },
    {
      "cell_type": "code",
      "source": [
        "seat['value']= seat['id'].map(lambda x:'odd' if x%2!=0 else 'even')\n",
        "seat=seat[['id','student','value']]\n",
        "seat"
      ],
      "metadata": {
        "id": "Oi53Qnvn8znX"
      },
      "execution_count": null,
      "outputs": []
    },
    {
      "cell_type": "code",
      "source": [
        "seat[seat['value']=='even'].shift()"
      ],
      "metadata": {
        "id": "grt0_t8GAEMy"
      },
      "execution_count": null,
      "outputs": []
    },
    {
      "cell_type": "code",
      "source": [
        "data = [[1, 2, '2016/06/03'], [1, 3, '2016/06/08'], [2, 3, '2016/06/08'], [3, 4, '2016/06/09']]\n",
        "request_accepted = pd.DataFrame(data, columns=['requester_id', 'accepter_id', 'accept_date']).astype({'requester_id':'Int64', 'accepter_id':'Int64', 'accept_date':'datetime64[ns]'})\n",
        "request_accepted"
      ],
      "metadata": {
        "id": "9afhIcH8A9C6"
      },
      "execution_count": null,
      "outputs": []
    },
    {
      "cell_type": "code",
      "source": [
        "df = request_accepted['requester_id'].to_frame(name='id')\n",
        "df"
      ],
      "metadata": {
        "id": "ZfyQ-XHhKVjr"
      },
      "execution_count": null,
      "outputs": []
    },
    {
      "cell_type": "code",
      "source": [
        "df1 = request_accepted['accepter_id'].to_frame(name='id')\n",
        "df1"
      ],
      "metadata": {
        "id": "tjDXOnWfLHwV"
      },
      "execution_count": null,
      "outputs": []
    },
    {
      "cell_type": "code",
      "source": [
        "combined = pd.concat([df, df1])\n",
        "combined"
      ],
      "metadata": {
        "id": "wldujQgzLMNS"
      },
      "execution_count": null,
      "outputs": []
    },
    {
      "cell_type": "code",
      "source": [
        "combined = combined.groupby('id').size().reset_index(name='num')\n",
        "combined"
      ],
      "metadata": {
        "id": "4I3SkqqpLRvv"
      },
      "execution_count": null,
      "outputs": []
    },
    {
      "cell_type": "code",
      "source": [
        "combined[combined['num'] == combined['num'].max()]"
      ],
      "metadata": {
        "id": "HbGw9hECLY0_"
      },
      "execution_count": null,
      "outputs": []
    },
    {
      "cell_type": "code",
      "source": [
        "data = [[1, 100], [2, 200], [3, 300]]\n",
        "employee = pd.DataFrame(data, columns=['id', 'salary']).astype({'id':'int64', 'salary':'int64'})\n",
        "employee"
      ],
      "metadata": {
        "id": "R-L0QAV8Lc32"
      },
      "execution_count": null,
      "outputs": []
    },
    {
      "cell_type": "code",
      "source": [
        "max_salary=employee['salary'].max()\n",
        "max_salary\n"
      ],
      "metadata": {
        "id": "wg37MpPQNdSy"
      },
      "execution_count": null,
      "outputs": []
    },
    {
      "cell_type": "code",
      "source": [
        "emp=employee[employee['salary'] != employee['salary'].max()]\n",
        "pd.DataFrame({'SecondHighestSalary' : [emp['salary'].max()]})"
      ],
      "metadata": {
        "id": "17OTC5NWOZw3"
      },
      "execution_count": null,
      "outputs": []
    },
    {
      "cell_type": "code",
      "source": [
        "!wget https://raw.githubusercontent.com/Rstam59/TaskDataRepoForStudents/refs/heads/main/heart-disease.csv"
      ],
      "metadata": {
        "id": "-WZr7SEwO1T4"
      },
      "execution_count": null,
      "outputs": []
    },
    {
      "cell_type": "code",
      "source": [
        "df= pd.read_csv('heart-disease.csv')\n",
        "df"
      ],
      "metadata": {
        "id": "yYLUkB7hkSP1"
      },
      "execution_count": null,
      "outputs": []
    },
    {
      "cell_type": "code",
      "source": [
        "import matplotlib.pyplot as plt\n",
        "df['target'].value_counts().plot(kind='bar');"
      ],
      "metadata": {
        "id": "SUF3AK4jkk_b"
      },
      "execution_count": null,
      "outputs": []
    },
    {
      "cell_type": "code",
      "source": [
        "df.hist(figsize=(10,10));"
      ],
      "metadata": {
        "id": "Y6PR1wY7k3t9"
      },
      "execution_count": null,
      "outputs": []
    },
    {
      "cell_type": "code",
      "source": [
        "df['age'].hist(bins=20);"
      ],
      "metadata": {
        "id": "herVPsl9lmBD"
      },
      "execution_count": null,
      "outputs": []
    },
    {
      "cell_type": "code",
      "source": [
        "import matplotlib.pyplot as plt"
      ],
      "metadata": {
        "id": "hsjKus3Gm-hC"
      },
      "execution_count": null,
      "outputs": []
    },
    {
      "cell_type": "code",
      "source": [
        "fig,ax=plt.subplots(figsize=(10,6))\n",
        "scatter=ax.scatter(x=df['age'],y=df['chol'],c=df['target'])\n",
        "ax.set(title='heart disease and chol levels',xlabel='age',ylabel='chol');"
      ],
      "metadata": {
        "id": "6Bai79DZmYWb"
      },
      "execution_count": null,
      "outputs": []
    },
    {
      "cell_type": "code",
      "source": [
        "import kagglehub\n",
        "\n",
        "# Download latest version\n",
        "path = kagglehub.dataset_download(\"hmavrodiev/london-bike-sharing-dataset\")\n",
        "\n",
        "print(\"Path to dataset files:\", path)"
      ],
      "metadata": {
        "id": "pNUiVIx4osOh"
      },
      "execution_count": null,
      "outputs": []
    },
    {
      "cell_type": "code",
      "source": [
        "lon_df=pd.read_csv(path + '/london_merged.csv')\n",
        "lon_df"
      ],
      "metadata": {
        "id": "SaXPyxFBn3Rj"
      },
      "execution_count": null,
      "outputs": []
    },
    {
      "cell_type": "code",
      "source": [
        "lon_df['timestamp']= pd.to_datetime(lon_df['timestamp'])\n",
        "lon_df['timestamp']"
      ],
      "metadata": {
        "id": "tN3vFIDGpgQz"
      },
      "execution_count": null,
      "outputs": []
    },
    {
      "cell_type": "code",
      "source": [
        "lon_df"
      ],
      "metadata": {
        "id": "kByZ-zJCqiJ-"
      },
      "execution_count": null,
      "outputs": []
    },
    {
      "cell_type": "code",
      "source": [
        "w=lon_df.groupby(['is_weekend'])['cnt'].mean()\n",
        "plt.bar(['weekday','weekend'],w.values);"
      ],
      "metadata": {
        "id": "OqvKBvUzsSuF"
      },
      "execution_count": null,
      "outputs": []
    },
    {
      "cell_type": "code",
      "source": [
        "h=lon_df.groupby(['is_holiday'])['cnt'].mean()\n",
        "plt.bar(['working','vacation'],h.values);"
      ],
      "metadata": {
        "id": "LcOWgtn3srAH"
      },
      "execution_count": null,
      "outputs": []
    },
    {
      "cell_type": "code",
      "source": [
        "lon_df['timestamp'].dt.hour.value_counts()"
      ],
      "metadata": {
        "id": "Xf5C0BjEt2km"
      },
      "execution_count": null,
      "outputs": []
    },
    {
      "cell_type": "code",
      "source": [
        "lon_df.groupby(lon_df['timestamp'].dt.hour)['cnt'].mean().plot(kind='bar',figsize=(10,6));"
      ],
      "metadata": {
        "id": "aUliGprguYo7"
      },
      "execution_count": null,
      "outputs": []
    },
    {
      "cell_type": "code",
      "source": [
        "lon_df.groupby(lon_df['timestamp'].dt.month) ['cnt'].mean().plot(kind='bar', figsize=(10,6));"
      ],
      "metadata": {
        "id": "svB03h9Furfd"
      },
      "execution_count": null,
      "outputs": []
    },
    {
      "cell_type": "code",
      "source": [
        "s= lon_df.groupby('season')['cnt'].mean()\n",
        "plt.pie(labels=['spring','summer','autumn','winter'],x=s.values, autopct='%.2f%%');"
      ],
      "metadata": {
        "id": "OUVOyO0rwPhy"
      },
      "execution_count": null,
      "outputs": []
    },
    {
      "cell_type": "code",
      "source": [
        "import seaborn as sns\n",
        "\n",
        "c=lon_df[['cnt','t1','hum']].corr()\n",
        "sns.heatmap(c,annot=True,cmap='coolwarm');"
      ],
      "metadata": {
        "id": "QWplMy7dxA0i"
      },
      "execution_count": null,
      "outputs": []
    },
    {
      "cell_type": "code",
      "source": [
        "import kagglehub\n",
        "\n",
        "# Download latest version\n",
        "path = kagglehub.dataset_download(\"START-UMD/gtd\")\n",
        "\n",
        "print(\"Path to dataset files:\", path)"
      ],
      "metadata": {
        "id": "wx3UBSYIy8yF"
      },
      "execution_count": null,
      "outputs": []
    },
    {
      "cell_type": "code",
      "source": [
        "df = pd.read_csv(path + '/globalterrorismdb_0718dist.csv', encoding='latin-1')\n",
        "df"
      ],
      "metadata": {
        "id": "iMjlIejY052y"
      },
      "execution_count": null,
      "outputs": []
    },
    {
      "cell_type": "code",
      "source": [
        "suicide_indicator= df.groupby('iyear')['suicide'].count()\n",
        "plt.plot(suicide_indicator);"
      ],
      "metadata": {
        "id": "kRWrSBBD2VRG"
      },
      "execution_count": null,
      "outputs": []
    },
    {
      "cell_type": "code",
      "source": [
        "extended_value=df.groupby('iyear')['extended'].sum()\n",
        "plt.hist(extended_value);\n"
      ],
      "metadata": {
        "id": "h_PvN3tP7h8_"
      },
      "execution_count": null,
      "outputs": []
    },
    {
      "cell_type": "code",
      "source": [
        "fig,ax=plt.subplots(figsize=(10,6))\n",
        "scatter=ax.scatter(x=df['nperps'],y=df['country_txt'])\n",
        "ax.set(title='number of terrorist participating',xlabel='nperps',ylabel='country');"
      ],
      "metadata": {
        "id": "mJvijjOy95sZ"
      },
      "execution_count": null,
      "outputs": []
    },
    {
      "cell_type": "code",
      "source": [
        "cn = df.groupby(['country_txt'])['nperps'].sum()\n",
        "cn"
      ],
      "metadata": {
        "id": "mMkkDnFGR652"
      },
      "execution_count": null,
      "outputs": []
    },
    {
      "cell_type": "code",
      "source": [
        "df['nperps'].value_counts()"
      ],
      "metadata": {
        "id": "joT56YYlSi2H"
      },
      "execution_count": null,
      "outputs": []
    },
    {
      "cell_type": "code",
      "source": [
        "cn = df.groupby(['country_txt'])['nperps'].sum().plot(kind = 'bar')\n",
        "# ax.set(title='number of terrorist participating',xlabel='nperps',ylabel='country');"
      ],
      "metadata": {
        "id": "Y03kQovDRlOW"
      },
      "execution_count": null,
      "outputs": []
    },
    {
      "cell_type": "code",
      "source": [
        "pd.set_option('display.max_columns', None)\n",
        "df"
      ],
      "metadata": {
        "id": "YnzCd7xHRW3k"
      },
      "execution_count": null,
      "outputs": []
    },
    {
      "cell_type": "code",
      "source": [
        "df1=df[['country','country_txt','iyear','attacktype1_txt','weaptype1_txt','attacktype1']]\n",
        "df1"
      ],
      "metadata": {
        "id": "vZFI7aKuAKIr"
      },
      "execution_count": null,
      "outputs": []
    },
    {
      "cell_type": "code",
      "source": [
        "import numpy as np\n",
        "val= df1.groupby('country_txt')['attacktype1'].sum()\n",
        "fig,ax=plt.subplots(figsize=(10,6))\n",
        "plt.hist(val)\n",
        "ax.set(title='total number of attacks over country',ylabel='country_txt',xlabel='attacktype1');\n",
        "plt.xticks(np.arange(0, 8000, step=1), labels=[str(i**2) for i in range(8000)])"
      ],
      "metadata": {
        "id": "h1Ks6ilSEqU9"
      },
      "execution_count": null,
      "outputs": []
    },
    {
      "cell_type": "code",
      "source": [
        "df1.groupby(df1['country_txt']).nunique('weaptype1_txt')"
      ],
      "metadata": {
        "id": "kN4k6L-NH8eE"
      },
      "execution_count": null,
      "outputs": []
    },
    {
      "cell_type": "code",
      "source": [
        "z=df[(df['imonth']==1) & (df['iday']==13)]\n",
        "z"
      ],
      "metadata": {
        "id": "LUmSDcBsJSzH"
      },
      "execution_count": null,
      "outputs": []
    },
    {
      "cell_type": "code",
      "source": [
        "t=z.groupby('country_txt').sum('nperps').reset_index()\n",
        "tl=t[['country_txt','nperps']]\n",
        "tl"
      ],
      "metadata": {
        "id": "oAGmQRoaK6LX"
      },
      "execution_count": null,
      "outputs": []
    },
    {
      "cell_type": "code",
      "source": [
        "fig,ax=plt.subplots(figsize=(10,6))\n",
        "plt.hist(tl)\n",
        "ax.set(title='total number of terrorist over country',ylabel='country',xlabel='nperps');"
      ],
      "metadata": {
        "id": "EcS70SwhLUwH"
      },
      "execution_count": null,
      "outputs": []
    },
    {
      "cell_type": "code",
      "source": [
        "df[['latitude','longitude','country_txt']]"
      ],
      "metadata": {
        "id": "4dcY-RJnML0-"
      },
      "execution_count": null,
      "outputs": []
    },
    {
      "cell_type": "code",
      "source": [
        "lat=df[(df['latitude']>30) & (df['latitude']<50)]\n",
        "lat1=lat.groupby('iyear')['attacktype1_txt'].count().reset_index()\n",
        "# lat1\n",
        "\n"
      ],
      "metadata": {
        "id": "sqKxIYd7OEml"
      },
      "execution_count": null,
      "outputs": []
    },
    {
      "cell_type": "code",
      "source": [
        "fig,ax=plt.subplots(figsize=(10,7))\n",
        "plot=ax.plot(lat1);\n",
        "ax.set(title='attack count over years', xlabel='year',ylabel='count attack');"
      ],
      "metadata": {
        "id": "pRmceAgOQNzH"
      },
      "execution_count": null,
      "outputs": []
    },
    {
      "cell_type": "code",
      "source": [
        "lat2=df[(df['latitude']>50) & (df['latitude']<90)]\n",
        "lat3=lat2.groupby('iyear')['attacktype1_txt'].size().reset_index()\n",
        "# lat3\n",
        "\n"
      ],
      "metadata": {
        "id": "PhgcTu3KVTC0"
      },
      "execution_count": null,
      "outputs": []
    },
    {
      "cell_type": "code",
      "source": [
        "fig,ax=plt.subplots(figsize=(10,7))\n",
        "plot=ax.plot(lat3);\n",
        "ax.set(title='attack count over years', xlabel='year',ylabel='count attack');"
      ],
      "metadata": {
        "id": "soEOyQRSXrTe"
      },
      "execution_count": null,
      "outputs": []
    },
    {
      "cell_type": "code",
      "source": [
        "lat4=df[(df['latitude']>0) & (df['latitude']<30)]\n",
        "lat5=lat4.groupby('iyear')['attacktype1_txt'].count().reset_index()"
      ],
      "metadata": {
        "id": "za7NxZsnXyxX"
      },
      "execution_count": null,
      "outputs": []
    },
    {
      "cell_type": "code",
      "source": [
        "fig,ax=plt.subplots(figsize=(10,7))\n",
        "plot=ax.plot(lat5);\n",
        "ax.set(title='attack count over years', xlabel='year',ylabel='count attack');"
      ],
      "metadata": {
        "id": "Vj9SfxHRZraE"
      },
      "execution_count": null,
      "outputs": []
    },
    {
      "cell_type": "code",
      "source": [
        "\n",
        "fig,ax=plt.subplots(figsize=(10,7))\n",
        "plot=ax.plot(lat1, label = \"30-50 lat\");\n",
        "\n",
        "\n",
        "plot=ax.plot(lat3, label = '50-90 lat');\n",
        "\n",
        "plot=ax.plot(lat5, label = '0-30 lat');\n",
        "ax.set(title='attack count over years', xlabel='year',ylabel='count attack');\n",
        "\n",
        "ax.legend()"
      ],
      "metadata": {
        "id": "GQpsd2gDd91V"
      },
      "execution_count": null,
      "outputs": []
    },
    {
      "cell_type": "code",
      "source": [],
      "metadata": {
        "id": "dLW-_tBUh_dR"
      },
      "execution_count": null,
      "outputs": []
    }
  ]
}