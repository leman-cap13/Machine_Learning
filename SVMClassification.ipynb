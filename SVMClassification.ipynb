{
  "nbformat": 4,
  "nbformat_minor": 0,
  "metadata": {
    "colab": {
      "provenance": [],
      "authorship_tag": "ABX9TyNOe3hWD+v2AHM1S9oys/fG",
      "include_colab_link": true
    },
    "kernelspec": {
      "name": "python3",
      "display_name": "Python 3"
    },
    "language_info": {
      "name": "python"
    }
  },
  "cells": [
    {
      "cell_type": "markdown",
      "metadata": {
        "id": "view-in-github",
        "colab_type": "text"
      },
      "source": [
        "<a href=\"https://colab.research.google.com/github/leman-cap13/kaggle_datasets_/blob/main/SVMClassification.ipynb\" target=\"_parent\"><img src=\"https://colab.research.google.com/assets/colab-badge.svg\" alt=\"Open In Colab\"/></a>"
      ]
    },
    {
      "cell_type": "code",
      "execution_count": null,
      "metadata": {
        "id": "y4h3GefhNdSh"
      },
      "outputs": [],
      "source": [
        "import numpy as np\n",
        "from sklearn.datasets import load_iris\n",
        "from sklearn.pipeline import make_pipeline\n",
        "from sklearn.preprocessing import StandardScaler\n",
        "from sklearn.svm import LinearSVC\n",
        "\n"
      ]
    },
    {
      "cell_type": "code",
      "source": [
        "iris=load_iris(as_frame=True)\n",
        "X=iris.data[[\"petal length (cm)\", \"petal width (cm)\"]].values\n",
        "y=(iris.target==2)\n",
        "\n"
      ],
      "metadata": {
        "id": "g5Dse8_aQrCg"
      },
      "execution_count": null,
      "outputs": []
    },
    {
      "cell_type": "markdown",
      "source": [
        "C boyudukce street sahe azalir C azaldiqca street artir"
      ],
      "metadata": {
        "id": "s3QwLSPAREYa"
      }
    },
    {
      "cell_type": "markdown",
      "source": [
        "underfit olursa C artir overfit edirse C azalt"
      ],
      "metadata": {
        "id": "dI1akA6ORLF2"
      }
    },
    {
      "cell_type": "code",
      "source": [
        "svm_clf=make_pipeline(StandardScaler(),\n",
        "                      LinearSVC(C=1,random_state=13))\n",
        "svm_clf.fit(X,y)"
      ],
      "metadata": {
        "id": "qnqH5dnFQs2q"
      },
      "execution_count": null,
      "outputs": []
    },
    {
      "cell_type": "code",
      "source": [
        "X_new=[[5.5,1.7],[5.0,1.5]]\n",
        "svm_clf.predict(X_new)"
      ],
      "metadata": {
        "id": "SK22nb4EQ1rI"
      },
      "execution_count": null,
      "outputs": []
    },
    {
      "cell_type": "markdown",
      "source": [
        "decision function modelin ne qeder emin oldugunu gosterir"
      ],
      "metadata": {
        "id": "g7RDKFG1R1zx"
      }
    },
    {
      "cell_type": "code",
      "source": [
        "svm_clf.decision_function(X_new)"
      ],
      "metadata": {
        "id": "dIvFKRZwQ1n3"
      },
      "execution_count": null,
      "outputs": []
    },
    {
      "cell_type": "markdown",
      "source": [
        "#NONLinear svm classificatin"
      ],
      "metadata": {
        "id": "O9KRDappRrZw"
      }
    },
    {
      "cell_type": "code",
      "source": [
        "from sklearn.datasets import make_moons\n",
        "from sklearn.preprocessing import PolynomialFeatures\n",
        "import matplotlib.pyplot as plt"
      ],
      "metadata": {
        "id": "yI99LoBFUJPU"
      },
      "execution_count": null,
      "outputs": []
    },
    {
      "cell_type": "code",
      "source": [
        "X,y=make_moons(n_samples=500,noise=0.15,random_state=13)\n",
        "\n",
        "plt.plot(X[:,0][y==0],X[:,1][y==0],'bs')\n",
        "plt.plot(X[:,0][y==1],X[:,1][y==1],'g^')\n",
        "plt.grid();"
      ],
      "metadata": {
        "id": "v3LWGicwRrTt"
      },
      "execution_count": null,
      "outputs": []
    },
    {
      "cell_type": "code",
      "source": [
        "svm_clf.fit(X,y)\n",
        "svm_clf.score(X,y)"
      ],
      "metadata": {
        "id": "DdSg7fkbdztd"
      },
      "execution_count": null,
      "outputs": []
    },
    {
      "cell_type": "code",
      "source": [
        "from sklearn.pipeline import make_pipeline\n",
        "from sklearn.preprocessing import PolynomialFeatures\n",
        "\n",
        "svm_clf=make_pipeline(PolynomialFeatures(degree=3),\n",
        "                      (StandardScaler()),\n",
        "                      LinearSVC(C=10,max_iter=10_000,random_state=13))\n",
        "\n",
        "svm_clf.fit(X,y)\n",
        "svm_clf.score(X,y)\n"
      ],
      "metadata": {
        "id": "WcAjH_j7dzqU"
      },
      "execution_count": null,
      "outputs": []
    },
    {
      "cell_type": "code",
      "source": [
        "def plot_dataset(X,y,axes):\n",
        "  plt.plot(X[:,0][y==0],X[:,1][y==0],'bs')\n",
        "  plt.plot(X[:,0][y==1],X[:,1][y==1],'g^')\n",
        "  plt.axis(axes)\n",
        "  plt.grid(True)\n",
        "  plt.xlabel(\"$x_1$\")\n",
        "  plt.ylabel(\"$x_2$\")\n",
        "  plt.show();\n",
        "\n",
        "def plot_predictions(clf,axes=[-1.5,2.5,-1,1.5]):\n",
        "  x0s=np.linspace(axes[0],axes[1],100)\n",
        "  x1s=np.linspace(axes[2],axes[3],100)\n",
        "  x0,x1=np.meshgrid(x0s,x1s)\n",
        "  X=np.c_[x0.ravel(),x1.ravel()]\n",
        "  y_pred=clf.predict(X).reshape(x0.shape)\n",
        "  plt.contourf(x0,x1,y_pred,cmap=plt.cm.brg,alpha=0.2)\n",
        "\n",
        "plot_predictions(svm_clf,[-1.5,2.5,-1,1.5])\n",
        "plot_dataset(X,y,[-1.5,2.5,-1,1.5])"
      ],
      "metadata": {
        "id": "6OKVQdVLeBCn"
      },
      "execution_count": null,
      "outputs": []
    },
    {
      "cell_type": "code",
      "source": [
        "from sklearn.svm import SVC\n",
        "\n",
        "poly_kernel_svm_clf=make_pipeline(StandardScaler(),\n",
        "                                  SVC(kernel='poly', coef0=1, degree=3,C=10))\n",
        "\n",
        "poly_kernel_svm_clf.fit(X,y)\n",
        "poly_kernel_svm_clf.score(X,y)"
      ],
      "metadata": {
        "id": "uiPKuOCUeA_Q"
      },
      "execution_count": null,
      "outputs": []
    },
    {
      "cell_type": "code",
      "source": [
        "plot_predictions(poly_kernel_svm_clf,[-1.5,2.5,-1,1.5])\n",
        "plot_dataset(X,y,[-1.5,2.5,-1,1.5])"
      ],
      "metadata": {
        "id": "weEObhyveA9C"
      },
      "execution_count": null,
      "outputs": []
    },
    {
      "cell_type": "code",
      "source": [
        "rbf_kernel_svm_clf=make_pipeline(StandardScaler(),\n",
        "                                 SVC(kernel='rbf',gamma=5,C=0.001))\n",
        "\n",
        "rbf_kernel_svm_clf.fit(X,y)"
      ],
      "metadata": {
        "id": "EDBppvu8iM5b"
      },
      "execution_count": null,
      "outputs": []
    },
    {
      "cell_type": "code",
      "source": [
        "from sklearn.svm import SVR,LinearSVR\n",
        "from sklearn.model_selection import train_test_split\n",
        "\n",
        "np.random.seed(42)\n",
        "X=2*np.random.rand(500,1)\n",
        "y=4+2*X[:,0]+ np.random.randn(500)\n",
        "X_train,X_test,y_train,y_test=train_test_split(X,y,random_state=42)\n",
        "\n",
        "svm_reg=make_pipeline(StandardScaler(),\n",
        "                      LinearSVR())\n",
        "\n",
        "svm_reg.fit(X_train,y_train)\n",
        "svm_reg.score(X_test,y_test)"
      ],
      "metadata": {
        "id": "iieH753GiMof"
      },
      "execution_count": null,
      "outputs": []
    },
    {
      "cell_type": "code",
      "source": [
        "plt.plot(X,y,'b.')"
      ],
      "metadata": {
        "id": "0dCbCQLfoIJ-"
      },
      "execution_count": null,
      "outputs": []
    },
    {
      "cell_type": "code",
      "source": [],
      "metadata": {
        "id": "uYyh9QRxoIGt"
      },
      "execution_count": null,
      "outputs": []
    }
  ]
}