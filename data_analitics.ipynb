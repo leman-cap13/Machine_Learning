{
  "nbformat": 4,
  "nbformat_minor": 0,
  "metadata": {
    "colab": {
      "provenance": [],
      "authorship_tag": "ABX9TyPAffDK6hmH+Lj+8l3Q/zRa",
      "include_colab_link": true
    },
    "kernelspec": {
      "name": "python3",
      "display_name": "Python 3"
    },
    "language_info": {
      "name": "python"
    }
  },
  "cells": [
    {
      "cell_type": "markdown",
      "metadata": {
        "id": "view-in-github",
        "colab_type": "text"
      },
      "source": [
        "<a href=\"https://colab.research.google.com/github/leman-cap13/kaggle_datasets_/blob/main/data_analitics.ipynb\" target=\"_parent\"><img src=\"https://colab.research.google.com/assets/colab-badge.svg\" alt=\"Open In Colab\"/></a>"
      ]
    },
    {
      "cell_type": "code",
      "execution_count": null,
      "metadata": {
        "id": "AQslaKZP1_gy"
      },
      "outputs": [],
      "source": [
        "import pandas as pd\n",
        "!wget https://raw.githubusercontent.com/Rstam59/TaskDataRepoForStudents/refs/heads/main/heart-disease.csv"
      ]
    },
    {
      "cell_type": "code",
      "source": [
        "df=pd.read_csv('heart-disease.csv')\n",
        "df"
      ],
      "metadata": {
        "id": "dnfXn_On2p4j"
      },
      "execution_count": null,
      "outputs": []
    },
    {
      "cell_type": "code",
      "source": [
        "X=df.drop('target',axis=1)\n",
        "y=df['target'].copy()\n",
        "# X boyuk herfle yazilir cunki matrixi temsil edir\n",
        "# y balaca yazilir cunki vektoru temsil edir\n",
        "X"
      ],
      "metadata": {
        "id": "JYi6OlLC2wHi"
      },
      "execution_count": null,
      "outputs": []
    },
    {
      "cell_type": "code",
      "source": [
        "y"
      ],
      "metadata": {
        "id": "oWTI4G5F3WVZ"
      },
      "execution_count": null,
      "outputs": []
    },
    {
      "cell_type": "code",
      "source": [
        "from sklearn.model_selection import train_test_split\n",
        "\n",
        "X_train, X_test, y_train, y_test=train_test_split(X,y,test_size=(0.2),random_state=13)\n"
      ],
      "metadata": {
        "id": "AZtYMc7Z6Ijv"
      },
      "execution_count": null,
      "outputs": []
    },
    {
      "cell_type": "code",
      "source": [
        "from sklearn.ensemble import RandomForestClassifier\n",
        "\n",
        "forest_clf=RandomForestClassifier(random_state=13)\n",
        "forest_clf.fit(X_train,y_train)"
      ],
      "metadata": {
        "id": "4fsekXUL38xZ"
      },
      "execution_count": null,
      "outputs": []
    },
    {
      "cell_type": "code",
      "source": [
        "forest_clf.score(X_train,y_train)"
      ],
      "metadata": {
        "id": "uDIuz_X18uGr"
      },
      "execution_count": null,
      "outputs": []
    },
    {
      "cell_type": "code",
      "source": [
        "forest_clf.score(X_test,y_test)"
      ],
      "metadata": {
        "id": "-bs6mhJ14_EY"
      },
      "execution_count": null,
      "outputs": []
    },
    {
      "cell_type": "code",
      "source": [
        "forest_clf.predict(X_test.iloc[[0]]) # array 0 saglam array 1 urek xesteliyi var"
      ],
      "metadata": {
        "id": "UAq_47Mj5UE-"
      },
      "execution_count": null,
      "outputs": []
    },
    {
      "cell_type": "code",
      "source": [
        "X_test.iloc[[0]]"
      ],
      "metadata": {
        "id": "E99cq2a89RVS"
      },
      "execution_count": null,
      "outputs": []
    },
    {
      "cell_type": "code",
      "source": [
        "y_test.iloc[[0]]"
      ],
      "metadata": {
        "id": "veZI39nk9VKP"
      },
      "execution_count": null,
      "outputs": []
    },
    {
      "cell_type": "code",
      "source": [
        "!wget https://raw.githubusercontent.com/Rstam59/TaskDataRepoForStudents/refs/heads/main/housing.csv"
      ],
      "metadata": {
        "id": "Dos793iF9pQP"
      },
      "execution_count": null,
      "outputs": []
    },
    {
      "cell_type": "code",
      "source": [
        "df1=pd.read_csv('housing.csv')\n",
        "df1"
      ],
      "metadata": {
        "id": "jH9PUlJD-Wq1"
      },
      "execution_count": null,
      "outputs": []
    },
    {
      "cell_type": "code",
      "source": [
        "df1.isna().sum()"
      ],
      "metadata": {
        "id": "qK_hEmZf-e1C"
      },
      "execution_count": null,
      "outputs": []
    },
    {
      "cell_type": "code",
      "source": [
        "df1.dtypes"
      ],
      "metadata": {
        "id": "Noyc2vl3_DHC"
      },
      "execution_count": null,
      "outputs": []
    },
    {
      "cell_type": "code",
      "source": [
        "df1.info()"
      ],
      "metadata": {
        "id": "iAjritrT_Iv_"
      },
      "execution_count": null,
      "outputs": []
    },
    {
      "cell_type": "code",
      "source": [
        "df1.describe()"
      ],
      "metadata": {
        "id": "CiSuIVJI_Q3T"
      },
      "execution_count": null,
      "outputs": []
    },
    {
      "cell_type": "code",
      "source": [
        "df1.plot(kind='scatter',x='longitude',y='latitude',alpha=0.5,c='median_house_value',\n",
        "         cmap='jet',\n",
        "         figsize=(8,5),\n",
        "         grid=True,\n",
        "         s=df1['total_bedrooms']/50); # s means size"
      ],
      "metadata": {
        "id": "HmdNC22Q_WvK"
      },
      "execution_count": null,
      "outputs": []
    },
    {
      "cell_type": "code",
      "source": [
        "df1.hist(figsize=(12,7));"
      ],
      "metadata": {
        "id": "cwypPNsn_qF5"
      },
      "execution_count": null,
      "outputs": []
    },
    {
      "cell_type": "code",
      "source": [
        "import numpy as np\n",
        "import matplotlib.pyplot as plt\n",
        "\n",
        "plt.subplot(2,1,1)\n",
        "plt.hist(df1['total_bedrooms'],bins=50);\n",
        "plt.subplot(2,1,2)\n",
        "np.log(df1['total_bedrooms']).hist(bins=50);\n",
        "\n"
      ],
      "metadata": {
        "id": "NqQLRS9eBJS6"
      },
      "execution_count": null,
      "outputs": []
    },
    {
      "cell_type": "code",
      "source": [
        "df1['total_bedrooms'].hist(bins=50);"
      ],
      "metadata": {
        "id": "XPPsy_tsBgur"
      },
      "execution_count": null,
      "outputs": []
    },
    {
      "cell_type": "code",
      "source": [
        "df1.corr(numeric_only=True)['median_house_value'].sort_values(ascending=False)"
      ],
      "metadata": {
        "id": "OwvqMpy3C8VO"
      },
      "execution_count": null,
      "outputs": []
    },
    {
      "cell_type": "code",
      "source": [
        "X=df1.drop('median_house_value',axis=1)\n",
        "y=df1['median_house_value'].copy()"
      ],
      "metadata": {
        "id": "eTpve2TPO3hM"
      },
      "execution_count": null,
      "outputs": []
    },
    {
      "cell_type": "code",
      "source": [
        "from sklearn.model_selection import train_test_split\n",
        "X_train, X_test, y_train, y_test = train_test_split(X,y,test_size=(0.2),random_state=42)"
      ],
      "metadata": {
        "id": "8Ec4GumfPOa0"
      },
      "execution_count": null,
      "outputs": []
    },
    {
      "cell_type": "code",
      "source": [
        "plt.hist(df1['median_income'],bins=50);"
      ],
      "metadata": {
        "id": "mC1-UyrDP4ao"
      },
      "execution_count": null,
      "outputs": []
    },
    {
      "cell_type": "code",
      "source": [
        "df1['income_cat']=pd.cut(df1['median_income'],bins=[0.,1.5,3.0,4.5,6.0,np.inf], labels=[1,2,3,4,5])\n",
        "df1['income_cat'].value_counts().sort_index().plot(kind='bar');"
      ],
      "metadata": {
        "id": "q4aAqNssP4_n"
      },
      "execution_count": null,
      "outputs": []
    },
    {
      "cell_type": "code",
      "source": [
        "X_train,X_test, y_train,y_test=train_test_split(X,y, stratify=df1['income_cat'] , test_size=0.2, random_state=42);"
      ],
      "metadata": {
        "id": "TBQHvvC1R--P"
      },
      "execution_count": null,
      "outputs": []
    },
    {
      "cell_type": "code",
      "source": [
        "df1.drop('income_cat',axis=1,inplace=True)"
      ],
      "metadata": {
        "id": "SaLqLZLjR_aG"
      },
      "execution_count": null,
      "outputs": []
    },
    {
      "cell_type": "code",
      "source": [
        "df1['rooms_per_house'] = df1['total_rooms']/ df1['households']\n",
        "df1['bedroom_ration'] = df1['total_bedrooms']/ df1['total_rooms']\n",
        "df1['population_per_house'] = df1['population']/ df1['households']"
      ],
      "metadata": {
        "id": "NnNpvgZBSx7w"
      },
      "execution_count": null,
      "outputs": []
    },
    {
      "cell_type": "code",
      "source": [
        "df1.corr(numeric_only=True)['median_house_value'].sort_values(ascending=False)"
      ],
      "metadata": {
        "id": "2VCw9rNZTQzj"
      },
      "execution_count": null,
      "outputs": []
    },
    {
      "cell_type": "code",
      "source": [
        "df1.isna().sum()"
      ],
      "metadata": {
        "id": "5ZNv2mviVKd4"
      },
      "execution_count": null,
      "outputs": []
    },
    {
      "cell_type": "code",
      "source": [
        "df1.drop('total_bedrooms',axis=1) # obtion1"
      ],
      "metadata": {
        "id": "n6oYkxrqVKEn"
      },
      "execution_count": null,
      "outputs": []
    },
    {
      "cell_type": "code",
      "source": [
        "df1.dropna() # obtion 2"
      ],
      "metadata": {
        "id": "xbvsdY2IVIlj"
      },
      "execution_count": null,
      "outputs": []
    },
    {
      "cell_type": "code",
      "source": [
        "X_num=X_train.select_dtypes(include=np.number)\n",
        "X_cat=X_train.select_dtypes(include='object')\n",
        "X_num\n"
      ],
      "metadata": {
        "id": "ugn0nDPqX8M0"
      },
      "execution_count": null,
      "outputs": []
    },
    {
      "cell_type": "code",
      "source": [
        "X_cat"
      ],
      "metadata": {
        "id": "Ia_60pQYYjRX"
      },
      "execution_count": null,
      "outputs": []
    },
    {
      "cell_type": "code",
      "source": [
        "from sklearn.impute import SimpleImputer\n",
        "\n",
        "imputer=SimpleImputer(strategy='median')\n",
        "imputer.fit(X_num)"
      ],
      "metadata": {
        "id": "DBeD5dCNWHzO"
      },
      "execution_count": null,
      "outputs": []
    },
    {
      "cell_type": "code",
      "source": [
        "imputer.statistics_"
      ],
      "metadata": {
        "id": "x0soI1RCXc90"
      },
      "execution_count": null,
      "outputs": []
    },
    {
      "cell_type": "code",
      "source": [
        "X_num.median().values"
      ],
      "metadata": {
        "id": "zmExSg8VY_sK"
      },
      "execution_count": null,
      "outputs": []
    },
    {
      "cell_type": "code",
      "source": [
        "imputer.feature_names_in_"
      ],
      "metadata": {
        "id": "lIHh_6hnZlWn"
      },
      "execution_count": null,
      "outputs": []
    },
    {
      "cell_type": "code",
      "source": [
        "pd.DataFrame(imputer.transform(X_num),columns=imputer.feature_names_in_)"
      ],
      "metadata": {
        "id": "HYKY6hijZI1l"
      },
      "execution_count": null,
      "outputs": []
    },
    {
      "cell_type": "code",
      "source": [
        "from sklearn.preprocessing import OrdinalEncoder\n",
        "\n",
        "encoder=OrdinalEncoder()\n",
        "encoder.fit_transform(X_cat)"
      ],
      "metadata": {
        "id": "TgAkYleGaFWD"
      },
      "execution_count": null,
      "outputs": []
    },
    {
      "cell_type": "code",
      "source": [
        "encoder.categories_"
      ],
      "metadata": {
        "id": "_4ac162sZIft"
      },
      "execution_count": null,
      "outputs": []
    },
    {
      "cell_type": "code",
      "source": [
        "from sklearn.preprocessing import OneHotEncoder # unique deyerler coxsusaa onehotcoder isledilmir!\n",
        "\n",
        "encoder=OneHotEncoder()\n",
        "encoder.fit_transform(X_cat).toarray()"
      ],
      "metadata": {
        "id": "24mXNEBua0I4"
      },
      "execution_count": null,
      "outputs": []
    },
    {
      "cell_type": "code",
      "source": [
        "from sklearn.preprocessing import MinMaxScaler\n",
        "\n",
        "scaler= MinMaxScaler(feature_range=(-1,1))\n",
        "pd.DataFrame(scaler.fit_transform(X_num) , columns=X_num.columns)"
      ],
      "metadata": {
        "id": "gu_3R7w-h4xQ"
      },
      "execution_count": null,
      "outputs": []
    },
    {
      "cell_type": "code",
      "source": [
        "from sklearn.preprocessing import StandardScaler\n",
        "\n",
        "scaler=StandardScaler()\n",
        "pd.DataFrame(scaler.fit_transform(X_num), columns=scaler.feature_names_in_)"
      ],
      "metadata": {
        "id": "0eUA2JuWh4ba"
      },
      "execution_count": null,
      "outputs": []
    },
    {
      "cell_type": "code",
      "source": [
        "from sklearn.preprocessing import FunctionTransformer\n",
        "\n",
        "log_transformer = FunctionTransformer(np.log, inverse_func=np.exp)\n",
        "log_pop = log_transformer.transform(X_num[['population']])"
      ],
      "metadata": {
        "id": "COq9grCsh4Dt"
      },
      "execution_count": null,
      "outputs": []
    },
    {
      "cell_type": "code",
      "source": [
        "from sklearn.pipeline import Pipeline, make_pipeline\n",
        "\n",
        "X_num_pipeline=Pipeline([\n",
        "     ('impute', SimpleImputer(strategy='median')),\n",
        "     ('scale' ,StandardScaler()) ])\n",
        "\n",
        "\n",
        "X_num=pd.DataFrame(X_num_pipeline.fit_transform(X_num),columns=X_num.columns)\n",
        "X_num"
      ],
      "metadata": {
        "id": "YJUxSpm7nroU"
      },
      "execution_count": null,
      "outputs": []
    },
    {
      "cell_type": "code",
      "source": [
        "X_cat_pipeline = make_pipeline(\n",
        "    SimpleImputer(strategy='most_frequent'),\n",
        "    OrdinalEncoder() )\n",
        "\n",
        "X_cat = pd.DataFrame(X_cat_pipeline.fit_transform(X_cat), columns=X_cat_pipeline.feature_names_in_)\n",
        "\n",
        "X_cat\n",
        "\n",
        "\n"
      ],
      "metadata": {
        "id": "f-WssULLnrdc"
      },
      "execution_count": null,
      "outputs": []
    },
    {
      "cell_type": "code",
      "source": [
        "X_cat_pipeline= make_pipeline(\n",
        "    SimpleImputer(strategy='most_frequent' ),  #fill_value='abc'\n",
        "    OneHotEncoder() )\n",
        "\n",
        "\n",
        "X_cat =pd.DataFrame(X_cat_pipeline.fit_transform(X_cat).toarray(),\n",
        "                    columns= X_cat_pipeline.get_feature_names_out())\n",
        "\n",
        "X_cat"
      ],
      "metadata": {
        "id": "LNLO2kpQqh2t"
      },
      "execution_count": null,
      "outputs": []
    },
    {
      "cell_type": "code",
      "source": [
        "pd.concat([X_num,X_cat],axis=1) # to merge"
      ],
      "metadata": {
        "id": "R5Vzewt2qhvt"
      },
      "execution_count": null,
      "outputs": []
    },
    {
      "cell_type": "code",
      "source": [
        "cat_columns = X_train.select_dtypes(include='object').columns\n",
        "num_columns = X_train.select_dtypes(include= np.number).columns\n",
        "num_columns"
      ],
      "metadata": {
        "id": "fhcLgrGzs2bv"
      },
      "execution_count": null,
      "outputs": []
    },
    {
      "cell_type": "code",
      "source": [
        "from sklearn.compose import ColumnTransformer\n",
        "transformer = ColumnTransformer([\n",
        "    ('num', X_num_pipeline, num_columns),\n",
        "    ('cat',X_cat_pipeline, cat_columns)\n",
        "])\n",
        "\n",
        "pd.DataFrame(transformer.fit_transform(X_train),columns=transformer.get_feature_names_out())"
      ],
      "metadata": {
        "id": "8y0GUtP_s2Ns"
      },
      "execution_count": null,
      "outputs": []
    },
    {
      "cell_type": "code",
      "source": [
        "# from sklearn.compose import ColumnTransformer\n",
        "\n",
        "# num_cols=X_train.select_d"
      ],
      "metadata": {
        "id": "OeiAFw5Iu3uA"
      },
      "execution_count": null,
      "outputs": []
    },
    {
      "cell_type": "markdown",
      "source": [],
      "metadata": {
        "id": "JvWdrB5W3Fyp"
      }
    },
    {
      "cell_type": "code",
      "source": [
        "X_train_prepared=pd.DataFrame(transformer.fit_transform(X_train),columns=transformer.get_feature_names_out())\n",
        "X_test_prepared=pd.DataFrame(transformer.transform(X_test),columns=transformer.get_feature_names_out())"
      ],
      "metadata": {
        "id": "JcbD_EJsu3jK"
      },
      "execution_count": null,
      "outputs": []
    },
    {
      "cell_type": "code",
      "source": [
        "from sklearn.linear_model import LinearRegression\n",
        "\n",
        "lin_reg =LinearRegression()\n",
        "lin_reg.fit(X_train_prepared,y_train)\n",
        "lin_reg.score(X_test_prepared, y_test)"
      ],
      "metadata": {
        "id": "Vj6RW_MOu2_O"
      },
      "execution_count": null,
      "outputs": []
    },
    {
      "cell_type": "code",
      "source": [
        "lin_reg.predict(X_test_prepared.iloc[:5])"
      ],
      "metadata": {
        "id": "R-0VOurg35sk"
      },
      "execution_count": null,
      "outputs": []
    },
    {
      "cell_type": "code",
      "source": [
        "y_test.iloc[:5]"
      ],
      "metadata": {
        "id": "5W5QuElB35kv"
      },
      "execution_count": null,
      "outputs": []
    },
    {
      "cell_type": "code",
      "source": [
        "from sklearn.linear_model import LinearRegression\n",
        "\n",
        "full_pipeline= make_pipeline(transformer,LinearRegression())\n",
        "full_pipeline.fit(X_train,y_train)\n"
      ],
      "metadata": {
        "id": "lFBO4-3P35Zx"
      },
      "execution_count": null,
      "outputs": []
    },
    {
      "cell_type": "code",
      "source": [
        "full_pipeline.score(X_test,y_test)"
      ],
      "metadata": {
        "id": "9an_7H_Q35Cp"
      },
      "execution_count": null,
      "outputs": []
    },
    {
      "cell_type": "code",
      "source": [
        "from sklearn.ensemble import RandomForestRegressor\n",
        "\n",
        "full_pipeline=make_pipeline(transformer,RandomForestRegressor())\n",
        "full_pipeline.fit(X_train,y_train)\n",
        "full_pipeline.score(X_test,y_test)"
      ],
      "metadata": {
        "id": "vz0_p3NwqhlS"
      },
      "execution_count": null,
      "outputs": []
    },
    {
      "cell_type": "code",
      "source": [
        "full_pipeline.predict(X_test.iloc[:5])"
      ],
      "metadata": {
        "id": "h9yL7vfL89r5"
      },
      "execution_count": null,
      "outputs": []
    },
    {
      "cell_type": "code",
      "source": [
        "y_test.iloc[:5]"
      ],
      "metadata": {
        "id": "5t7RUub59Fly"
      },
      "execution_count": null,
      "outputs": []
    },
    {
      "cell_type": "code",
      "source": [
        "from sklearn.metrics import mean_absolute_error\n",
        "\n",
        "preds=full_pipeline.predict(X_test)\n",
        "mean_absolute_error(y_test,preds)"
      ],
      "metadata": {
        "id": "C9PzGoCb9gUA"
      },
      "execution_count": null,
      "outputs": []
    },
    {
      "cell_type": "code",
      "source": [
        "df1['median_house_value'].mean()"
      ],
      "metadata": {
        "id": "pSAWDYoR9gJo"
      },
      "execution_count": null,
      "outputs": []
    },
    {
      "cell_type": "code",
      "source": [
        "def column_ratio(X):\n",
        "  return X[:, [0]]/ X[:, [1]]\n",
        "\n",
        "def ratio_name(function_transformer, feature_names_in):\n",
        "  return[\"ration\"]\n",
        "\n",
        "def ratio_pipeline():\n",
        "  return make_pipeline(\n",
        "      SimpleImputer(strategy='median'),\n",
        "      FunctionTransformer(column_ratio,feature_names_out=ratio_name),\n",
        "      StandardScaler()\n",
        "\n",
        "  )\n",
        "\n",
        "log_pipeline=make_pipeline(\n",
        "    SimpleImputer(strategy='median'),\n",
        "    FunctionTransformer(np.log, feature_names_out='one-to-one'),\n",
        "    StandardScaler()\n",
        "\n",
        "\n",
        ")\n",
        "\n",
        "cat_pipeline = make_pipeline(\n",
        "    SimpleImputer(strategy='most_frequent'),\n",
        "    OneHotEncoder(handle_unknown='ignore')\n",
        ")\n",
        "\n",
        "default_num_pipeline= make_pipeline(SimpleImputer(strategy='median'),StandardScaler())\n",
        "\n",
        "preprocessing= ColumnTransformer([\n",
        "    ('bedrooms',ratio_pipeline(),['total_bedrooms','total_rooms']),\n",
        "    ('rooms_per_house', ratio_pipeline(),['total_rooms','households']),\n",
        "    ('people_per_house',ratio_pipeline(),['population','households']),\n",
        "    ('log',log_pipeline,['total_bedrooms','total_rooms','population','households','median_income']),\n",
        "    ('cat',cat_pipeline,['ocean_proximity'])\n",
        "],\n",
        "    remainder= default_num_pipeline)\n"
      ],
      "metadata": {
        "id": "SMtam-5O9gGg"
      },
      "execution_count": null,
      "outputs": []
    },
    {
      "cell_type": "code",
      "source": [
        "X_train_prepared=pd.DataFrame(preprocessing.fit_transform(X_train),columns=preprocessing.get_feature_names_out())\n",
        "X_train_prepared"
      ],
      "metadata": {
        "id": "-rfZ-sa19gCu"
      },
      "execution_count": null,
      "outputs": []
    },
    {
      "cell_type": "code",
      "source": [
        "full_pipeline=make_pipeline(preprocessing,LinearRegression())\n",
        "full_pipeline.fit(X_train,y_train)\n",
        "full_pipeline.score(X_test,y_test)"
      ],
      "metadata": {
        "id": "Jt3nUnq59Fic"
      },
      "execution_count": null,
      "outputs": []
    },
    {
      "cell_type": "code",
      "source": [],
      "metadata": {
        "id": "oYik0yMuWm4Q"
      },
      "execution_count": null,
      "outputs": []
    },
    {
      "cell_type": "code",
      "source": [
        "full_pipeline=make_pipeline(preprocessing,DecisionTreeRegressor())\n",
        "full_pipeline.fit(X_train,y_train)\n",
        "full_pipeline.score(X_test,y_test)"
      ],
      "metadata": {
        "id": "tM5U4qagFOzu"
      },
      "execution_count": null,
      "outputs": []
    },
    {
      "cell_type": "code",
      "source": [
        "full_pipeline=make_pipeline(preprocessing,RandomForestRegressor())\n",
        "full_pipeline.fit(X_train,y_train)\n",
        "full_pipeline.score(X_test,y_test)"
      ],
      "metadata": {
        "id": "7dAgUFVVFObh"
      },
      "execution_count": null,
      "outputs": []
    },
    {
      "cell_type": "code",
      "source": [
        "from sklearn.tree import DecisionTreeRegressor\n",
        "\n",
        "full_pipeline=make_pipeline(transformer,DecisionTreeRegressor())\n",
        "full_pipeline.fit(X_train,y_train)\n",
        "full_pipeline.score(X_test,y_test)"
      ],
      "metadata": {
        "id": "LlZk6oKu7q4V"
      },
      "execution_count": null,
      "outputs": []
    },
    {
      "cell_type": "code",
      "source": [
        "for i in range(100,170,10):\n",
        "    full_pipeline=make_pipeline(preprocessing, RandomForestRegressor(n_estimators=i))\n",
        "    full_pipeline.fit(X_train[:8000],y_train[:8000])\n",
        "    print(i,full_pipeline.score(X_test,y_test))"
      ],
      "metadata": {
        "id": "_heAGD8KUQ8F"
      },
      "execution_count": null,
      "outputs": []
    },
    {
      "cell_type": "code",
      "source": [
        "from sklearn.model_selection import cross_val_score\n",
        "\n",
        "cross_val_score(full_pipeline, X_train[:8000], y_train[:8000],cv=5, scoring='neg_mean_absolute_error')"
      ],
      "metadata": {
        "id": "sGroJlN9UQ4W"
      },
      "execution_count": null,
      "outputs": []
    },
    {
      "cell_type": "code",
      "source": [
        "X_train_prepared=pd.DataFrame(preprocessing.fit_transform(X_train),columns=preprocessing.get_feature_names_out())\n"
      ],
      "metadata": {
        "id": "OLkQaTjZUQ1t"
      },
      "execution_count": null,
      "outputs": []
    },
    {
      "cell_type": "code",
      "source": [
        "X_test_prepared=pd.DataFrame(preprocessing.transform(X_test),columns=preprocessing.get_feature_names_out())\n"
      ],
      "metadata": {
        "id": "2x_4idmtUQzt"
      },
      "execution_count": null,
      "outputs": []
    },
    {
      "cell_type": "code",
      "source": [
        "from sklearn.model_selection import GridSearchCV\n",
        "params={\n",
        "    'n_estimators':[100,120,140,160],\n",
        "    'max_feature':[3,5,7,8]\n",
        "}\n",
        "\n",
        "grid_search = GridSearchCV(RandomForestRegressor(n_jobs=-1),params,cv=3,scoring='neg_mean_absolute_error')\n",
        "grid_search.fit(X_train_prepared[:8000],y_train[:8000])"
      ],
      "metadata": {
        "id": "GxI4fQmYUQrM"
      },
      "execution_count": null,
      "outputs": []
    },
    {
      "cell_type": "code",
      "source": [
        "grid_search.best_params_ # find the best combination"
      ],
      "metadata": {
        "id": "ZQfpNk3DUQoC"
      },
      "execution_count": null,
      "outputs": []
    },
    {
      "cell_type": "code",
      "source": [
        "grid_search.best_estimators_ # find the best estimator"
      ],
      "metadata": {
        "id": "Tt8JVJWdUO_2"
      },
      "execution_count": null,
      "outputs": []
    },
    {
      "cell_type": "code",
      "source": [
        "from sklearn.model_selection import RandomizedSearchCV\n",
        "import numpy as np\n",
        "params={\n",
        "    'n_estimators': np.arange(100,250,10),\n",
        "    'max_feature':[3,5,7,8]\n",
        "}\n",
        "random_search= RandomizedSearchCV(RandomForestRegressor(n_jobs=-1),\n",
        "                                   params,cv=3,scoring='neg_mean_absolute_error',\n",
        "                                  n_iter=15)\n",
        "\n",
        "random_search.fit(X_train_prepared[:8000],y_train[:8000])\n"
      ],
      "metadata": {
        "id": "1x37-KXGUO2_"
      },
      "execution_count": null,
      "outputs": []
    },
    {
      "cell_type": "code",
      "source": [
        "random_forest_reg=random_search.best_estimator_\n",
        "random_forest_reg.fit(X_train_prepared,y_train)\n",
        "random_forest_reg.score(X_test_prepared,y_test)"
      ],
      "metadata": {
        "id": "2swawZsLUOri"
      },
      "execution_count": null,
      "outputs": []
    },
    {
      "cell_type": "code",
      "source": [
        "from sklearn.model_selection import GridSearchCV"
      ],
      "metadata": {
        "id": "lJ-f-syzjscW"
      },
      "execution_count": null,
      "outputs": []
    },
    {
      "cell_type": "code",
      "source": [
        "params={\n",
        "    'randomforestregressor_n_estimators':[100,120,140,160],\n",
        "    'randomforestregressor_max_feature': [3,5,7,8]  }\n",
        "\n",
        "grid_search = GridSearchCV(full_pipeline,params,cv=3,scoring='neg_mean_absolute_error')\n",
        "grid_search.fit(X_train,y_train)"
      ],
      "metadata": {
        "id": "O3pkVIi3hoV0"
      },
      "execution_count": null,
      "outputs": []
    },
    {
      "cell_type": "code",
      "source": [
        "params={\n",
        "    'randomforestregressor__n_estimators':[100,120,140,160], # 2 defe _ _ underscore qeyd olunur\n",
        "    'randomforestregressor__max_feature': [3,5,7,8]  }\n",
        "\n",
        "grid_search = GridSearchCV(full_pipeline,params,cv=3,scoring='neg_mean_absolute_error')\n",
        "grid_search.fit(X_train,y_train)"
      ],
      "metadata": {
        "id": "V3mYjSHghoSg"
      },
      "execution_count": null,
      "outputs": []
    },
    {
      "cell_type": "code",
      "source": [
        "sorted(zip(random_forest_reg.feature_importances_, X_train_prepared.columns),reverse=True)"
      ],
      "metadata": {
        "id": "zaeYfpPehoPN"
      },
      "execution_count": null,
      "outputs": []
    },
    {
      "cell_type": "code",
      "source": [
        "from  sklearn.ensemble import IsolationForest"
      ],
      "metadata": {
        "id": "o0iod8SWhoMJ"
      },
      "execution_count": null,
      "outputs": []
    },
    {
      "cell_type": "code",
      "source": [
        "iso_forest=IsolationForest(n_estimators=100,random_state=13)\n",
        "iso_forest.fit(X_train_prepared)\n",
        "iso_forest.predict(X_train_prepared)"
      ],
      "metadata": {
        "id": "-HfTIxnlhoJd"
      },
      "execution_count": null,
      "outputs": []
    },
    {
      "cell_type": "code",
      "source": [],
      "metadata": {
        "id": "XPFqAipShoG3"
      },
      "execution_count": null,
      "outputs": []
    },
    {
      "cell_type": "code",
      "source": [],
      "metadata": {
        "id": "CV7jvCV0mzb_"
      },
      "execution_count": null,
      "outputs": []
    },
    {
      "cell_type": "code",
      "source": [],
      "metadata": {
        "id": "MMgajZaMmzGK"
      },
      "execution_count": null,
      "outputs": []
    },
    {
      "cell_type": "code",
      "source": [],
      "metadata": {
        "id": "NWp7uvW7mzCv"
      },
      "execution_count": null,
      "outputs": []
    },
    {
      "cell_type": "code",
      "source": [
        "!kaggle datasets download -d \"START-UMD/gtd\""
      ],
      "metadata": {
        "id": "6XsHmZuaoyIi"
      },
      "execution_count": null,
      "outputs": []
    },
    {
      "cell_type": "code",
      "source": [
        "!unzip /content/gtd.zip"
      ],
      "metadata": {
        "id": "0VlZAf0To0OY"
      },
      "execution_count": null,
      "outputs": []
    },
    {
      "cell_type": "code",
      "source": [
        "task=pd.read_csv('globalterrorismdb_0718dist.csv',encoding='latin-1')\n",
        "task"
      ],
      "metadata": {
        "id": "9dhapSIeo8Pe"
      },
      "execution_count": null,
      "outputs": []
    },
    {
      "cell_type": "code",
      "source": [
        "pd.set_option('display.max_columns',None)"
      ],
      "metadata": {
        "id": "C1qtqUk7pClu"
      },
      "execution_count": null,
      "outputs": []
    },
    {
      "cell_type": "code",
      "source": [
        "task1=task[['attacktype1_txt','nkill','country_txt','natlty1_txt','attacktype1']]\n",
        "task1"
      ],
      "metadata": {
        "id": "hFXVO3GRmoxt"
      },
      "execution_count": null,
      "outputs": []
    },
    {
      "cell_type": "code",
      "source": [
        "a=task1.groupby('country_txt').sum('nkill').reset_index().rename(columns={'nkill':'fatalities'})\n",
        "b=a[['country_txt','fatalities']].sort_values(by='fatalities',ascending=False).head(10)\n",
        "\n",
        "fig,ax=plt.subplots(figsize=(7,5))\n",
        "bar=ax.bar(x=b['country_txt'], height=b['fatalities'], label='Fatalities');\n",
        "ax.set(title='fatalities over countries',xlabel='country',ylabel='death number')\n",
        "ax.legend(title='Data');\n",
        "plt.xticks(rotation=45);  # Rotate x-axis labels for better visibility\n",
        "plt.tight_layout();\n"
      ],
      "metadata": {
        "id": "SaZYijJipe4x"
      },
      "execution_count": null,
      "outputs": []
    },
    {
      "cell_type": "code",
      "source": [
        "c=task1.groupby('natlty1_txt').sum('attacktype1').reset_index()\n",
        "c=c[['natlty1_txt','attacktype1']].rename(columns={'natlty1_txt':'nationality','attacktype1':'attack_count'}).sort_values(by='attack_count',ascending=False).head(50)\n",
        "fig,ax=plt.subplots(figsize=(10,7))\n",
        "bar=ax.bar(x=c['nationality'],height=c['attack_count'],label='attack_count');\n",
        "ax.set(title='attack count over nationality',xlabel='nation',ylabel='attack count');\n",
        "ax.legend(title='data');\n",
        "plt.xticks(rotation=45);\n",
        "plt.tight_layout();"
      ],
      "metadata": {
        "id": "GYPpocVDrHFh"
      },
      "execution_count": null,
      "outputs": []
    },
    {
      "cell_type": "code",
      "source": [
        "d=task[['natlty1_txt','iyear','attacktype1','nkill']]\n",
        "d"
      ],
      "metadata": {
        "id": "xinHhT4h04Tz"
      },
      "execution_count": null,
      "outputs": []
    },
    {
      "cell_type": "code",
      "source": [
        "d1=d.groupby('iyear').nunique('natlty1_txt').reset_index()\n",
        "d2=d1[['iyear','natlty1_txt']].rename(columns={'natlty1_txt':'nationality_count_get_attackted'})\n",
        "fig,ax=plt.subplots(figsize=(7,5))\n",
        "plot=ax.plot(d2['iyear'],d2['nationality_count_get_attackted'],  label='nationality_count_get_attackted');\n",
        "ax.set(title='attack number over year',xlabel='year',ylabel='attack count');\n",
        "ax.legend(title='data');\n",
        "plt.xticks(rotation=45);\n",
        "plt.tight_layout();"
      ],
      "metadata": {
        "id": "tkvOCIRo2JYu"
      },
      "execution_count": null,
      "outputs": []
    },
    {
      "cell_type": "code",
      "source": [
        "task2=task[['approxdate','imonth','iday','iyear','attacktype1','natlty1_txt']]\n",
        "task2"
      ],
      "metadata": {
        "id": "BTd1wAZ3PdNB"
      },
      "execution_count": null,
      "outputs": []
    },
    {
      "cell_type": "code",
      "source": [
        "spring=task2[(task2['imonth']>=3) & (task2['imonth']<=5)]\n",
        "summer=task2[(task2['imonth']>=6) & (task2['imonth']<=8)]\n",
        "autumn=task2[(task2['imonth']>=9) & (task2['imonth']<=11)]\n",
        "winter=task2[(task2['imonth']<=2) | (task2['imonth']==12)]"
      ],
      "metadata": {
        "id": "KMqeyF9jU47_"
      },
      "execution_count": null,
      "outputs": []
    },
    {
      "cell_type": "code",
      "source": [
        "s=spring.groupby('iyear')['attacktype1'].sum().reset_index()\n"
      ],
      "metadata": {
        "id": "YxPFAP8oXdGO"
      },
      "execution_count": null,
      "outputs": []
    },
    {
      "cell_type": "code",
      "source": [
        "sum=summer.groupby('iyear')['attacktype1'].sum().reset_index()\n"
      ],
      "metadata": {
        "id": "fDdR8UvFYyu7"
      },
      "execution_count": null,
      "outputs": []
    },
    {
      "cell_type": "code",
      "source": [
        "fall=autumn.groupby('iyear')['attacktype1'].sum().reset_index()\n"
      ],
      "metadata": {
        "id": "NydNmZohZqCa"
      },
      "execution_count": null,
      "outputs": []
    },
    {
      "cell_type": "code",
      "source": [
        "win=winter.groupby('iyear')['attacktype1'].sum().reset_index()\n"
      ],
      "metadata": {
        "id": "W9zI7wppZv6Y"
      },
      "execution_count": null,
      "outputs": []
    },
    {
      "cell_type": "code",
      "source": [
        "merged=s.merge(sum,on='iyear').merge(fall,on='iyear')\n",
        "over_season=merged.rename(columns={'attacktype1_x':'spring','attacktype1_y':'summer','attacktype1':'autumn'}).merge(win,on='iyear').rename(columns={'attacktype1':'winter'})\n",
        "over_season"
      ],
      "metadata": {
        "id": "jDF6EZKpbdT_"
      },
      "execution_count": null,
      "outputs": []
    },
    {
      "cell_type": "code",
      "source": [
        "fig,ax=plt.subplots(figsize=(10,7))\n",
        "plot=ax.plot(over_season['iyear'],over_season['spring'],label='spring',c='r');\n",
        "plot=ax.plot(over_season['iyear'],over_season['summer'],label='summer',c='g');\n",
        "plot=ax.plot(over_season['iyear'],over_season['autumn'],label='autumn',c='b');\n",
        "plot=ax.plot(over_season['iyear'],over_season['winter'],label='winter',c='black');\n",
        "ax.set(title='attack over seasons',xlabel='years',ylabel='attack counts');\n",
        "ax.legend(title='info');"
      ],
      "metadata": {
        "id": "5QOSnOrvefhf"
      },
      "execution_count": null,
      "outputs": []
    },
    {
      "cell_type": "code",
      "source": [
        "task3=task[['region','region_txt','attacktype1','attacktype1_txt','targtype1','targtype1_txt','target1','iyear']]\n",
        "task3"
      ],
      "metadata": {
        "id": "fVNHnGkceoEM"
      },
      "execution_count": null,
      "outputs": []
    },
    {
      "cell_type": "code",
      "source": [
        "big=task3.groupby('attacktype1')['iyear'].count().reset_index().rename(columns={'iyear':'count_attack'})\n",
        "plt.bar(x=big['attacktype1'],height=big['count_attack'],label='number over attack type');\n",
        "plt.legend();\n",
        "# plt.title('Number over Attack Type');\n",
        "# plt.xlabel('attack type');\n",
        "# plt.ylabel('total count');"
      ],
      "metadata": {
        "id": "B3gOJOe5ihw5"
      },
      "execution_count": null,
      "outputs": []
    },
    {
      "cell_type": "code",
      "source": [
        "must=task3.groupby(['targtype1_txt','iyear'])['region'].nunique('attacktype1').reset_index()\n",
        "must"
      ],
      "metadata": {
        "id": "H2oncsbajhmY"
      },
      "execution_count": null,
      "outputs": []
    },
    {
      "cell_type": "code",
      "source": [
        "val= task3.groupby(['iyear', 'targtype1_txt'])['attacktype1'].value_counts().to_frame('count').reset_index()\n",
        "val1=val[['iyear','targtype1_txt','count']]\n",
        "val1"
      ],
      "metadata": {
        "id": "JV0fPLV7Ks_9"
      },
      "execution_count": null,
      "outputs": []
    },
    {
      "cell_type": "code",
      "source": [
        "max_value=val1.groupby(['iyear', 'targtype1_txt'])['count'].sum().reset_index()\n",
        "m=max_value.loc[max_value.groupby('iyear')['count'].idxmax()]\n",
        "plt.plot(m['iyear'],m['count'],label='target level');\n",
        "plt.title('target over year');\n",
        "plt.xlabel('year');\n",
        "plt.ylabel('count')\n",
        "plt.legend();\n",
        "plt.xticks(rotation=40);\n",
        "plt.tight_layout();\n",
        "plt.marker='s'\n"
      ],
      "metadata": {
        "id": "LsTedDwfVNXT"
      },
      "execution_count": null,
      "outputs": []
    },
    {
      "cell_type": "code",
      "source": [
        "fig,ax=plt.subplots(figsize=(7,5))\n",
        "plot=ax.scatter(val1['iyear'],val1['targtype1_txt'])"
      ],
      "metadata": {
        "id": "yvy2SoY2LWvQ"
      },
      "execution_count": null,
      "outputs": []
    },
    {
      "cell_type": "code",
      "source": [
        "grouped_data = val1.groupby(['iyear', 'targtype1_txt'])['count'].sum().reset_index()\n",
        "max_target_per_year = grouped_data.loc[grouped_data.groupby('iyear')['count'].idxmax()]\n",
        "fig, ax = plt.subplots(figsize=(7, 5))\n",
        "ax.plot(max_target_per_year['iyear'], max_target_per_year['count'], marker='o', color='b')\n",
        "ax.set_title('Most Frequent Target Type Over the Years')\n",
        "ax.set_xlabel('Year')\n",
        "ax.set_ylabel('Total Count')\n",
        "plt.xticks(rotation=45)\n",
        "plt.show()"
      ],
      "metadata": {
        "id": "6_u1Zt2DNrF4"
      },
      "execution_count": null,
      "outputs": []
    },
    {
      "cell_type": "code",
      "source": [
        "grouped_data = val1.groupby(['iyear', 'targtype1_txt'])['count'].sum().reset_index()\n",
        "max_target_per_year = grouped_data.loc[grouped_data.groupby('iyear')['count'].idxmax()]\n",
        "fig, ax = plt.subplots(figsize=(7, 5))\n",
        "ax.plot(max_target_per_year['iyear'], max_target_per_year['targtype1_txt'], marker='P', color='g')\n",
        "ax.set_title('Most Frequent Target Type Over the Years')\n",
        "ax.set_xlabel('Year')\n",
        "ax.set_ylabel('Total Count')\n",
        "plt.xticks(rotation=45)\n",
        "plt.show()"
      ],
      "metadata": {
        "id": "AH5iaebTQGdU"
      },
      "execution_count": null,
      "outputs": []
    },
    {
      "cell_type": "code",
      "source": [
        "max_target_per_year = grouped_data.loc[grouped_data.groupby('iyear')['count'].idxmax()]\n",
        "max_target_per_year"
      ],
      "metadata": {
        "id": "xi3O-V1WRHUV"
      },
      "execution_count": null,
      "outputs": []
    },
    {
      "cell_type": "code",
      "source": [
        "grouped_data = val1.groupby(['iyear', 'targtype1_txt'])['count'].sum().reset_index()\n",
        "grouped_data"
      ],
      "metadata": {
        "id": "WVmPHrBVTJsV"
      },
      "execution_count": null,
      "outputs": []
    },
    {
      "cell_type": "code",
      "source": [
        "task4=task[['country','country_txt','region','region_txt','attacktype1_txt','iyear']]\n",
        "task4"
      ],
      "metadata": {
        "id": "S6JaS2rITT2I"
      },
      "execution_count": null,
      "outputs": []
    },
    {
      "cell_type": "code",
      "source": [
        "value_region=task4.groupby(['iyear','region_txt']).size().to_frame('count').reset_index()\n",
        "vas=value_region.groupby(['iyear','region_txt'])['count'].sum().reset_index()\n",
        "vas"
      ],
      "metadata": {
        "id": "oPJrU3VLpTWN"
      },
      "execution_count": null,
      "outputs": []
    },
    {
      "cell_type": "code",
      "source": [
        "vas=vas.loc[vas.groupby('iyear')['count'].idxmax()]\n",
        "fig,ax=plt.subplots(figsize=(7,5))\n",
        "plot=ax.plot(vas['iyear'],vas['region_txt'],label='terror level',marker='o', c='g');\n",
        "ax.set(title='terror over region', xlabel='iyear',ylabel='count');\n",
        "ax.legend();\n",
        "plt.xticks(rotation=45);\n",
        "plt.tight_layout();"
      ],
      "metadata": {
        "id": "en7z2OE8t5Cw"
      },
      "execution_count": null,
      "outputs": []
    },
    {
      "cell_type": "code",
      "source": [
        "value_region1=task4.groupby(['iyear','region_txt']).size().to_frame('count').reset_index()\n",
        "vas1=value_region.groupby('region_txt')['count'].sum().reset_index()\n",
        "# vas1\n",
        "plt.bar(x=vas1['region_txt'], height=vas1['count'],label='region terror')\n",
        "plt.legend()\n",
        "plt.xticks(rotation=45);\n",
        "plt.tight_layout()\n"
      ],
      "metadata": {
        "id": "1KacWIFEwRjk"
      },
      "execution_count": null,
      "outputs": []
    },
    {
      "cell_type": "code",
      "source": [
        "task5=task[['attacktype1','attacktype1_txt','city','targtype1_txt','target1','nkill']]\n",
        "task5"
      ],
      "metadata": {
        "id": "3qfHFVKYzLjo"
      },
      "execution_count": null,
      "outputs": []
    },
    {
      "cell_type": "code",
      "source": [
        "value5=task5.groupby('targtype1_txt')['nkill'].mean().reset_index().sort_values('nkill',ascending=False)\n",
        "val5=value5.head(10)\n",
        "val5"
      ],
      "metadata": {
        "id": "UWi002uo2RJx"
      },
      "execution_count": null,
      "outputs": []
    },
    {
      "cell_type": "code",
      "source": [
        "fig,ax=plt.subplots(figsize=(10,7))\n",
        "pie=ax.pie(val5['nkill'],labels=val5['targtype1_txt'], autopct='%.2f%%');\n",
        "ax.set(title='target type')"
      ],
      "metadata": {
        "id": "7BLdWWqs3HC3"
      },
      "execution_count": null,
      "outputs": []
    },
    {
      "cell_type": "code",
      "source": [
        "task6=task[['iyear','attacktype1','attacktype1_txt']]\n",
        "attack_type=task6.groupby('attacktype1_txt')['attacktype1'].count().to_frame('count').reset_index().sort_values(by='count',ascending=False)\n",
        "attack_type"
      ],
      "metadata": {
        "id": "IDqrMjOO364w"
      },
      "execution_count": null,
      "outputs": []
    },
    {
      "cell_type": "code",
      "source": [
        "plt.plot(attack_type['attacktype1_txt'],attack_type['count'],label='attack type indicator');\n",
        "plt.title('attack type level');\n",
        "plt.xlabel('attack type');\n",
        "plt.ylabel('count');\n",
        "plt.xticks(rotation=45);\n",
        "plt.tight_layout();\n",
        "plt.legend();"
      ],
      "metadata": {
        "id": "YftgwbcQ-yC1"
      },
      "execution_count": null,
      "outputs": []
    },
    {
      "cell_type": "code",
      "source": [
        "task7=task[['iyear','guncertain1','weaptype1_txt','weapsubtype1_txt','weapdetail']]\n",
        "task7"
      ],
      "metadata": {
        "id": "dhLnZyUuAGL5"
      },
      "execution_count": null,
      "outputs": []
    },
    {
      "cell_type": "code",
      "source": [
        "weapon_value=task7.groupby('weaptype1_txt')['weaptype1_txt'].size().to_frame('count').reset_index().sort_values(by='count',ascending=False)\n",
        "weapon_value"
      ],
      "metadata": {
        "id": "CegyFX61JzXO"
      },
      "execution_count": null,
      "outputs": []
    },
    {
      "cell_type": "code",
      "source": [
        "fig,ax=plt.subplots(figsize=(10,7))\n",
        "bar=ax.bar(height=weapon_value['count'],x=weapon_value['weaptype1_txt'],label='weapon type')\n",
        "plt.xticks(rotation=45);\n",
        "ax.legend();\n",
        "plt.tight_layout;\n",
        "ax.set(title='most used weapon type',xlabel='weapon type',ylabel='total count');"
      ],
      "metadata": {
        "id": "Qx-7b5fILOKX"
      },
      "execution_count": null,
      "outputs": []
    },
    {
      "cell_type": "code",
      "source": [
        "xl=task7.groupby(['iyear','weaptype1_txt'])['weaptype1_txt'].count().to_frame('count').reset_index()\n",
        "xl"
      ],
      "metadata": {
        "id": "B4vk6at6Mil0"
      },
      "execution_count": null,
      "outputs": []
    },
    {
      "cell_type": "code",
      "source": [
        "result=xl.loc[xl.groupby('iyear')['count'].idxmax()]\n",
        "result"
      ],
      "metadata": {
        "id": "vVmmAbDrQAVq"
      },
      "execution_count": null,
      "outputs": []
    },
    {
      "cell_type": "code",
      "source": [
        "fig,ax=plt.subplots(figsize=(8,5))\n",
        "plot=ax.plot(result['iyear'],result['count'],label='weapon typyes', marker='s', color='r');\n",
        "ax.set(title='weapon type over years',xlabel='year',ylabel='count');\n",
        "ax.legend();\n",
        "plt.xticks(rotation=45);\n",
        "plt.tight_layout();"
      ],
      "metadata": {
        "id": "3mM2piOjQ6Bh"
      },
      "execution_count": null,
      "outputs": []
    },
    {
      "cell_type": "code",
      "source": [
        "task[['property','propextent','propextent_txt','propvalue']]"
      ],
      "metadata": {
        "id": "3LuwrJrpTuLK"
      },
      "execution_count": null,
      "outputs": []
    },
    {
      "cell_type": "code",
      "source": [
        "task"
      ],
      "metadata": {
        "id": "fHYXUH_zVftz"
      },
      "execution_count": null,
      "outputs": []
    },
    {
      "cell_type": "code",
      "source": [
        "geo_viz = task[task['longitude'] >= -180]\n",
        "geo_viz"
      ],
      "metadata": {
        "id": "a-qVylJXmz1V"
      },
      "execution_count": null,
      "outputs": []
    },
    {
      "cell_type": "code",
      "source": [
        "plt.subplots(figsize=(12, 7))\n",
        "plt.scatter(x=geo_viz['longitude'], y=geo_viz['latitude'])"
      ],
      "metadata": {
        "id": "Ha0o5y2RnWL-"
      },
      "execution_count": null,
      "outputs": []
    },
    {
      "cell_type": "code",
      "source": [],
      "metadata": {
        "id": "lLeoVZN8nr5z"
      },
      "execution_count": null,
      "outputs": []
    }
  ]
}