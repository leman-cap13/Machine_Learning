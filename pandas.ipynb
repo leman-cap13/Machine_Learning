{
  "nbformat": 4,
  "nbformat_minor": 0,
  "metadata": {
    "colab": {
      "provenance": [],
      "authorship_tag": "ABX9TyNWYBgDiovOMD/mhQ2OPB6l",
      "include_colab_link": true
    },
    "kernelspec": {
      "name": "python3",
      "display_name": "Python 3"
    },
    "language_info": {
      "name": "python"
    }
  },
  "cells": [
    {
      "cell_type": "markdown",
      "metadata": {
        "id": "view-in-github",
        "colab_type": "text"
      },
      "source": [
        "<a href=\"https://colab.research.google.com/github/leman-cap13/kaggle_datasets_/blob/main/pandas.ipynb\" target=\"_parent\"><img src=\"https://colab.research.google.com/assets/colab-badge.svg\" alt=\"Open In Colab\"/></a>"
      ]
    },
    {
      "cell_type": "code",
      "execution_count": null,
      "metadata": {
        "id": "snVyK-O-ICDA"
      },
      "outputs": [],
      "source": [
        "!wget https://raw.githubusercontent.com/Rstam59/TaskDataRepoForStudents/refs/heads/main/car-sales.csv"
      ]
    },
    {
      "cell_type": "code",
      "source": [
        "import pandas as pd\n",
        "df= pd.read_csv('car-sales.csv')\n",
        "df\n"
      ],
      "metadata": {
        "id": "rz2TGQ5dI34A"
      },
      "execution_count": null,
      "outputs": []
    },
    {
      "cell_type": "code",
      "source": [
        "df.head(3)"
      ],
      "metadata": {
        "id": "tWzXRvqVJHhy"
      },
      "execution_count": null,
      "outputs": []
    },
    {
      "cell_type": "code",
      "source": [
        "df.tail(3)"
      ],
      "metadata": {
        "id": "h5IigQ6jJdln"
      },
      "execution_count": null,
      "outputs": []
    },
    {
      "cell_type": "code",
      "source": [
        "df['Make']"
      ],
      "metadata": {
        "id": "mV1uu_jsJi9u"
      },
      "execution_count": null,
      "outputs": []
    },
    {
      "cell_type": "code",
      "source": [
        "df[['Make','Colour']]"
      ],
      "metadata": {
        "id": "fFOyrro3KAbi"
      },
      "execution_count": null,
      "outputs": []
    },
    {
      "cell_type": "code",
      "source": [
        "df[df['Colour']== 'Red']"
      ],
      "metadata": {
        "id": "Cmr4ex4bKPiG"
      },
      "execution_count": null,
      "outputs": []
    },
    {
      "cell_type": "code",
      "source": [
        "df[(df['Make']=='Toyota') & (df['Colour']=='Blue') & (df['Odometer (KM)'] < 70000)]"
      ],
      "metadata": {
        "id": "Tupa3j38NmBa"
      },
      "execution_count": null,
      "outputs": []
    },
    {
      "cell_type": "code",
      "source": [
        "df = pd.read_csv('car-sales.csv')\n",
        "df"
      ],
      "metadata": {
        "id": "nHOFx6AhOSH4"
      },
      "execution_count": null,
      "outputs": []
    },
    {
      "source": [
        "from google.colab import sheets\n",
        "sheet = sheets.InteractiveSheet(df=df)"
      ],
      "cell_type": "code",
      "execution_count": null,
      "outputs": [],
      "metadata": {
        "cellView": "form",
        "id": "RuPksbTQPFsD"
      }
    },
    {
      "cell_type": "code",
      "source": [
        "data = {'Column1': [1, 2, 3],'Column2': ['A', 'B', 'C'],\n",
        "    'Column3': [4.5, 6.7, 8.9]}\n",
        "df = pd.DataFrame(data)\n",
        "df"
      ],
      "metadata": {
        "id": "4_nQ8g_XOvlp"
      },
      "execution_count": null,
      "outputs": []
    },
    {
      "cell_type": "code",
      "source": [],
      "metadata": {
        "id": "92qOrOJPQcHD"
      },
      "execution_count": null,
      "outputs": []
    }
  ]
}