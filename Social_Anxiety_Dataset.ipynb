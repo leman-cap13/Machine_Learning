{
  "nbformat": 4,
  "nbformat_minor": 0,
  "metadata": {
    "colab": {
      "provenance": [],
      "authorship_tag": "ABX9TyMZG7F7nPqrUd2PqRo3XOru",
      "include_colab_link": true
    },
    "kernelspec": {
      "name": "python3",
      "display_name": "Python 3"
    },
    "language_info": {
      "name": "python"
    }
  },
  "cells": [
    {
      "cell_type": "markdown",
      "metadata": {
        "id": "view-in-github",
        "colab_type": "text"
      },
      "source": [
        "<a href=\"https://colab.research.google.com/github/leman-cap13/kaggle_datasets_/blob/main/Social_Anxiety_Dataset.ipynb\" target=\"_parent\"><img src=\"https://colab.research.google.com/assets/colab-badge.svg\" alt=\"Open In Colab\"/></a>"
      ]
    },
    {
      "cell_type": "code",
      "execution_count": null,
      "metadata": {
        "id": "EbLMV9fWaHwR"
      },
      "outputs": [],
      "source": [
        "from google.colab import files\n",
        "files.upload()"
      ]
    },
    {
      "cell_type": "code",
      "source": [
        "!mkdir -p ~/.kaggle\n",
        "!cp kaggle.json ~/.kaggle/\n",
        "!chmod 600 ~/.kaggle/kaggle.json"
      ],
      "metadata": {
        "id": "v-pTpGSIaSi3"
      },
      "execution_count": null,
      "outputs": []
    },
    {
      "cell_type": "code",
      "source": [
        "!kaggle datasets download natezhang123/social-anxiety-dataset"
      ],
      "metadata": {
        "id": "u3W7VbMJaZG1"
      },
      "execution_count": null,
      "outputs": []
    },
    {
      "cell_type": "code",
      "source": [
        "import zipfile\n",
        "with zipfile.ZipFile('/content/social-anxiety-dataset.zip','r') as zip_ref:\n",
        "  zip_ref.extractall()"
      ],
      "metadata": {
        "id": "Wk8xHK4Mabl-"
      },
      "execution_count": null,
      "outputs": []
    },
    {
      "cell_type": "code",
      "source": [
        "import pandas as pd\n",
        "pd.set_option('display.max_columns', None)\n",
        "df=pd.read_csv('/content/enhanced_anxiety_dataset.csv')\n",
        "df"
      ],
      "metadata": {
        "id": "nH85eV-waqc0"
      },
      "execution_count": null,
      "outputs": []
    },
    {
      "cell_type": "code",
      "source": [
        "df.isna().sum()"
      ],
      "metadata": {
        "id": "aj1IpD7Zayxh"
      },
      "execution_count": null,
      "outputs": []
    },
    {
      "cell_type": "code",
      "source": [
        "df.describe()"
      ],
      "metadata": {
        "id": "WuNDeXQWa3hG"
      },
      "execution_count": null,
      "outputs": []
    },
    {
      "cell_type": "code",
      "source": [
        "df.info()"
      ],
      "metadata": {
        "id": "gVmgJgX-a9cL"
      },
      "execution_count": null,
      "outputs": []
    },
    {
      "cell_type": "code",
      "source": [
        "df.columns"
      ],
      "metadata": {
        "id": "xeDI-bHUa_XE"
      },
      "execution_count": null,
      "outputs": []
    },
    {
      "cell_type": "code",
      "source": [
        "df.dtypes"
      ],
      "metadata": {
        "id": "zRQn2nPvbB8G"
      },
      "execution_count": null,
      "outputs": []
    },
    {
      "cell_type": "code",
      "source": [
        "df.duplicated().sum()"
      ],
      "metadata": {
        "id": "B6lOMzDvbDqU"
      },
      "execution_count": null,
      "outputs": []
    },
    {
      "cell_type": "code",
      "source": [
        "import matplotlib.pyplot as plt\n",
        "import seaborn as sns"
      ],
      "metadata": {
        "id": "njv9BhK8bOFr"
      },
      "execution_count": null,
      "outputs": []
    },
    {
      "cell_type": "code",
      "source": [
        "df_corr=df.corr(numeric_only=True)\n",
        "plt.figure(figsize=(10,8))\n",
        "sns.heatmap(df_corr,annot=True)\n",
        "plt.show()"
      ],
      "metadata": {
        "id": "akox9g8sbFaQ"
      },
      "execution_count": null,
      "outputs": []
    },
    {
      "cell_type": "code",
      "source": [
        "df['Anxiety Level (1-10)'].value_counts().plot(kind='bar')"
      ],
      "metadata": {
        "id": "AZ59WuqrbWiR"
      },
      "execution_count": null,
      "outputs": []
    },
    {
      "cell_type": "code",
      "source": [
        "plt.pie(df['Anxiety Level (1-10)'].value_counts(),labels=df['Anxiety Level (1-10)'].value_counts().index)\n",
        "plt.show()"
      ],
      "metadata": {
        "id": "NdquBHK7bf7y"
      },
      "execution_count": null,
      "outputs": []
    },
    {
      "cell_type": "code",
      "source": [
        "numeric_values=df.select_dtypes(include=['int64','float64'])\n",
        "target_value=numeric_values.corrwith(df['Anxiety Level (1-10)'])\n",
        "target_value"
      ],
      "metadata": {
        "id": "lWcQUxO7b4Zj"
      },
      "execution_count": null,
      "outputs": []
    },
    {
      "cell_type": "code",
      "source": [
        "target_value=numeric_values.corr()['Anxiety Level (1-10)'].drop('Anxiety Level (1-10)')\n",
        "highest_corr=target_value.sort_values(ascending=False).head()\n",
        "\n",
        "\n",
        "plt.figure(figsize=(10,8))\n",
        "sns.barplot(x=highest_corr.values,y=highest_corr.index)\n",
        "plt.show()"
      ],
      "metadata": {
        "id": "6X-E9DFbdRLZ"
      },
      "execution_count": null,
      "outputs": []
    },
    {
      "cell_type": "code",
      "source": [
        "# df.drop('Sleep Hours', axis=1,inplace=True)"
      ],
      "metadata": {
        "id": "yDqlEEbtmE9u"
      },
      "execution_count": null,
      "outputs": []
    },
    {
      "cell_type": "code",
      "source": [
        "corrs = df.corr(numeric_only=True)['Anxiety Level (1-10)'].drop('Anxiety Level (1-10)')\n",
        "print(corrs.sort_values())"
      ],
      "metadata": {
        "id": "FOvNt_aa6wB4"
      },
      "execution_count": null,
      "outputs": []
    },
    {
      "cell_type": "code",
      "source": [
        "low_corr_features = corrs[abs(corrs) < 0.1].index.tolist()\n",
        "df = df.drop(columns=low_corr_features)"
      ],
      "metadata": {
        "id": "9lqNxHvo62T5"
      },
      "execution_count": null,
      "outputs": []
    },
    {
      "cell_type": "code",
      "source": [
        "df.head()"
      ],
      "metadata": {
        "id": "rpYgAREJmObd"
      },
      "execution_count": null,
      "outputs": []
    },
    {
      "cell_type": "code",
      "source": [
        "lowest_corr=target_value.sort_values(ascending=True)\n",
        "lowest_corr"
      ],
      "metadata": {
        "id": "n-p1imh1d02J"
      },
      "execution_count": null,
      "outputs": []
    },
    {
      "cell_type": "code",
      "source": [
        "# def remove_outliers(df):\n",
        "#   for column in df.select_dtypes(include=['int64','float64']):\n",
        "#     Q1=df[column].quantile(0.25)\n",
        "#     Q3=df[column].quantile(0.75)\n",
        "#     IQR=Q3-Q1\n",
        "#     upper_bound=Q3+1.5*IQR\n",
        "#     lower_bound=Q1-1.5*IQR\n",
        "#     df=df[(df[column]>=lower_bound) & (df[column]<=upper_bound)]\n",
        "#   return df"
      ],
      "metadata": {
        "id": "KTuMN7q7eceE"
      },
      "execution_count": null,
      "outputs": []
    },
    {
      "cell_type": "code",
      "source": [
        "# df=remove_outliers(df)"
      ],
      "metadata": {
        "id": "4Rw33aZAerRY"
      },
      "execution_count": null,
      "outputs": []
    },
    {
      "cell_type": "code",
      "source": [
        "df['stress_sleep_ratio'] = df['Stress Level (1-10)'] / (df['Sleep Hours'] + 1e-3)\n",
        "df['activity_vs_caffeine'] = df['Physical Activity (hrs/week)'] - (df['Caffeine Intake (mg/day)'] / 100)\n",
        "df['healthy_lifestyle'] = df['Diet Quality (1-10)'] + df['Physical Activity (hrs/week)']\n",
        "df['stress_hr_interaction'] = df['Stress Level (1-10)'] * df['Heart Rate (bpm)']"
      ],
      "metadata": {
        "id": "H9AOZIVC9ngJ"
      },
      "execution_count": null,
      "outputs": []
    },
    {
      "cell_type": "code",
      "source": [
        "df['Anxiety Level (1-10)']=df['Anxiety Level (1-10)'].astype('int')"
      ],
      "metadata": {
        "id": "__wxrUm1gP-B"
      },
      "execution_count": null,
      "outputs": []
    },
    {
      "cell_type": "code",
      "source": [
        "X=df.drop('Anxiety Level (1-10)',axis=1)\n",
        "y=df['Anxiety Level (1-10)'].copy()"
      ],
      "metadata": {
        "id": "KRBqb144e6wA"
      },
      "execution_count": null,
      "outputs": []
    },
    {
      "cell_type": "code",
      "source": [
        "sns.histplot(y, bins=10)\n",
        "plt.show()"
      ],
      "metadata": {
        "id": "cN3iHvnB1ALy"
      },
      "execution_count": null,
      "outputs": []
    },
    {
      "cell_type": "code",
      "source": [
        "from sklearn.model_selection import train_test_split\n",
        "X_train,X_test,y_train,y_test=train_test_split(X,y,test_size=0.2,random_state=42)"
      ],
      "metadata": {
        "id": "jjPH0yAMe9aK"
      },
      "execution_count": null,
      "outputs": []
    },
    {
      "cell_type": "code",
      "source": [
        "import numpy as np"
      ],
      "metadata": {
        "id": "kRuqwM8pfMX5"
      },
      "execution_count": null,
      "outputs": []
    },
    {
      "cell_type": "code",
      "source": [
        "num_features=X.select_dtypes(include=[np.number]).columns\n",
        "cat_features=X.select_dtypes(exclude=[np.number]).columns"
      ],
      "metadata": {
        "id": "olMy-gjFfCG3"
      },
      "execution_count": null,
      "outputs": []
    },
    {
      "cell_type": "code",
      "source": [
        "from sklearn.preprocessing import StandardScaler,OneHotEncoder\n",
        "from sklearn.compose import ColumnTransformer\n",
        "from sklearn.pipeline import Pipeline\n",
        "from sklearn.impute import SimpleImputer\n",
        "from sklearn.linear_model import LogisticRegression\n",
        "from sklearn.metrics import accuracy_score,confusion_matrix,ConfusionMatrixDisplay,accuracy_score,precision_score,recall_score,f1_score\n",
        "from sklearn.model_selection import GridSearchCV\n",
        "from sklearn.ensemble import RandomForestClassifier"
      ],
      "metadata": {
        "id": "CprXZVVHfOwH"
      },
      "execution_count": null,
      "outputs": []
    },
    {
      "cell_type": "code",
      "source": [
        "num_pipeline=Pipeline([\n",
        "    ('impute',SimpleImputer(strategy='median')),\n",
        "    ('scaler',StandardScaler())\n",
        "])\n",
        "\n",
        "cat_pipeline=Pipeline([\n",
        "    ('impute',SimpleImputer(strategy='most_frequent', fill_value='missing')),\n",
        "    ('encoder',OneHotEncoder(handle_unknown='ignore', sparse_output=False))\n",
        "])\n",
        "\n",
        "transformer=ColumnTransformer([\n",
        "    ('num',num_pipeline,num_features),\n",
        "    ('cat',cat_pipeline,cat_features)\n",
        "], remainder='passthrough')\n",
        "\n",
        "estimator=RandomForestClassifier(random_state=42, class_weight='balanced')\n",
        "\n",
        "full_pipeline=Pipeline([\n",
        "    ('transformer',transformer),\n",
        "    ('estimator',estimator)\n",
        "])"
      ],
      "metadata": {
        "id": "0PAcn8NnfOss"
      },
      "execution_count": null,
      "outputs": []
    },
    {
      "cell_type": "code",
      "source": [
        "full_pipeline.fit(X_train,y_train)"
      ],
      "metadata": {
        "id": "bIGnLx8xjVD9"
      },
      "execution_count": null,
      "outputs": []
    },
    {
      "cell_type": "code",
      "source": [
        "full_pipeline.score(X_train,y_train),  full_pipeline.score(X_test,y_test)"
      ],
      "metadata": {
        "id": "6y49kTtXjF3U"
      },
      "execution_count": null,
      "outputs": []
    },
    {
      "cell_type": "code",
      "source": [
        "df"
      ],
      "metadata": {
        "id": "4ugA9KKDjlf0"
      },
      "execution_count": null,
      "outputs": []
    },
    {
      "cell_type": "code",
      "source": [
        "y_pred=full_pipeline.predict(X_test)"
      ],
      "metadata": {
        "id": "9TZXyTj_omGZ"
      },
      "execution_count": null,
      "outputs": []
    },
    {
      "cell_type": "code",
      "source": [
        "accuracy_score(y_pred,y_test)"
      ],
      "metadata": {
        "id": "1RWXTu4iokpm"
      },
      "execution_count": null,
      "outputs": []
    },
    {
      "cell_type": "code",
      "source": [
        "precision_score(y_pred, y_test, average='micro')"
      ],
      "metadata": {
        "id": "zNONUBF4okmV"
      },
      "execution_count": null,
      "outputs": []
    },
    {
      "cell_type": "code",
      "source": [
        "recall_score(y_pred, y_test, average='micro')"
      ],
      "metadata": {
        "id": "moPO_7eGo-YL"
      },
      "execution_count": null,
      "outputs": []
    },
    {
      "cell_type": "code",
      "source": [
        "f1_score(y_pred, y_test, average='micro')"
      ],
      "metadata": {
        "id": "SKl07BZeo-U5"
      },
      "execution_count": null,
      "outputs": []
    },
    {
      "cell_type": "code",
      "source": [
        "from sklearn.ensemble import RandomForestRegressor\n",
        "\n",
        "estimator2=RandomForestRegressor(random_state=42)\n",
        "\n",
        "full_pipeline_2=Pipeline([\n",
        "    ('transformer',transformer),\n",
        "    ('estimator2',estimator2)\n",
        "])\n"
      ],
      "metadata": {
        "id": "xU0PUWCqj4oE"
      },
      "execution_count": null,
      "outputs": []
    },
    {
      "cell_type": "code",
      "source": [
        "full_pipeline_2.fit(X_train,y_train)"
      ],
      "metadata": {
        "id": "WZT0E8StkO0Z"
      },
      "execution_count": null,
      "outputs": []
    },
    {
      "cell_type": "code",
      "source": [
        "full_pipeline_2.score(X_train,y_train), full_pipeline_2.score(X_test, y_test)"
      ],
      "metadata": {
        "id": "7ozg0AGPkSZj"
      },
      "execution_count": null,
      "outputs": []
    },
    {
      "cell_type": "code",
      "source": [
        "from sklearn.linear_model import LinearRegression\n",
        "\n",
        "estimator3=LinearRegression()\n",
        "\n",
        "full_pipeline_3=Pipeline([\n",
        "    ('transformer',transformer),\n",
        "    ('estimator3',estimator3)\n",
        "])"
      ],
      "metadata": {
        "id": "P3miLgYfkih5"
      },
      "execution_count": null,
      "outputs": []
    },
    {
      "cell_type": "code",
      "source": [
        "full_pipeline_3.fit(X_train,y_train)"
      ],
      "metadata": {
        "id": "wW81e5VDk7Pb"
      },
      "execution_count": null,
      "outputs": []
    },
    {
      "cell_type": "code",
      "source": [
        "full_pipeline_3.score(X_train,y_train), full_pipeline_3.score(X_test, y_test)"
      ],
      "metadata": {
        "id": "oW5-Icg5kiea"
      },
      "execution_count": null,
      "outputs": []
    },
    {
      "cell_type": "code",
      "source": [
        "from xgboost import XGBRegressor\n",
        "\n",
        "estimator4=XGBRegressor(random_state=42)\n",
        "\n",
        "\n",
        "full_pipeline_4=Pipeline([\n",
        "    ('transformer',transformer),\n",
        "    ('estimator4',estimator4)\n",
        "])"
      ],
      "metadata": {
        "id": "IGCcLbCxk_Ux"
      },
      "execution_count": null,
      "outputs": []
    },
    {
      "cell_type": "code",
      "source": [
        "full_pipeline_4.fit(X_train,y_train)"
      ],
      "metadata": {
        "id": "L9fxhdFtORxW"
      },
      "execution_count": null,
      "outputs": []
    },
    {
      "cell_type": "code",
      "source": [
        "full_pipeline.score(X_train,y_train), full_pipeline.score(X_test,y_test)"
      ],
      "metadata": {
        "id": "pZWP8Sj0OWPj"
      },
      "execution_count": null,
      "outputs": []
    },
    {
      "cell_type": "code",
      "source": [],
      "metadata": {
        "id": "UnR1-ByQ2Axe"
      },
      "execution_count": null,
      "outputs": []
    },
    {
      "cell_type": "code",
      "source": [
        "!pip install catboost"
      ],
      "metadata": {
        "id": "3Y2tJI8b2ArI"
      },
      "execution_count": null,
      "outputs": []
    },
    {
      "cell_type": "code",
      "source": [
        "from catboost import CatBoostRegressor"
      ],
      "metadata": {
        "id": "Aoeq1sCa15e0"
      },
      "execution_count": null,
      "outputs": []
    },
    {
      "cell_type": "code",
      "source": [
        "cat_model = CatBoostRegressor(\n",
        "    iterations=700,\n",
        "    learning_rate=0.05,\n",
        "    depth=5,\n",
        "    loss_function='RMSE',\n",
        "    verbose=100,\n",
        "    random_state=42\n",
        ")\n",
        "\n",
        "full_pipeline_cat = Pipeline([\n",
        "    ('transformer', transformer),\n",
        "    ('estimator', cat_model)\n",
        "])"
      ],
      "metadata": {
        "id": "Qac_nDmROkj4"
      },
      "execution_count": null,
      "outputs": []
    },
    {
      "cell_type": "code",
      "source": [
        "full_pipeline_cat.fit(X_train, y_train)"
      ],
      "metadata": {
        "id": "wD2dfCHi2LmD"
      },
      "execution_count": null,
      "outputs": []
    },
    {
      "cell_type": "code",
      "source": [
        "print(\"Train score:\", full_pipeline_cat.score(X_train, y_train))\n",
        "print(\"Test score:\", full_pipeline_cat.score(X_test, y_test))"
      ],
      "metadata": {
        "id": "KVSyF-z62MFP"
      },
      "execution_count": null,
      "outputs": []
    },
    {
      "cell_type": "code",
      "source": [
        "from sklearn.metrics import mean_squared_error, r2_score\n",
        "\n",
        "y_pred = full_pipeline_cat.predict(X_test)\n",
        "\n",
        "print(\"R2 Score:\", r2_score(y_test, y_pred))\n",
        "print(\"MSE:\", mean_squared_error(y_test, y_pred))\n"
      ],
      "metadata": {
        "id": "TsVAce2G2W7Q"
      },
      "execution_count": null,
      "outputs": []
    },
    {
      "cell_type": "code",
      "source": [
        "# from sklearn.model_selection import GridSearchCV\n",
        "\n",
        "# params = {\n",
        "#     'estimator__depth': [ 6, 8,10],\n",
        "#     'estimator__learning_rate': [0.01, 0.05, 0.1],\n",
        "#     'estimator__iterations': [300, 500, 700]\n",
        "# }\n",
        "\n",
        "# grid = GridSearchCV(full_pipeline_cat, param_grid=params, cv=3)\n",
        "# grid.fit(X_train, y_train)\n",
        "\n",
        "# print(\"Ən yaxşı nəticə:\", grid.best_score_)\n",
        "# print(\"Ən yaxşı parametrlər:\", grid.best_params_)\n"
      ],
      "metadata": {
        "id": "caNfD7_82cb9"
      },
      "execution_count": null,
      "outputs": []
    },
    {
      "cell_type": "code",
      "source": [
        "from sklearn.ensemble import VotingRegressor\n",
        "from xgboost import XGBRegressor\n",
        "from sklearn.ensemble import RandomForestRegressor\n",
        "\n",
        "voting = VotingRegressor([\n",
        "    ('cat', CatBoostRegressor(iterations=500, learning_rate=0.05, depth=5, verbose=0, random_state=42)),\n",
        "    ('xgb', XGBRegressor(n_estimators=300, learning_rate=0.05, max_depth=4, random_state=42)),\n",
        "    ('rf', RandomForestRegressor(n_estimators=200, max_depth=8, random_state=42))\n",
        "])\n",
        "\n",
        "final_pipeline = Pipeline([\n",
        "    ('transformer', transformer),\n",
        "    ('model', voting)\n",
        "])\n",
        "\n",
        "final_pipeline.fit(X_train, y_train)\n",
        "print(\"Test Score (VotingRegressor):\", final_pipeline.score(X_test, y_test))\n"
      ],
      "metadata": {
        "id": "7fukNtLv6h9S"
      },
      "execution_count": null,
      "outputs": []
    },
    {
      "cell_type": "code",
      "source": [
        "final_pipeline.score(X_train, y_train)"
      ],
      "metadata": {
        "id": "TxBh1CxE7VXR"
      },
      "execution_count": null,
      "outputs": []
    },
    {
      "cell_type": "code",
      "source": [
        "from sklearn.ensemble import StackingRegressor\n",
        "from sklearn.linear_model import RidgeCV\n",
        "from xgboost import XGBRegressor\n",
        "from catboost import CatBoostRegressor\n",
        "from sklearn.ensemble import RandomForestRegressor\n",
        "\n",
        "stack = StackingRegressor(\n",
        "    estimators=[\n",
        "        ('xgb', XGBRegressor(n_estimators=300, learning_rate=0.05, max_depth=4, random_state=42)),\n",
        "        ('cat', CatBoostRegressor(iterations=500, learning_rate=0.05, depth=5, verbose=0, random_state=42)),\n",
        "        ('rf', RandomForestRegressor(n_estimators=150, random_state=42))\n",
        "    ],\n",
        "    final_estimator=RidgeCV()\n",
        ")\n",
        "\n",
        "stack_pipeline = Pipeline([\n",
        "    ('transformer', transformer),\n",
        "    ('model', stack)\n",
        "])\n",
        "\n",
        "stack_pipeline.fit(X_train, y_train)\n",
        "\n",
        "print(\"Stacking Test Score:\", stack_pipeline.score(X_test, y_test))\n"
      ],
      "metadata": {
        "id": "OAX_5lnD8APJ"
      },
      "execution_count": null,
      "outputs": []
    },
    {
      "cell_type": "code",
      "source": [
        "stack_pipeline.score(X_train, y_train)"
      ],
      "metadata": {
        "id": "8D8UGAxG8AL0"
      },
      "execution_count": null,
      "outputs": []
    },
    {
      "cell_type": "code",
      "source": [
        "from imblearn.pipeline import Pipeline as ImbPipeline\n",
        "from imblearn.over_sampling import SMOTE\n",
        "from sklearn.compose import ColumnTransformer\n",
        "from sklearn.preprocessing import StandardScaler, OneHotEncoder\n",
        "from sklearn.ensemble import RandomForestClassifier\n",
        "from sklearn.impute import SimpleImputer\n",
        "from sklearn.pipeline import Pipeline\n",
        "\n",
        "\n",
        "num_features = X.select_dtypes(include=['int64', 'float64']).columns\n",
        "cat_features = X.select_dtypes(exclude=['int64', 'float64']).columns\n",
        "\n",
        "num_pipeline = Pipeline([\n",
        "    ('impute', SimpleImputer(strategy='median')),\n",
        "    ('scaler', StandardScaler())\n",
        "])\n",
        "\n",
        "cat_pipeline = Pipeline([\n",
        "    ('impute', SimpleImputer(strategy='most_frequent')),\n",
        "    ('encoder', OneHotEncoder(handle_unknown='ignore', sparse_output=False))\n",
        "])\n",
        "\n",
        "transformer = ColumnTransformer([\n",
        "    ('num', num_pipeline, num_features),\n",
        "    ('cat', cat_pipeline, cat_features)\n",
        "])\n",
        "\n",
        "\n",
        "pipeline = ImbPipeline([\n",
        "    ('transformer', transformer),\n",
        "    ('smote', SMOTE(random_state=42)),\n",
        "    ('classifier', RandomForestClassifier(random_state=42))\n",
        "])\n",
        "\n",
        "\n",
        "pipeline.fit(X_train, y_train)\n",
        "\n",
        "\n",
        "train_score = pipeline.score(X_train, y_train)\n",
        "test_score = pipeline.score(X_test, y_test)\n",
        "\n",
        "print(f\"Train score: {train_score}\")\n",
        "print(f\"Test score: {test_score}\")\n"
      ],
      "metadata": {
        "id": "J4rDmRoR-Xq-"
      },
      "execution_count": null,
      "outputs": []
    },
    {
      "cell_type": "code",
      "source": [
        "import lightgbm as lgb\n",
        "from imblearn.pipeline import Pipeline as ImbPipeline\n",
        "from imblearn.over_sampling import SMOTE\n",
        "from sklearn.compose import ColumnTransformer\n",
        "from sklearn.preprocessing import StandardScaler, OneHotEncoder\n",
        "from sklearn.impute import SimpleImputer\n",
        "from sklearn.model_selection import train_test_split\n",
        "from sklearn.metrics import classification_report\n",
        "import pandas as pd\n",
        "import numpy as np\n",
        "\n",
        "\n",
        "\n",
        "num_features = X.select_dtypes(include=['int64', 'float64']).columns\n",
        "cat_features = X.select_dtypes(exclude=['int64', 'float64']).columns\n",
        "\n",
        "\n",
        "num_pipeline = Pipeline([\n",
        "    ('impute', SimpleImputer(strategy='median')),\n",
        "    ('scaler', StandardScaler())\n",
        "])\n",
        "\n",
        "cat_pipeline = Pipeline([\n",
        "    ('impute', SimpleImputer(strategy='most_frequent')),\n",
        "    ('encoder', OneHotEncoder(handle_unknown='ignore', sparse_output=False))\n",
        "])\n",
        "\n",
        "transformer = ColumnTransformer([\n",
        "    ('num', num_pipeline, num_features),\n",
        "    ('cat', cat_pipeline, cat_features)\n",
        "])\n",
        "\n",
        "\n",
        "lgbm_clf = lgb.LGBMClassifier(\n",
        "    objective='multiclass',\n",
        "    num_class=len(y.unique()),\n",
        "    random_state=42,\n",
        "    n_estimators=500,\n",
        "    learning_rate=0.05,\n",
        "    class_weight='balanced'\n",
        ")\n",
        "\n",
        "\n",
        "pipeline = ImbPipeline([\n",
        "    ('transformer', transformer),\n",
        "    ('smote', SMOTE(random_state=42)),\n",
        "    ('classifier', lgbm_clf)\n",
        "])\n",
        "\n",
        "\n",
        "pipeline.fit(X_train, y_train)\n",
        "\n",
        "\n",
        "train_score = pipeline.score(X_train, y_train)\n",
        "test_score = pipeline.score(X_test, y_test)\n",
        "\n",
        "print(f\"Train accuracy: {train_score:.4f}\")\n",
        "print(f\"Test accuracy: {test_score:.4f}\")\n",
        "\n",
        "\n",
        "y_pred = pipeline.predict(X_test)\n",
        "print(classification_report(y_test, y_pred))\n"
      ],
      "metadata": {
        "id": "0raJiiX__tQ0"
      },
      "execution_count": null,
      "outputs": []
    },
    {
      "cell_type": "code",
      "source": [
        "!pip install catboost"
      ],
      "metadata": {
        "id": "-1HMbfaTCXIX"
      },
      "execution_count": null,
      "outputs": []
    },
    {
      "cell_type": "code",
      "source": [
        "from catboost import CatBoostClassifier\n",
        "from sklearn.model_selection import train_test_split\n",
        "from sklearn.metrics import accuracy_score, classification_report\n",
        "\n",
        "\n",
        "X_train, X_test, y_train, y_test = train_test_split(X, y, test_size=0.2, random_state=42)\n",
        "\n",
        "\n",
        "cat_features = X.select_dtypes(include=['object', 'category']).columns.tolist()\n",
        "\n",
        "\n",
        "cat_model = CatBoostClassifier(\n",
        "    iterations=1000,\n",
        "    learning_rate=0.05,\n",
        "    depth=6,\n",
        "    loss_function='MultiClass',\n",
        "    verbose=100,\n",
        "    random_seed=42\n",
        ")\n",
        "\n",
        "\n",
        "cat_model.fit(X_train, y_train, eval_set=(X_test, y_test), cat_features=cat_features, use_best_model=True)\n",
        "\n",
        "y_pred = cat_model.predict(X_test)\n",
        "\n",
        "\n",
        "print(\"Accuracy:\", accuracy_score(y_test, y_pred))\n",
        "print(classification_report(y_test, y_pred))\n"
      ],
      "metadata": {
        "id": "PBv7IJb0Cx00"
      },
      "execution_count": null,
      "outputs": []
    },
    {
      "cell_type": "code",
      "source": [
        "cat_model.score(X_train,y_train), cat_model.score(X_test,y_test)"
      ],
      "metadata": {
        "id": "wI-909GTCxyk"
      },
      "execution_count": null,
      "outputs": []
    }
  ]
}